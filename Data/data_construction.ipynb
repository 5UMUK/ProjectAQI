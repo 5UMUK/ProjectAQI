{
 "cells": [
  {
   "cell_type": "markdown",
   "metadata": {},
   "source": [
    "**Description:**\n",
    "\n",
    "We collect data from the EPA APIs over the period from 2000 to 2022. We extract the 'arithmetic_mean' values from the JSON responses and then calculate averages for each state and year. These values are subsequently filtered based on the pollutant standard with the longest available exposure. This resulting dataset is used for our data analysis and predictive modeling efforts.\n",
    "\n",
    "This dataset has been sourced from the following source: United States Environmental Protection Agency [https://www.epa.gov/outdoor-air-quality-data]\n",
    "\n",
    "Duration: 2002 - 2022\n",
    "\n",
    "This dataset provides estimates of outdoor concentrations for five pollutants (four gases: O3, CO, SO2, NO2; one aerosol: PM2.5) throughout the contiguous U.S."
   ]
  },
  {
   "cell_type": "code",
   "execution_count": 2,
   "metadata": {},
   "outputs": [],
   "source": [
    "import pandas as pd\n",
    "import requests\n",
    "from collections import defaultdict"
   ]
  },
  {
   "cell_type": "code",
   "execution_count": 3,
   "metadata": {},
   "outputs": [],
   "source": [
    "def get_data(years):    \n",
    "    for year in years:\n",
    "        for state_name, state_code in states.items():\n",
    "            state_avg_values = {\"Year\": year, \"State\": state_name}\n",
    "\n",
    "            for param_code, param_name in param_codes.items():\n",
    "                url = f\"{base_url}?email={email}&key={key}&param={param_code}&bdate={year}0101&edate={year}1231&state={state_code}\"\n",
    "\n",
    "                response = requests.get(url)\n",
    "\n",
    "                if response.status_code == 200:\n",
    "                    data = response.json()\n",
    "                    arith_mean_values = [record['arithmetic_mean'] for record in data['Data'] if record.get('pollutant_standard') in pollutant_standard]\n",
    "                    \n",
    "                    avg_value = sum(arith_mean_values) / len(arith_mean_values) if arith_mean_values else None\n",
    "\n",
    "                    \n",
    "                    state_avg_values[param_name] = avg_value\n",
    "\n",
    "            results.append(state_avg_values)"
   ]
  },
  {
   "cell_type": "code",
   "execution_count": 4,
   "metadata": {},
   "outputs": [],
   "source": [
    "base_url = \"https://aqs.epa.gov/data/api/annualData/byState\"\n",
    "email = \"ayushee.tbmun@gmail.com\"\n",
    "key = \"cobaltheron43\"\n",
    "\n",
    "param_codes = {\n",
    "    \"42101\": \"CO\",\n",
    "    \"42602\": \"NO2\",\n",
    "    \"42401\": \"SO2\",\n",
    "    \"44201\": \"O3\",\n",
    "    \"88101\": \"PM2.5\"\n",
    "}\n",
    "\n",
    "states = {\n",
    "    \"Alabama\": \"01\",\n",
    "    \"Arizona\": \"04\",\n",
    "    \"Arkansas\": \"05\",\n",
    "    \"California\": \"06\",\n",
    "    \"Colorado\": \"08\",\n",
    "    \"Connecticut\": \"09\",\n",
    "    \"Delaware\": \"10\",\n",
    "    \"District of Columbia\": \"12\",\n",
    "    \"Florida\": \"12\",\n",
    "    \"Georgia\": \"13\",\n",
    "    \"Idaho\": \"16\",\n",
    "    \"Illinois\": \"17\",\n",
    "    \"Indiana\": \"18\",\n",
    "    \"Iowa\": \"19\",\n",
    "    \"Kansas\": \"20\",\n",
    "    \"Kentucky\": \"21\",\n",
    "    \"Louisiana\": \"22\",\n",
    "    \"Maine\": \"23\",\n",
    "    \"Maryland\": \"24\",\n",
    "    \"Massachusetts\": \"25\",\n",
    "    \"Michigan\": \"26\",\n",
    "    \"Minnesota\": \"27\",\n",
    "    \"Mississippi\": \"28\",\n",
    "    \"Missouri\": \"29\",\n",
    "    \"Montana\": \"30\",\n",
    "    \"Nebraska\": \"31\",\n",
    "    \"Nevada\": \"32\",\n",
    "    \"New Hampshire\": \"33\",\n",
    "    \"New Jersey\": \"34\",\n",
    "    \"New Mexico\": \"35\",\n",
    "    \"New York\": \"36\",\n",
    "    \"North Carolina\": \"37\",\n",
    "    \"North Dakota\": \"38\",\n",
    "    \"Ohio\": \"39\",\n",
    "    \"Oklahoma\": \"40\",\n",
    "    \"Oregon\": \"41\",\n",
    "    \"Pennsylvania\": \"42\",\n",
    "    \"Rhode Island\": \"44\",\n",
    "    \"South Carolina\": \"45\",\n",
    "    \"South Dakota\": \"46\",\n",
    "    \"Tennessee\": \"47\",\n",
    "    \"Texas\": \"48\",\n",
    "    \"Utah\": \"49\",\n",
    "    \"Vermont\": \"50\",\n",
    "    \"Virginia\": \"51\",\n",
    "    \"Washington\": \"53\",\n",
    "    \"West Virginia\": \"54\",\n",
    "    \"Wisconsin\": \"55\",\n",
    "    \"Wyoming\": \"56\",\n",
    "}\n",
    "\n",
    "pollutant_standard = [\"CO 8-hour 1971\", \"Ozone 8-Hour 1997\", \"SO2 24-hour 1971\",\"PM25 24-hour 2012\", \"NO2 Annual 1971\"]\n",
    "\n",
    "average_results = defaultdict(dict)\n",
    "\n",
    "results = []"
   ]
  },
  {
   "cell_type": "code",
   "execution_count": 5,
   "metadata": {},
   "outputs": [],
   "source": [
    "years = [str(year) for year in range(2002, 2007)]\n",
    "get_data(years)"
   ]
  },
  {
   "cell_type": "code",
   "execution_count": 7,
   "metadata": {},
   "outputs": [],
   "source": [
    "years = [str(year) for year in range(2007, 2012)]\n",
    "get_data(years)"
   ]
  },
  {
   "cell_type": "code",
   "execution_count": 9,
   "metadata": {},
   "outputs": [],
   "source": [
    "years = [str(year) for year in range(2012, 2017)]\n",
    "get_data(years)"
   ]
  },
  {
   "cell_type": "code",
   "execution_count": 11,
   "metadata": {},
   "outputs": [],
   "source": [
    "years = [str(year) for year in range(2017, 2022)]\n",
    "get_data(years)"
   ]
  },
  {
   "cell_type": "code",
   "execution_count": null,
   "metadata": {},
   "outputs": [],
   "source": [
    "get_data([\"2022\"])"
   ]
  },
  {
   "cell_type": "code",
   "execution_count": 12,
   "metadata": {},
   "outputs": [],
   "source": [
    "df = pd.DataFrame(columns=[\"Year\", \"State\"] + list(param_codes.values()))\n",
    "df = df._append(results)\n",
    "df.to_csv(\"pollution_data.csv\", index=False)"
   ]
  }
 ],
 "metadata": {
  "kernelspec": {
   "display_name": "Python 3",
   "language": "python",
   "name": "python3"
  },
  "language_info": {
   "codemirror_mode": {
    "name": "ipython",
    "version": 3
   },
   "file_extension": ".py",
   "mimetype": "text/x-python",
   "name": "python",
   "nbconvert_exporter": "python",
   "pygments_lexer": "ipython3",
   "version": "3.11.4"
  }
 },
 "nbformat": 4,
 "nbformat_minor": 2
}
