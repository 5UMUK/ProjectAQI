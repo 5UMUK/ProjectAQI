{
 "cells": [
  {
   "cell_type": "markdown",
   "id": "e701cc21",
   "metadata": {},
   "source": [
    "#### Dataset 1\n",
    "This dataset has been sourced from the following source: Center for Air, Climate and Energy Solutions [https://www.caces.us/data]\n",
    "\n",
    "Duration: 2000 - 2015\n",
    "\n",
    "This dataset provides estimates of outdoor concentrations for seven pollutants (four gases: O3, CO, SO2, NO2; three aerosols: PM10, PM2.5, PN [particle number]) throughout the contiguous U.S. We've extracted the values of the four gases and PM2.5 for our purpose. More detailed information about the dataset can be found here - [https://www.caces.us/_files/ugd/342c07_ebb72126333c4fd7859e1702f288bafb.pdf]"
   ]
  },
  {
   "cell_type": "code",
   "execution_count": 3,
   "id": "a6cb80de",
   "metadata": {},
   "outputs": [],
   "source": [
    "import pandas as pd\n",
    "\n",
    "# Read the dataset into a DataFrame\n",
    "df_with_pollutants = pd.read_csv(\"PM2.5withpollutants.csv\")\n",
    "\n",
    "# Drop the 'fips' column\n",
    "df_with_pollutants = df_with_pollutants.drop(\"fips\", axis=1)"
   ]
  },
  {
   "cell_type": "code",
   "execution_count": 4,
   "id": "ed6dcdf9",
   "metadata": {},
   "outputs": [
    {
     "data": {
      "text/plain": [
       "(248640, 6)"
      ]
     },
     "execution_count": 4,
     "metadata": {},
     "output_type": "execute_result"
    }
   ],
   "source": [
    "df_with_pollutants.shape"
   ]
  },
  {
   "cell_type": "code",
   "execution_count": 5,
   "id": "b74d635b",
   "metadata": {},
   "outputs": [
    {
     "data": {
      "text/html": [
       "<div>\n",
       "<style scoped>\n",
       "    .dataframe tbody tr th:only-of-type {\n",
       "        vertical-align: middle;\n",
       "    }\n",
       "\n",
       "    .dataframe tbody tr th {\n",
       "        vertical-align: top;\n",
       "    }\n",
       "\n",
       "    .dataframe thead th {\n",
       "        text-align: right;\n",
       "    }\n",
       "</style>\n",
       "<table border=\"1\" class=\"dataframe\">\n",
       "  <thead>\n",
       "    <tr style=\"text-align: right;\">\n",
       "      <th></th>\n",
       "      <th>pollutant</th>\n",
       "      <th>year</th>\n",
       "      <th>pred_wght</th>\n",
       "      <th>state_abbr</th>\n",
       "      <th>lat</th>\n",
       "      <th>lon</th>\n",
       "    </tr>\n",
       "  </thead>\n",
       "  <tbody>\n",
       "    <tr>\n",
       "      <th>0</th>\n",
       "      <td>co</td>\n",
       "      <td>2000</td>\n",
       "      <td>0.342283</td>\n",
       "      <td>AL</td>\n",
       "      <td>32.500383</td>\n",
       "      <td>-86.494186</td>\n",
       "    </tr>\n",
       "    <tr>\n",
       "      <th>1</th>\n",
       "      <td>co</td>\n",
       "      <td>2000</td>\n",
       "      <td>0.322647</td>\n",
       "      <td>AL</td>\n",
       "      <td>30.548923</td>\n",
       "      <td>-87.762466</td>\n",
       "    </tr>\n",
       "    <tr>\n",
       "      <th>2</th>\n",
       "      <td>co</td>\n",
       "      <td>2000</td>\n",
       "      <td>0.302642</td>\n",
       "      <td>AL</td>\n",
       "      <td>31.844037</td>\n",
       "      <td>-85.309929</td>\n",
       "    </tr>\n",
       "    <tr>\n",
       "      <th>3</th>\n",
       "      <td>co</td>\n",
       "      <td>2000</td>\n",
       "      <td>0.308587</td>\n",
       "      <td>AL</td>\n",
       "      <td>33.030918</td>\n",
       "      <td>-87.127655</td>\n",
       "    </tr>\n",
       "    <tr>\n",
       "      <th>4</th>\n",
       "      <td>co</td>\n",
       "      <td>2000</td>\n",
       "      <td>0.331939</td>\n",
       "      <td>AL</td>\n",
       "      <td>33.955246</td>\n",
       "      <td>-86.591402</td>\n",
       "    </tr>\n",
       "  </tbody>\n",
       "</table>\n",
       "</div>"
      ],
      "text/plain": [
       "  pollutant  year  pred_wght state_abbr        lat        lon\n",
       "0        co  2000   0.342283         AL  32.500383 -86.494186\n",
       "1        co  2000   0.322647         AL  30.548923 -87.762466\n",
       "2        co  2000   0.302642         AL  31.844037 -85.309929\n",
       "3        co  2000   0.308587         AL  33.030918 -87.127655\n",
       "4        co  2000   0.331939         AL  33.955246 -86.591402"
      ]
     },
     "execution_count": 5,
     "metadata": {},
     "output_type": "execute_result"
    }
   ],
   "source": [
    "df_with_pollutants.head()"
   ]
  },
  {
   "cell_type": "code",
   "execution_count": 6,
   "id": "b76c6ef3",
   "metadata": {},
   "outputs": [],
   "source": [
    "# Drop 'lat' and 'lon' columns\n",
    "df_with_pollutants = df_with_pollutants.drop([\"lat\", \"lon\"], axis=1)\n",
    "\n",
    "# Group by 'pollutant', 'year', and 'state', and calculate the average of 'pred_wght'\n",
    "df_with_pollutants = (\n",
    "    df_with_pollutants.groupby([\"pollutant\", \"year\", \"state_abbr\"]).mean().reset_index()\n",
    ")"
   ]
  },
  {
   "cell_type": "code",
   "execution_count": 7,
   "id": "236037c5",
   "metadata": {},
   "outputs": [
    {
     "data": {
      "text/plain": [
       "(3840, 4)"
      ]
     },
     "execution_count": 7,
     "metadata": {},
     "output_type": "execute_result"
    }
   ],
   "source": [
    "df_with_pollutants.shape"
   ]
  },
  {
   "cell_type": "code",
   "execution_count": 8,
   "id": "49b21b07",
   "metadata": {},
   "outputs": [
    {
     "data": {
      "text/html": [
       "<div>\n",
       "<style scoped>\n",
       "    .dataframe tbody tr th:only-of-type {\n",
       "        vertical-align: middle;\n",
       "    }\n",
       "\n",
       "    .dataframe tbody tr th {\n",
       "        vertical-align: top;\n",
       "    }\n",
       "\n",
       "    .dataframe thead th {\n",
       "        text-align: right;\n",
       "    }\n",
       "</style>\n",
       "<table border=\"1\" class=\"dataframe\">\n",
       "  <thead>\n",
       "    <tr style=\"text-align: right;\">\n",
       "      <th></th>\n",
       "      <th>pollutant</th>\n",
       "      <th>year</th>\n",
       "      <th>state_abbr</th>\n",
       "      <th>pred_wght</th>\n",
       "    </tr>\n",
       "  </thead>\n",
       "  <tbody>\n",
       "    <tr>\n",
       "      <th>0</th>\n",
       "      <td>co</td>\n",
       "      <td>2000</td>\n",
       "      <td>AL</td>\n",
       "      <td>0.324396</td>\n",
       "    </tr>\n",
       "    <tr>\n",
       "      <th>1</th>\n",
       "      <td>co</td>\n",
       "      <td>2000</td>\n",
       "      <td>AR</td>\n",
       "      <td>0.327984</td>\n",
       "    </tr>\n",
       "    <tr>\n",
       "      <th>2</th>\n",
       "      <td>co</td>\n",
       "      <td>2000</td>\n",
       "      <td>AZ</td>\n",
       "      <td>0.422265</td>\n",
       "    </tr>\n",
       "    <tr>\n",
       "      <th>3</th>\n",
       "      <td>co</td>\n",
       "      <td>2000</td>\n",
       "      <td>CA</td>\n",
       "      <td>0.462393</td>\n",
       "    </tr>\n",
       "    <tr>\n",
       "      <th>4</th>\n",
       "      <td>co</td>\n",
       "      <td>2000</td>\n",
       "      <td>CO</td>\n",
       "      <td>0.383861</td>\n",
       "    </tr>\n",
       "  </tbody>\n",
       "</table>\n",
       "</div>"
      ],
      "text/plain": [
       "  pollutant  year state_abbr  pred_wght\n",
       "0        co  2000         AL   0.324396\n",
       "1        co  2000         AR   0.327984\n",
       "2        co  2000         AZ   0.422265\n",
       "3        co  2000         CA   0.462393\n",
       "4        co  2000         CO   0.383861"
      ]
     },
     "execution_count": 8,
     "metadata": {},
     "output_type": "execute_result"
    }
   ],
   "source": [
    "df_with_pollutants.head()"
   ]
  },
  {
   "cell_type": "code",
   "execution_count": 9,
   "id": "56f7e817",
   "metadata": {},
   "outputs": [
    {
     "data": {
      "text/plain": [
       "array(['co', 'no2', 'o3', 'pm25', 'so2'], dtype=object)"
      ]
     },
     "execution_count": 9,
     "metadata": {},
     "output_type": "execute_result"
    }
   ],
   "source": [
    "df_with_pollutants[\"pollutant\"].unique()"
   ]
  },
  {
   "cell_type": "code",
   "execution_count": 10,
   "id": "23e015e3",
   "metadata": {
    "scrolled": true
   },
   "outputs": [],
   "source": [
    "# Pivot the DataFrame to have pollutants as columns\n",
    "df_with_pollutants = df_with_pollutants.pivot(\n",
    "    index=[\"year\", \"state_abbr\"], columns=\"pollutant\", values=\"pred_wght\"\n",
    ").reset_index()\n",
    "\n",
    "# Rename the columns\n",
    "df_with_pollutants.columns.name = None\n",
    "\n",
    "# Fill any NaN values with 0 if needed\n",
    "df_with_pollutants = df_with_pollutants.fillna(0)"
   ]
  },
  {
   "cell_type": "code",
   "execution_count": 11,
   "id": "ea08b674",
   "metadata": {},
   "outputs": [
    {
     "data": {
      "text/html": [
       "<div>\n",
       "<style scoped>\n",
       "    .dataframe tbody tr th:only-of-type {\n",
       "        vertical-align: middle;\n",
       "    }\n",
       "\n",
       "    .dataframe tbody tr th {\n",
       "        vertical-align: top;\n",
       "    }\n",
       "\n",
       "    .dataframe thead th {\n",
       "        text-align: right;\n",
       "    }\n",
       "</style>\n",
       "<table border=\"1\" class=\"dataframe\">\n",
       "  <thead>\n",
       "    <tr style=\"text-align: right;\">\n",
       "      <th></th>\n",
       "      <th>year</th>\n",
       "      <th>state_abbr</th>\n",
       "      <th>co</th>\n",
       "      <th>no2</th>\n",
       "      <th>o3</th>\n",
       "      <th>pm25</th>\n",
       "      <th>so2</th>\n",
       "    </tr>\n",
       "  </thead>\n",
       "  <tbody>\n",
       "    <tr>\n",
       "      <th>0</th>\n",
       "      <td>2000</td>\n",
       "      <td>AL</td>\n",
       "      <td>0.324396</td>\n",
       "      <td>5.983593</td>\n",
       "      <td>57.601273</td>\n",
       "      <td>15.064598</td>\n",
       "      <td>3.251818</td>\n",
       "    </tr>\n",
       "    <tr>\n",
       "      <th>1</th>\n",
       "      <td>2000</td>\n",
       "      <td>AR</td>\n",
       "      <td>0.327984</td>\n",
       "      <td>6.059882</td>\n",
       "      <td>53.942551</td>\n",
       "      <td>12.076962</td>\n",
       "      <td>2.859271</td>\n",
       "    </tr>\n",
       "    <tr>\n",
       "      <th>2</th>\n",
       "      <td>2000</td>\n",
       "      <td>AZ</td>\n",
       "      <td>0.422265</td>\n",
       "      <td>9.915901</td>\n",
       "      <td>58.282240</td>\n",
       "      <td>7.400383</td>\n",
       "      <td>2.343078</td>\n",
       "    </tr>\n",
       "    <tr>\n",
       "      <th>3</th>\n",
       "      <td>2000</td>\n",
       "      <td>CA</td>\n",
       "      <td>0.462393</td>\n",
       "      <td>10.756098</td>\n",
       "      <td>48.635815</td>\n",
       "      <td>10.896779</td>\n",
       "      <td>1.930857</td>\n",
       "    </tr>\n",
       "    <tr>\n",
       "      <th>4</th>\n",
       "      <td>2000</td>\n",
       "      <td>CO</td>\n",
       "      <td>0.383861</td>\n",
       "      <td>8.429847</td>\n",
       "      <td>59.836639</td>\n",
       "      <td>5.501561</td>\n",
       "      <td>2.511782</td>\n",
       "    </tr>\n",
       "  </tbody>\n",
       "</table>\n",
       "</div>"
      ],
      "text/plain": [
       "   year state_abbr        co        no2         o3       pm25       so2\n",
       "0  2000         AL  0.324396   5.983593  57.601273  15.064598  3.251818\n",
       "1  2000         AR  0.327984   6.059882  53.942551  12.076962  2.859271\n",
       "2  2000         AZ  0.422265   9.915901  58.282240   7.400383  2.343078\n",
       "3  2000         CA  0.462393  10.756098  48.635815  10.896779  1.930857\n",
       "4  2000         CO  0.383861   8.429847  59.836639   5.501561  2.511782"
      ]
     },
     "execution_count": 11,
     "metadata": {},
     "output_type": "execute_result"
    }
   ],
   "source": [
    "df_with_pollutants.head()"
   ]
  },
  {
   "cell_type": "code",
   "execution_count": 12,
   "id": "fe3d8e28",
   "metadata": {},
   "outputs": [],
   "source": [
    "# Create a dictionary to map state abbreviations to state names\n",
    "state_mapping = {\n",
    "    \"AL\": \"Alabama\",\n",
    "    \"AK\": \"Alaska\",\n",
    "    \"AZ\": \"Arizona\",\n",
    "    \"AR\": \"Arkansas\",\n",
    "    \"CA\": \"California\",\n",
    "    \"CO\": \"Colorado\",\n",
    "    \"CT\": \"Connecticut\",\n",
    "    \"DE\": \"Delaware\",\n",
    "    \"DC\": \"District of Columbia\",\n",
    "    \"FL\": \"Florida\",\n",
    "    \"GA\": \"Georgia\",\n",
    "    \"HI\": \"Hawaii\",\n",
    "    \"ID\": \"Idaho\",\n",
    "    \"IL\": \"Illinois\",\n",
    "    \"IN\": \"Indiana\",\n",
    "    \"IA\": \"Iowa\",\n",
    "    \"KS\": \"Kansas\",\n",
    "    \"KY\": \"Kentucky\",\n",
    "    \"LA\": \"Louisiana\",\n",
    "    \"ME\": \"Maine\",\n",
    "    \"MD\": \"Maryland\",\n",
    "    \"MA\": \"Massachusetts\",\n",
    "    \"MI\": \"Michigan\",\n",
    "    \"MN\": \"Minnesota\",\n",
    "    \"MS\": \"Mississippi\",\n",
    "    \"MO\": \"Missouri\",\n",
    "    \"MT\": \"Montana\",\n",
    "    \"NE\": \"Nebraska\",\n",
    "    \"NV\": \"Nevada\",\n",
    "    \"NH\": \"New Hampshire\",\n",
    "    \"NJ\": \"New Jersey\",\n",
    "    \"NM\": \"New Mexico\",\n",
    "    \"NY\": \"New York\",\n",
    "    \"NC\": \"North Carolina\",\n",
    "    \"ND\": \"North Dakota\",\n",
    "    \"OH\": \"Ohio\",\n",
    "    \"OK\": \"Oklahoma\",\n",
    "    \"OR\": \"Oregon\",\n",
    "    \"PA\": \"Pennsylvania\",\n",
    "    \"RI\": \"Rhode Island\",\n",
    "    \"SC\": \"South Carolina\",\n",
    "    \"SD\": \"South Dakota\",\n",
    "    \"TN\": \"Tennessee\",\n",
    "    \"TX\": \"Texas\",\n",
    "    \"UT\": \"Utah\",\n",
    "    \"VT\": \"Vermont\",\n",
    "    \"VA\": \"Virginia\",\n",
    "    \"WA\": \"Washington\",\n",
    "    \"WV\": \"West Virginia\",\n",
    "    \"WI\": \"Wisconsin\",\n",
    "    \"WY\": \"Wyoming\",\n",
    "    \"AS\": \"American Samoa\",\n",
    "    \"GU\": \"Guam\",\n",
    "    \"MP\": \"Northern Mariana Islands\",\n",
    "    \"PR\": \"Puerto Rico\",\n",
    "    \"VI\": \"Virgin Islands\",\n",
    "    \"TT\": \"Trust Territories\",\n",
    "}\n",
    "# Replace 'state_abbr' with state names using the mapping\n",
    "df_with_pollutants[\"state_abbr\"] = df_with_pollutants[\"state_abbr\"].map(state_mapping)"
   ]
  },
  {
   "cell_type": "code",
   "execution_count": 13,
   "id": "836c965b",
   "metadata": {},
   "outputs": [],
   "source": [
    "# Rename the 'state_abbr' column to 'State'\n",
    "df_with_pollutants.rename(columns={\"state_abbr\": \"State\"}, inplace=True)"
   ]
  },
  {
   "cell_type": "code",
   "execution_count": 14,
   "id": "26f9b70b",
   "metadata": {},
   "outputs": [
    {
     "data": {
      "text/html": [
       "<div>\n",
       "<style scoped>\n",
       "    .dataframe tbody tr th:only-of-type {\n",
       "        vertical-align: middle;\n",
       "    }\n",
       "\n",
       "    .dataframe tbody tr th {\n",
       "        vertical-align: top;\n",
       "    }\n",
       "\n",
       "    .dataframe thead th {\n",
       "        text-align: right;\n",
       "    }\n",
       "</style>\n",
       "<table border=\"1\" class=\"dataframe\">\n",
       "  <thead>\n",
       "    <tr style=\"text-align: right;\">\n",
       "      <th></th>\n",
       "      <th>year</th>\n",
       "      <th>State</th>\n",
       "      <th>co</th>\n",
       "      <th>no2</th>\n",
       "      <th>o3</th>\n",
       "      <th>pm25</th>\n",
       "      <th>so2</th>\n",
       "    </tr>\n",
       "  </thead>\n",
       "  <tbody>\n",
       "    <tr>\n",
       "      <th>0</th>\n",
       "      <td>2000</td>\n",
       "      <td>Alabama</td>\n",
       "      <td>0.324396</td>\n",
       "      <td>5.983593</td>\n",
       "      <td>57.601273</td>\n",
       "      <td>15.064598</td>\n",
       "      <td>3.251818</td>\n",
       "    </tr>\n",
       "    <tr>\n",
       "      <th>1</th>\n",
       "      <td>2000</td>\n",
       "      <td>Arkansas</td>\n",
       "      <td>0.327984</td>\n",
       "      <td>6.059882</td>\n",
       "      <td>53.942551</td>\n",
       "      <td>12.076962</td>\n",
       "      <td>2.859271</td>\n",
       "    </tr>\n",
       "    <tr>\n",
       "      <th>2</th>\n",
       "      <td>2000</td>\n",
       "      <td>Arizona</td>\n",
       "      <td>0.422265</td>\n",
       "      <td>9.915901</td>\n",
       "      <td>58.282240</td>\n",
       "      <td>7.400383</td>\n",
       "      <td>2.343078</td>\n",
       "    </tr>\n",
       "    <tr>\n",
       "      <th>3</th>\n",
       "      <td>2000</td>\n",
       "      <td>California</td>\n",
       "      <td>0.462393</td>\n",
       "      <td>10.756098</td>\n",
       "      <td>48.635815</td>\n",
       "      <td>10.896779</td>\n",
       "      <td>1.930857</td>\n",
       "    </tr>\n",
       "    <tr>\n",
       "      <th>4</th>\n",
       "      <td>2000</td>\n",
       "      <td>Colorado</td>\n",
       "      <td>0.383861</td>\n",
       "      <td>8.429847</td>\n",
       "      <td>59.836639</td>\n",
       "      <td>5.501561</td>\n",
       "      <td>2.511782</td>\n",
       "    </tr>\n",
       "  </tbody>\n",
       "</table>\n",
       "</div>"
      ],
      "text/plain": [
       "   year       State        co        no2         o3       pm25       so2\n",
       "0  2000     Alabama  0.324396   5.983593  57.601273  15.064598  3.251818\n",
       "1  2000    Arkansas  0.327984   6.059882  53.942551  12.076962  2.859271\n",
       "2  2000     Arizona  0.422265   9.915901  58.282240   7.400383  2.343078\n",
       "3  2000  California  0.462393  10.756098  48.635815  10.896779  1.930857\n",
       "4  2000    Colorado  0.383861   8.429847  59.836639   5.501561  2.511782"
      ]
     },
     "execution_count": 14,
     "metadata": {},
     "output_type": "execute_result"
    }
   ],
   "source": [
    "df_with_pollutants.head()"
   ]
  },
  {
   "cell_type": "code",
   "execution_count": 15,
   "id": "fa8fbb0d",
   "metadata": {},
   "outputs": [],
   "source": [
    "df_with_pollutants.rename(\n",
    "    columns={\n",
    "        \"pm25\": \"PM2.5\",\n",
    "        \"co\": \"CO\",\n",
    "        \"so2\": \"SO2\",\n",
    "        \"o3\": \"O3\",\n",
    "        \"no2\": \"NO2\",\n",
    "        \"year\": \"Year\",\n",
    "    },\n",
    "    inplace=True,\n",
    ")"
   ]
  },
  {
   "cell_type": "code",
   "execution_count": 16,
   "id": "b4e5b8c2",
   "metadata": {},
   "outputs": [],
   "source": [
    "# Convert and save the merged_df to a CSV file\n",
    "df_with_pollutants.to_csv(\"pollutant_dataset.csv\", index=False)"
   ]
  }
 ],
 "metadata": {
  "kernelspec": {
   "display_name": "Python 3 (ipykernel)",
   "language": "python",
   "name": "python3"
  },
  "language_info": {
   "codemirror_mode": {
    "name": "ipython",
    "version": 3
   },
   "file_extension": ".py",
   "mimetype": "text/x-python",
   "name": "python",
   "nbconvert_exporter": "python",
   "pygments_lexer": "ipython3",
   "version": "3.11.4"
  }
 },
 "nbformat": 4,
 "nbformat_minor": 5
}
