{
 "cells": [
  {
   "cell_type": "code",
   "execution_count": 48,
   "id": "bf7473df",
   "metadata": {},
   "outputs": [],
   "source": [
    "import pandas as pd\n",
    "\n",
    "# Read the TXT file\n",
    "df_lung_cancer = pd.read_csv('United States and Puerto Rico Cancer Statistics, 1999-2020 Mortality.txt', delimiter='\\t')  # Change delimiter to match your file\n",
    "\n",
    "# Save as CSV\n",
    "df_lung_cancer.to_csv('Lung_Cancer.csv', index=False)\n"
   ]
  },
  {
   "cell_type": "code",
   "execution_count": 49,
   "id": "a6cb80de",
   "metadata": {},
   "outputs": [],
   "source": [
    "import pandas as pd\n",
    "\n",
    "# Read the dataset into a DataFrame\n",
    "df_with_pollutants = pd.read_csv('PM2.5withpollutants.csv')\n",
    "\n",
    "# Drop the 'fips' column\n",
    "df_with_pollutants = df_with_pollutants.drop('fips', axis=1)\n"
   ]
  },
  {
   "cell_type": "code",
   "execution_count": 50,
   "id": "fbe8baaf",
   "metadata": {},
   "outputs": [],
   "source": [
    "df_lung_cancer = df_lung_cancer.drop('Notes', axis=1)"
   ]
  },
  {
   "cell_type": "code",
   "execution_count": 51,
   "id": "997ef000",
   "metadata": {
    "scrolled": true
   },
   "outputs": [
    {
     "data": {
      "text/html": [
       "<div>\n",
       "<style scoped>\n",
       "    .dataframe tbody tr th:only-of-type {\n",
       "        vertical-align: middle;\n",
       "    }\n",
       "\n",
       "    .dataframe tbody tr th {\n",
       "        vertical-align: top;\n",
       "    }\n",
       "\n",
       "    .dataframe thead th {\n",
       "        text-align: right;\n",
       "    }\n",
       "</style>\n",
       "<table border=\"1\" class=\"dataframe\">\n",
       "  <thead>\n",
       "    <tr style=\"text-align: right;\">\n",
       "      <th></th>\n",
       "      <th>Cancer Sites</th>\n",
       "      <th>Cancer Sites Code</th>\n",
       "      <th>State</th>\n",
       "      <th>State Code</th>\n",
       "      <th>Year</th>\n",
       "      <th>Year Code</th>\n",
       "      <th>Deaths</th>\n",
       "    </tr>\n",
       "  </thead>\n",
       "  <tbody>\n",
       "    <tr>\n",
       "      <th>0</th>\n",
       "      <td>Respiratory System</td>\n",
       "      <td>22010-22060</td>\n",
       "      <td>Alabama</td>\n",
       "      <td>1.0</td>\n",
       "      <td>1999.0</td>\n",
       "      <td>1999.0</td>\n",
       "      <td>2920.0</td>\n",
       "    </tr>\n",
       "    <tr>\n",
       "      <th>1</th>\n",
       "      <td>Respiratory System</td>\n",
       "      <td>22010-22060</td>\n",
       "      <td>Alabama</td>\n",
       "      <td>1.0</td>\n",
       "      <td>2000.0</td>\n",
       "      <td>2000.0</td>\n",
       "      <td>3064.0</td>\n",
       "    </tr>\n",
       "    <tr>\n",
       "      <th>2</th>\n",
       "      <td>Respiratory System</td>\n",
       "      <td>22010-22060</td>\n",
       "      <td>Alabama</td>\n",
       "      <td>1.0</td>\n",
       "      <td>2001.0</td>\n",
       "      <td>2001.0</td>\n",
       "      <td>2995.0</td>\n",
       "    </tr>\n",
       "    <tr>\n",
       "      <th>3</th>\n",
       "      <td>Respiratory System</td>\n",
       "      <td>22010-22060</td>\n",
       "      <td>Alabama</td>\n",
       "      <td>1.0</td>\n",
       "      <td>2002.0</td>\n",
       "      <td>2002.0</td>\n",
       "      <td>3067.0</td>\n",
       "    </tr>\n",
       "    <tr>\n",
       "      <th>4</th>\n",
       "      <td>Respiratory System</td>\n",
       "      <td>22010-22060</td>\n",
       "      <td>Alabama</td>\n",
       "      <td>1.0</td>\n",
       "      <td>2003.0</td>\n",
       "      <td>2003.0</td>\n",
       "      <td>3188.0</td>\n",
       "    </tr>\n",
       "  </tbody>\n",
       "</table>\n",
       "</div>"
      ],
      "text/plain": [
       "         Cancer Sites Cancer Sites Code    State  State Code    Year  \\\n",
       "0  Respiratory System       22010-22060  Alabama         1.0  1999.0   \n",
       "1  Respiratory System       22010-22060  Alabama         1.0  2000.0   \n",
       "2  Respiratory System       22010-22060  Alabama         1.0  2001.0   \n",
       "3  Respiratory System       22010-22060  Alabama         1.0  2002.0   \n",
       "4  Respiratory System       22010-22060  Alabama         1.0  2003.0   \n",
       "\n",
       "   Year Code  Deaths  \n",
       "0     1999.0  2920.0  \n",
       "1     2000.0  3064.0  \n",
       "2     2001.0  2995.0  \n",
       "3     2002.0  3067.0  \n",
       "4     2003.0  3188.0  "
      ]
     },
     "execution_count": 51,
     "metadata": {},
     "output_type": "execute_result"
    }
   ],
   "source": [
    "df_lung_cancer.head()"
   ]
  },
  {
   "cell_type": "code",
   "execution_count": 52,
   "id": "dc89a22a",
   "metadata": {
    "scrolled": true
   },
   "outputs": [
    {
     "data": {
      "text/plain": [
       "(1167, 7)"
      ]
     },
     "execution_count": 52,
     "metadata": {},
     "output_type": "execute_result"
    }
   ],
   "source": [
    "df_lung_cancer.shape"
   ]
  },
  {
   "cell_type": "code",
   "execution_count": 53,
   "id": "685df917",
   "metadata": {
    "scrolled": true
   },
   "outputs": [
    {
     "data": {
      "text/plain": [
       "Cancer Sites            1\n",
       "Cancer Sites Code       1\n",
       "State                  51\n",
       "State Code             51\n",
       "Year                   22\n",
       "Year Code              22\n",
       "Deaths               1004\n",
       "dtype: int64"
      ]
     },
     "execution_count": 53,
     "metadata": {},
     "output_type": "execute_result"
    }
   ],
   "source": [
    "df_lung_cancer.nunique()"
   ]
  },
  {
   "cell_type": "code",
   "execution_count": 54,
   "id": "9c6ca0c3",
   "metadata": {},
   "outputs": [],
   "source": [
    "\n",
    "# Drop the specified columns\n",
    "columns_to_drop = ['Cancer Sites', 'Cancer Sites Code', 'State Code', 'Year Code']\n",
    "df_lung_cancer = df_lung_cancer.drop(columns=columns_to_drop)\n"
   ]
  },
  {
   "cell_type": "code",
   "execution_count": 55,
   "id": "d0889841",
   "metadata": {},
   "outputs": [
    {
     "data": {
      "text/plain": [
       "State      object\n",
       "Year      float64\n",
       "Deaths    float64\n",
       "dtype: object"
      ]
     },
     "execution_count": 55,
     "metadata": {},
     "output_type": "execute_result"
    }
   ],
   "source": [
    "df_lung_cancer.dtypes"
   ]
  },
  {
   "cell_type": "code",
   "execution_count": 56,
   "id": "51431301",
   "metadata": {},
   "outputs": [
    {
     "data": {
      "text/plain": [
       "State     45\n",
       "Year      45\n",
       "Deaths    45\n",
       "dtype: int64"
      ]
     },
     "execution_count": 56,
     "metadata": {},
     "output_type": "execute_result"
    }
   ],
   "source": [
    "df_lung_cancer.isnull().sum()"
   ]
  },
  {
   "cell_type": "code",
   "execution_count": 57,
   "id": "7a261d06",
   "metadata": {},
   "outputs": [
    {
     "data": {
      "text/plain": [
       "array([1999., 2000., 2001., 2002., 2003., 2004., 2005., 2006., 2007.,\n",
       "       2008., 2009., 2010., 2011., 2012., 2013., 2014., 2015., 2016.,\n",
       "       2017., 2018., 2019., 2020.,   nan])"
      ]
     },
     "execution_count": 57,
     "metadata": {},
     "output_type": "execute_result"
    }
   ],
   "source": [
    "\n",
    "df_lung_cancer['Year'].unique()\n"
   ]
  },
  {
   "cell_type": "code",
   "execution_count": 58,
   "id": "c68a2eba",
   "metadata": {},
   "outputs": [],
   "source": [
    "\n",
    "df_lung_cancer = df_lung_cancer.dropna(subset=['Year'])\n"
   ]
  },
  {
   "cell_type": "code",
   "execution_count": 59,
   "id": "a4fd50e8",
   "metadata": {},
   "outputs": [
    {
     "data": {
      "text/plain": [
       "State     0\n",
       "Year      0\n",
       "Deaths    0\n",
       "dtype: int64"
      ]
     },
     "execution_count": 59,
     "metadata": {},
     "output_type": "execute_result"
    }
   ],
   "source": [
    "df_lung_cancer.isnull().sum()"
   ]
  },
  {
   "cell_type": "code",
   "execution_count": 60,
   "id": "beba1ee5",
   "metadata": {},
   "outputs": [],
   "source": [
    "# Convert the 'Year' column from float to int\n",
    "df_lung_cancer['Year'] = df_lung_cancer['Year'].astype(int)\n"
   ]
  },
  {
   "cell_type": "code",
   "execution_count": 61,
   "id": "02ab07ec",
   "metadata": {},
   "outputs": [
    {
     "data": {
      "text/html": [
       "<div>\n",
       "<style scoped>\n",
       "    .dataframe tbody tr th:only-of-type {\n",
       "        vertical-align: middle;\n",
       "    }\n",
       "\n",
       "    .dataframe tbody tr th {\n",
       "        vertical-align: top;\n",
       "    }\n",
       "\n",
       "    .dataframe thead th {\n",
       "        text-align: right;\n",
       "    }\n",
       "</style>\n",
       "<table border=\"1\" class=\"dataframe\">\n",
       "  <thead>\n",
       "    <tr style=\"text-align: right;\">\n",
       "      <th></th>\n",
       "      <th>State</th>\n",
       "      <th>Year</th>\n",
       "      <th>Deaths</th>\n",
       "    </tr>\n",
       "  </thead>\n",
       "  <tbody>\n",
       "    <tr>\n",
       "      <th>0</th>\n",
       "      <td>Alabama</td>\n",
       "      <td>1999</td>\n",
       "      <td>2920.0</td>\n",
       "    </tr>\n",
       "    <tr>\n",
       "      <th>1</th>\n",
       "      <td>Alabama</td>\n",
       "      <td>2000</td>\n",
       "      <td>3064.0</td>\n",
       "    </tr>\n",
       "    <tr>\n",
       "      <th>2</th>\n",
       "      <td>Alabama</td>\n",
       "      <td>2001</td>\n",
       "      <td>2995.0</td>\n",
       "    </tr>\n",
       "    <tr>\n",
       "      <th>3</th>\n",
       "      <td>Alabama</td>\n",
       "      <td>2002</td>\n",
       "      <td>3067.0</td>\n",
       "    </tr>\n",
       "    <tr>\n",
       "      <th>4</th>\n",
       "      <td>Alabama</td>\n",
       "      <td>2003</td>\n",
       "      <td>3188.0</td>\n",
       "    </tr>\n",
       "  </tbody>\n",
       "</table>\n",
       "</div>"
      ],
      "text/plain": [
       "     State  Year  Deaths\n",
       "0  Alabama  1999  2920.0\n",
       "1  Alabama  2000  3064.0\n",
       "2  Alabama  2001  2995.0\n",
       "3  Alabama  2002  3067.0\n",
       "4  Alabama  2003  3188.0"
      ]
     },
     "execution_count": 61,
     "metadata": {},
     "output_type": "execute_result"
    }
   ],
   "source": [
    "df_lung_cancer.head()"
   ]
  },
  {
   "cell_type": "code",
   "execution_count": 62,
   "id": "ed6dcdf9",
   "metadata": {},
   "outputs": [
    {
     "data": {
      "text/plain": [
       "(248640, 6)"
      ]
     },
     "execution_count": 62,
     "metadata": {},
     "output_type": "execute_result"
    }
   ],
   "source": [
    "df_with_pollutants.shape"
   ]
  },
  {
   "cell_type": "code",
   "execution_count": 63,
   "id": "b74d635b",
   "metadata": {},
   "outputs": [
    {
     "data": {
      "text/html": [
       "<div>\n",
       "<style scoped>\n",
       "    .dataframe tbody tr th:only-of-type {\n",
       "        vertical-align: middle;\n",
       "    }\n",
       "\n",
       "    .dataframe tbody tr th {\n",
       "        vertical-align: top;\n",
       "    }\n",
       "\n",
       "    .dataframe thead th {\n",
       "        text-align: right;\n",
       "    }\n",
       "</style>\n",
       "<table border=\"1\" class=\"dataframe\">\n",
       "  <thead>\n",
       "    <tr style=\"text-align: right;\">\n",
       "      <th></th>\n",
       "      <th>pollutant</th>\n",
       "      <th>year</th>\n",
       "      <th>pred_wght</th>\n",
       "      <th>state_abbr</th>\n",
       "      <th>lat</th>\n",
       "      <th>lon</th>\n",
       "    </tr>\n",
       "  </thead>\n",
       "  <tbody>\n",
       "    <tr>\n",
       "      <th>0</th>\n",
       "      <td>co</td>\n",
       "      <td>2000</td>\n",
       "      <td>0.342283</td>\n",
       "      <td>AL</td>\n",
       "      <td>32.500383</td>\n",
       "      <td>-86.494186</td>\n",
       "    </tr>\n",
       "    <tr>\n",
       "      <th>1</th>\n",
       "      <td>co</td>\n",
       "      <td>2000</td>\n",
       "      <td>0.322647</td>\n",
       "      <td>AL</td>\n",
       "      <td>30.548923</td>\n",
       "      <td>-87.762466</td>\n",
       "    </tr>\n",
       "    <tr>\n",
       "      <th>2</th>\n",
       "      <td>co</td>\n",
       "      <td>2000</td>\n",
       "      <td>0.302642</td>\n",
       "      <td>AL</td>\n",
       "      <td>31.844037</td>\n",
       "      <td>-85.309929</td>\n",
       "    </tr>\n",
       "    <tr>\n",
       "      <th>3</th>\n",
       "      <td>co</td>\n",
       "      <td>2000</td>\n",
       "      <td>0.308587</td>\n",
       "      <td>AL</td>\n",
       "      <td>33.030918</td>\n",
       "      <td>-87.127655</td>\n",
       "    </tr>\n",
       "    <tr>\n",
       "      <th>4</th>\n",
       "      <td>co</td>\n",
       "      <td>2000</td>\n",
       "      <td>0.331939</td>\n",
       "      <td>AL</td>\n",
       "      <td>33.955246</td>\n",
       "      <td>-86.591402</td>\n",
       "    </tr>\n",
       "  </tbody>\n",
       "</table>\n",
       "</div>"
      ],
      "text/plain": [
       "  pollutant  year  pred_wght state_abbr        lat        lon\n",
       "0        co  2000   0.342283         AL  32.500383 -86.494186\n",
       "1        co  2000   0.322647         AL  30.548923 -87.762466\n",
       "2        co  2000   0.302642         AL  31.844037 -85.309929\n",
       "3        co  2000   0.308587         AL  33.030918 -87.127655\n",
       "4        co  2000   0.331939         AL  33.955246 -86.591402"
      ]
     },
     "execution_count": 63,
     "metadata": {},
     "output_type": "execute_result"
    }
   ],
   "source": [
    "df_with_pollutants.head()"
   ]
  },
  {
   "cell_type": "code",
   "execution_count": 64,
   "id": "b76c6ef3",
   "metadata": {},
   "outputs": [],
   "source": [
    "# Drop 'lat' and 'lon' columns\n",
    "df_with_pollutants = df_with_pollutants.drop(['lat', 'lon'], axis=1)\n",
    "\n",
    "# Group by 'pollutant', 'year', and 'state', and calculate the average of 'pred_wght'\n",
    "df_with_pollutants = df_with_pollutants.groupby(['pollutant', 'year', 'state_abbr']).mean().reset_index()"
   ]
  },
  {
   "cell_type": "code",
   "execution_count": 65,
   "id": "236037c5",
   "metadata": {},
   "outputs": [
    {
     "data": {
      "text/plain": [
       "(3840, 4)"
      ]
     },
     "execution_count": 65,
     "metadata": {},
     "output_type": "execute_result"
    }
   ],
   "source": [
    "df_with_pollutants.shape"
   ]
  },
  {
   "cell_type": "code",
   "execution_count": 66,
   "id": "49b21b07",
   "metadata": {},
   "outputs": [
    {
     "data": {
      "text/html": [
       "<div>\n",
       "<style scoped>\n",
       "    .dataframe tbody tr th:only-of-type {\n",
       "        vertical-align: middle;\n",
       "    }\n",
       "\n",
       "    .dataframe tbody tr th {\n",
       "        vertical-align: top;\n",
       "    }\n",
       "\n",
       "    .dataframe thead th {\n",
       "        text-align: right;\n",
       "    }\n",
       "</style>\n",
       "<table border=\"1\" class=\"dataframe\">\n",
       "  <thead>\n",
       "    <tr style=\"text-align: right;\">\n",
       "      <th></th>\n",
       "      <th>pollutant</th>\n",
       "      <th>year</th>\n",
       "      <th>state_abbr</th>\n",
       "      <th>pred_wght</th>\n",
       "    </tr>\n",
       "  </thead>\n",
       "  <tbody>\n",
       "    <tr>\n",
       "      <th>0</th>\n",
       "      <td>co</td>\n",
       "      <td>2000</td>\n",
       "      <td>AL</td>\n",
       "      <td>0.324396</td>\n",
       "    </tr>\n",
       "    <tr>\n",
       "      <th>1</th>\n",
       "      <td>co</td>\n",
       "      <td>2000</td>\n",
       "      <td>AR</td>\n",
       "      <td>0.327984</td>\n",
       "    </tr>\n",
       "    <tr>\n",
       "      <th>2</th>\n",
       "      <td>co</td>\n",
       "      <td>2000</td>\n",
       "      <td>AZ</td>\n",
       "      <td>0.422265</td>\n",
       "    </tr>\n",
       "    <tr>\n",
       "      <th>3</th>\n",
       "      <td>co</td>\n",
       "      <td>2000</td>\n",
       "      <td>CA</td>\n",
       "      <td>0.462393</td>\n",
       "    </tr>\n",
       "    <tr>\n",
       "      <th>4</th>\n",
       "      <td>co</td>\n",
       "      <td>2000</td>\n",
       "      <td>CO</td>\n",
       "      <td>0.383861</td>\n",
       "    </tr>\n",
       "  </tbody>\n",
       "</table>\n",
       "</div>"
      ],
      "text/plain": [
       "  pollutant  year state_abbr  pred_wght\n",
       "0        co  2000         AL   0.324396\n",
       "1        co  2000         AR   0.327984\n",
       "2        co  2000         AZ   0.422265\n",
       "3        co  2000         CA   0.462393\n",
       "4        co  2000         CO   0.383861"
      ]
     },
     "execution_count": 66,
     "metadata": {},
     "output_type": "execute_result"
    }
   ],
   "source": [
    "df_with_pollutants.head()"
   ]
  },
  {
   "cell_type": "code",
   "execution_count": 67,
   "id": "56f7e817",
   "metadata": {},
   "outputs": [
    {
     "data": {
      "text/plain": [
       "array(['co', 'no2', 'o3', 'pm25', 'so2'], dtype=object)"
      ]
     },
     "execution_count": 67,
     "metadata": {},
     "output_type": "execute_result"
    }
   ],
   "source": [
    "df_with_pollutants['pollutant'].unique()"
   ]
  },
  {
   "cell_type": "code",
   "execution_count": 68,
   "id": "23e015e3",
   "metadata": {
    "scrolled": true
   },
   "outputs": [],
   "source": [
    "# Pivot the DataFrame to have pollutants as columns\n",
    "df_with_pollutants = df_with_pollutants.pivot(index=['year', 'state_abbr'], columns='pollutant', values='pred_wght').reset_index()\n",
    "\n",
    "# Rename the columns\n",
    "df_with_pollutants.columns.name = None\n",
    "\n",
    "# Fill any NaN values with 0 if needed\n",
    "df_with_pollutants = df_with_pollutants.fillna(0)\n"
   ]
  },
  {
   "cell_type": "code",
   "execution_count": 69,
   "id": "ea08b674",
   "metadata": {},
   "outputs": [
    {
     "data": {
      "text/html": [
       "<div>\n",
       "<style scoped>\n",
       "    .dataframe tbody tr th:only-of-type {\n",
       "        vertical-align: middle;\n",
       "    }\n",
       "\n",
       "    .dataframe tbody tr th {\n",
       "        vertical-align: top;\n",
       "    }\n",
       "\n",
       "    .dataframe thead th {\n",
       "        text-align: right;\n",
       "    }\n",
       "</style>\n",
       "<table border=\"1\" class=\"dataframe\">\n",
       "  <thead>\n",
       "    <tr style=\"text-align: right;\">\n",
       "      <th></th>\n",
       "      <th>year</th>\n",
       "      <th>state_abbr</th>\n",
       "      <th>co</th>\n",
       "      <th>no2</th>\n",
       "      <th>o3</th>\n",
       "      <th>pm25</th>\n",
       "      <th>so2</th>\n",
       "    </tr>\n",
       "  </thead>\n",
       "  <tbody>\n",
       "    <tr>\n",
       "      <th>0</th>\n",
       "      <td>2000</td>\n",
       "      <td>AL</td>\n",
       "      <td>0.324396</td>\n",
       "      <td>5.983593</td>\n",
       "      <td>57.601273</td>\n",
       "      <td>15.064598</td>\n",
       "      <td>3.251818</td>\n",
       "    </tr>\n",
       "    <tr>\n",
       "      <th>1</th>\n",
       "      <td>2000</td>\n",
       "      <td>AR</td>\n",
       "      <td>0.327984</td>\n",
       "      <td>6.059882</td>\n",
       "      <td>53.942551</td>\n",
       "      <td>12.076962</td>\n",
       "      <td>2.859271</td>\n",
       "    </tr>\n",
       "    <tr>\n",
       "      <th>2</th>\n",
       "      <td>2000</td>\n",
       "      <td>AZ</td>\n",
       "      <td>0.422265</td>\n",
       "      <td>9.915901</td>\n",
       "      <td>58.282240</td>\n",
       "      <td>7.400383</td>\n",
       "      <td>2.343078</td>\n",
       "    </tr>\n",
       "    <tr>\n",
       "      <th>3</th>\n",
       "      <td>2000</td>\n",
       "      <td>CA</td>\n",
       "      <td>0.462393</td>\n",
       "      <td>10.756098</td>\n",
       "      <td>48.635815</td>\n",
       "      <td>10.896779</td>\n",
       "      <td>1.930857</td>\n",
       "    </tr>\n",
       "    <tr>\n",
       "      <th>4</th>\n",
       "      <td>2000</td>\n",
       "      <td>CO</td>\n",
       "      <td>0.383861</td>\n",
       "      <td>8.429847</td>\n",
       "      <td>59.836639</td>\n",
       "      <td>5.501561</td>\n",
       "      <td>2.511782</td>\n",
       "    </tr>\n",
       "  </tbody>\n",
       "</table>\n",
       "</div>"
      ],
      "text/plain": [
       "   year state_abbr        co        no2         o3       pm25       so2\n",
       "0  2000         AL  0.324396   5.983593  57.601273  15.064598  3.251818\n",
       "1  2000         AR  0.327984   6.059882  53.942551  12.076962  2.859271\n",
       "2  2000         AZ  0.422265   9.915901  58.282240   7.400383  2.343078\n",
       "3  2000         CA  0.462393  10.756098  48.635815  10.896779  1.930857\n",
       "4  2000         CO  0.383861   8.429847  59.836639   5.501561  2.511782"
      ]
     },
     "execution_count": 69,
     "metadata": {},
     "output_type": "execute_result"
    }
   ],
   "source": [
    "df_with_pollutants.head()"
   ]
  },
  {
   "cell_type": "code",
   "execution_count": 70,
   "id": "fde61dd4",
   "metadata": {},
   "outputs": [
    {
     "name": "stdout",
     "output_type": "stream",
     "text": [
      "(1122, 3) (768, 7)\n"
     ]
    }
   ],
   "source": [
    "print(df_lung_cancer.shape,df_with_pollutants.shape)"
   ]
  },
  {
   "cell_type": "code",
   "execution_count": 71,
   "id": "fe3d8e28",
   "metadata": {},
   "outputs": [],
   "source": [
    "# Create a dictionary to map state abbreviations to state names\n",
    "state_mapping = {\n",
    "    'AL': 'Alabama',\n",
    "    'AK': 'Alaska',\n",
    "    'AZ': 'Arizona',\n",
    "    'AR': 'Arkansas',\n",
    "    'CA': 'California',\n",
    "    'CO': 'Colorado',\n",
    "    'CT': 'Connecticut',\n",
    "    'DE': 'Delaware',\n",
    "    'DC': 'District of Columbia',\n",
    "    'FL': 'Florida',\n",
    "    'GA': 'Georgia',\n",
    "    'HI': 'Hawaii',\n",
    "    'ID': 'Idaho',\n",
    "    'IL': 'Illinois',\n",
    "    'IN': 'Indiana',\n",
    "    'IA': 'Iowa',\n",
    "    'KS': 'Kansas',\n",
    "    'KY': 'Kentucky',\n",
    "    'LA': 'Louisiana',\n",
    "    'ME': 'Maine',\n",
    "    'MD': 'Maryland',\n",
    "    'MA': 'Massachusetts',\n",
    "    'MI': 'Michigan',\n",
    "    'MN': 'Minnesota',\n",
    "    'MS': 'Mississippi',\n",
    "    'MO': 'Missouri',\n",
    "    'MT': 'Montana',\n",
    "    'NE': 'Nebraska',\n",
    "    'NV': 'Nevada',\n",
    "    'NH': 'New Hampshire',\n",
    "    'NJ': 'New Jersey',\n",
    "    'NM': 'New Mexico',\n",
    "    'NY': 'New York',\n",
    "    'NC': 'North Carolina',\n",
    "    'ND': 'North Dakota',\n",
    "    'OH': 'Ohio',\n",
    "    'OK': 'Oklahoma',\n",
    "    'OR': 'Oregon',\n",
    "    'PA': 'Pennsylvania',\n",
    "    'RI': 'Rhode Island',\n",
    "    'SC': 'South Carolina',\n",
    "    'SD': 'South Dakota',\n",
    "    'TN': 'Tennessee',\n",
    "    'TX': 'Texas',\n",
    "    'UT': 'Utah',\n",
    "    'VT': 'Vermont',\n",
    "    'VA': 'Virginia',\n",
    "    'WA': 'Washington',\n",
    "    'WV': 'West Virginia',\n",
    "    'WI': 'Wisconsin',\n",
    "    'WY': 'Wyoming',\n",
    "    'AS': 'American Samoa',\n",
    "    'GU': 'Guam',\n",
    "    'MP': 'Northern Mariana Islands',\n",
    "    'PR': 'Puerto Rico',\n",
    "    'VI': 'Virgin Islands',\n",
    "    'TT': 'Trust Territories'\n",
    "}\n",
    "\n",
    "# Replace 'state_abbr' with state names using the mapping\n",
    "df_with_pollutants['state_abbr'] = df_with_pollutants['state_abbr'].map(state_mapping)\n",
    "\n"
   ]
  },
  {
   "cell_type": "code",
   "execution_count": 73,
   "id": "836c965b",
   "metadata": {},
   "outputs": [],
   "source": [
    "# Rename the 'state_abbr' column to 'State'\n",
    "df_with_pollutants.rename(columns={'state_abbr': 'State'}, inplace=True)"
   ]
  },
  {
   "cell_type": "code",
   "execution_count": 74,
   "id": "26f9b70b",
   "metadata": {},
   "outputs": [
    {
     "data": {
      "text/html": [
       "<div>\n",
       "<style scoped>\n",
       "    .dataframe tbody tr th:only-of-type {\n",
       "        vertical-align: middle;\n",
       "    }\n",
       "\n",
       "    .dataframe tbody tr th {\n",
       "        vertical-align: top;\n",
       "    }\n",
       "\n",
       "    .dataframe thead th {\n",
       "        text-align: right;\n",
       "    }\n",
       "</style>\n",
       "<table border=\"1\" class=\"dataframe\">\n",
       "  <thead>\n",
       "    <tr style=\"text-align: right;\">\n",
       "      <th></th>\n",
       "      <th>year</th>\n",
       "      <th>State</th>\n",
       "      <th>co</th>\n",
       "      <th>no2</th>\n",
       "      <th>o3</th>\n",
       "      <th>pm25</th>\n",
       "      <th>so2</th>\n",
       "    </tr>\n",
       "  </thead>\n",
       "  <tbody>\n",
       "    <tr>\n",
       "      <th>0</th>\n",
       "      <td>2000</td>\n",
       "      <td>Alabama</td>\n",
       "      <td>0.324396</td>\n",
       "      <td>5.983593</td>\n",
       "      <td>57.601273</td>\n",
       "      <td>15.064598</td>\n",
       "      <td>3.251818</td>\n",
       "    </tr>\n",
       "    <tr>\n",
       "      <th>1</th>\n",
       "      <td>2000</td>\n",
       "      <td>Arkansas</td>\n",
       "      <td>0.327984</td>\n",
       "      <td>6.059882</td>\n",
       "      <td>53.942551</td>\n",
       "      <td>12.076962</td>\n",
       "      <td>2.859271</td>\n",
       "    </tr>\n",
       "    <tr>\n",
       "      <th>2</th>\n",
       "      <td>2000</td>\n",
       "      <td>Arizona</td>\n",
       "      <td>0.422265</td>\n",
       "      <td>9.915901</td>\n",
       "      <td>58.282240</td>\n",
       "      <td>7.400383</td>\n",
       "      <td>2.343078</td>\n",
       "    </tr>\n",
       "    <tr>\n",
       "      <th>3</th>\n",
       "      <td>2000</td>\n",
       "      <td>California</td>\n",
       "      <td>0.462393</td>\n",
       "      <td>10.756098</td>\n",
       "      <td>48.635815</td>\n",
       "      <td>10.896779</td>\n",
       "      <td>1.930857</td>\n",
       "    </tr>\n",
       "    <tr>\n",
       "      <th>4</th>\n",
       "      <td>2000</td>\n",
       "      <td>Colorado</td>\n",
       "      <td>0.383861</td>\n",
       "      <td>8.429847</td>\n",
       "      <td>59.836639</td>\n",
       "      <td>5.501561</td>\n",
       "      <td>2.511782</td>\n",
       "    </tr>\n",
       "  </tbody>\n",
       "</table>\n",
       "</div>"
      ],
      "text/plain": [
       "   year       State        co        no2         o3       pm25       so2\n",
       "0  2000     Alabama  0.324396   5.983593  57.601273  15.064598  3.251818\n",
       "1  2000    Arkansas  0.327984   6.059882  53.942551  12.076962  2.859271\n",
       "2  2000     Arizona  0.422265   9.915901  58.282240   7.400383  2.343078\n",
       "3  2000  California  0.462393  10.756098  48.635815  10.896779  1.930857\n",
       "4  2000    Colorado  0.383861   8.429847  59.836639   5.501561  2.511782"
      ]
     },
     "execution_count": 74,
     "metadata": {},
     "output_type": "execute_result"
    }
   ],
   "source": [
    "df_with_pollutants.head()"
   ]
  },
  {
   "cell_type": "code",
   "execution_count": 77,
   "id": "fa8fbb0d",
   "metadata": {},
   "outputs": [],
   "source": [
    "df_with_pollutants.rename(columns={'year': 'Year'},inplace=True)"
   ]
  },
  {
   "cell_type": "code",
   "execution_count": 79,
   "id": "0d262751",
   "metadata": {},
   "outputs": [
    {
     "name": "stdout",
     "output_type": "stream",
     "text": [
      "     Year          State        co        no2         o3       pm25       so2  \\\n",
      "0    2000        Alabama  0.324396   5.983593  57.601273  15.064598  3.251818   \n",
      "1    2000       Arkansas  0.327984   6.059882  53.942551  12.076962  2.859271   \n",
      "2    2000        Arizona  0.422265   9.915901  58.282240   7.400383  2.343078   \n",
      "3    2000     California  0.462393  10.756098  48.635815  10.896779  1.930857   \n",
      "4    2000       Colorado  0.383861   8.429847  59.836639   5.501561  2.511782   \n",
      "..    ...            ...       ...        ...        ...        ...       ...   \n",
      "763  2015        Vermont  0.201841   3.520805  37.871561   5.399424  0.657656   \n",
      "764  2015     Washington  0.233047   4.182594  40.526978   6.219810  0.750324   \n",
      "765  2015      Wisconsin  0.209512   3.742194  41.926101   7.127667  1.029250   \n",
      "766  2015  West Virginia  0.239511   3.996316  44.032946   7.580497  1.365585   \n",
      "767  2015        Wyoming  0.245562   3.714728  48.860621   4.538552  1.198622   \n",
      "\n",
      "      Deaths  \n",
      "0     3064.0  \n",
      "1     2027.0  \n",
      "2     2574.0  \n",
      "3    14060.0  \n",
      "4     1463.0  \n",
      "..       ...  \n",
      "763    360.0  \n",
      "764   3184.0  \n",
      "765   2957.0  \n",
      "766   1549.0  \n",
      "767    219.0  \n",
      "\n",
      "[768 rows x 8 columns]\n"
     ]
    }
   ],
   "source": [
    "# Merge the two datasets based on 'State' and 'Year'\n",
    "merged_df = pd.merge(df_with_pollutants, df_lung_cancer, on=['State', 'Year'])\n",
    "\n",
    "# Display the merged dataset\n",
    "print(merged_df)"
   ]
  },
  {
   "cell_type": "code",
   "execution_count": 80,
   "id": "adc2ddab",
   "metadata": {},
   "outputs": [
    {
     "data": {
      "text/html": [
       "<div>\n",
       "<style scoped>\n",
       "    .dataframe tbody tr th:only-of-type {\n",
       "        vertical-align: middle;\n",
       "    }\n",
       "\n",
       "    .dataframe tbody tr th {\n",
       "        vertical-align: top;\n",
       "    }\n",
       "\n",
       "    .dataframe thead th {\n",
       "        text-align: right;\n",
       "    }\n",
       "</style>\n",
       "<table border=\"1\" class=\"dataframe\">\n",
       "  <thead>\n",
       "    <tr style=\"text-align: right;\">\n",
       "      <th></th>\n",
       "      <th>Year</th>\n",
       "      <th>State</th>\n",
       "      <th>co</th>\n",
       "      <th>no2</th>\n",
       "      <th>o3</th>\n",
       "      <th>pm25</th>\n",
       "      <th>so2</th>\n",
       "      <th>Deaths</th>\n",
       "    </tr>\n",
       "  </thead>\n",
       "  <tbody>\n",
       "    <tr>\n",
       "      <th>0</th>\n",
       "      <td>2000</td>\n",
       "      <td>Alabama</td>\n",
       "      <td>0.324396</td>\n",
       "      <td>5.983593</td>\n",
       "      <td>57.601273</td>\n",
       "      <td>15.064598</td>\n",
       "      <td>3.251818</td>\n",
       "      <td>3064.0</td>\n",
       "    </tr>\n",
       "    <tr>\n",
       "      <th>1</th>\n",
       "      <td>2000</td>\n",
       "      <td>Arkansas</td>\n",
       "      <td>0.327984</td>\n",
       "      <td>6.059882</td>\n",
       "      <td>53.942551</td>\n",
       "      <td>12.076962</td>\n",
       "      <td>2.859271</td>\n",
       "      <td>2027.0</td>\n",
       "    </tr>\n",
       "    <tr>\n",
       "      <th>2</th>\n",
       "      <td>2000</td>\n",
       "      <td>Arizona</td>\n",
       "      <td>0.422265</td>\n",
       "      <td>9.915901</td>\n",
       "      <td>58.282240</td>\n",
       "      <td>7.400383</td>\n",
       "      <td>2.343078</td>\n",
       "      <td>2574.0</td>\n",
       "    </tr>\n",
       "    <tr>\n",
       "      <th>3</th>\n",
       "      <td>2000</td>\n",
       "      <td>California</td>\n",
       "      <td>0.462393</td>\n",
       "      <td>10.756098</td>\n",
       "      <td>48.635815</td>\n",
       "      <td>10.896779</td>\n",
       "      <td>1.930857</td>\n",
       "      <td>14060.0</td>\n",
       "    </tr>\n",
       "    <tr>\n",
       "      <th>4</th>\n",
       "      <td>2000</td>\n",
       "      <td>Colorado</td>\n",
       "      <td>0.383861</td>\n",
       "      <td>8.429847</td>\n",
       "      <td>59.836639</td>\n",
       "      <td>5.501561</td>\n",
       "      <td>2.511782</td>\n",
       "      <td>1463.0</td>\n",
       "    </tr>\n",
       "  </tbody>\n",
       "</table>\n",
       "</div>"
      ],
      "text/plain": [
       "   Year       State        co        no2         o3       pm25       so2  \\\n",
       "0  2000     Alabama  0.324396   5.983593  57.601273  15.064598  3.251818   \n",
       "1  2000    Arkansas  0.327984   6.059882  53.942551  12.076962  2.859271   \n",
       "2  2000     Arizona  0.422265   9.915901  58.282240   7.400383  2.343078   \n",
       "3  2000  California  0.462393  10.756098  48.635815  10.896779  1.930857   \n",
       "4  2000    Colorado  0.383861   8.429847  59.836639   5.501561  2.511782   \n",
       "\n",
       "    Deaths  \n",
       "0   3064.0  \n",
       "1   2027.0  \n",
       "2   2574.0  \n",
       "3  14060.0  \n",
       "4   1463.0  "
      ]
     },
     "execution_count": 80,
     "metadata": {},
     "output_type": "execute_result"
    }
   ],
   "source": [
    "merged_df.head()"
   ]
  },
  {
   "cell_type": "code",
   "execution_count": 81,
   "id": "2b83a626",
   "metadata": {},
   "outputs": [
    {
     "data": {
      "text/plain": [
       "(768, 8)"
      ]
     },
     "execution_count": 81,
     "metadata": {},
     "output_type": "execute_result"
    }
   ],
   "source": [
    "merged_df.shape"
   ]
  },
  {
   "cell_type": "code",
   "execution_count": 83,
   "id": "02157e20",
   "metadata": {},
   "outputs": [
    {
     "data": {
      "text/plain": [
       "Year      0\n",
       "State     0\n",
       "co        0\n",
       "no2       0\n",
       "o3        0\n",
       "pm25      0\n",
       "so2       0\n",
       "Deaths    0\n",
       "dtype: int64"
      ]
     },
     "execution_count": 83,
     "metadata": {},
     "output_type": "execute_result"
    }
   ],
   "source": [
    "merged_df.isnull().sum()"
   ]
  },
  {
   "cell_type": "code",
   "execution_count": 84,
   "id": "b4e5b8c2",
   "metadata": {},
   "outputs": [],
   "source": [
    "# Convert and save the merged_df to a CSV file\n",
    "merged_df.to_csv('merged_dataset.csv', index=False)\n"
   ]
  },
  {
   "cell_type": "code",
   "execution_count": null,
   "id": "dab487f2",
   "metadata": {},
   "outputs": [],
   "source": []
  }
 ],
 "metadata": {
  "kernelspec": {
   "display_name": "Python 3 (ipykernel)",
   "language": "python",
   "name": "python3"
  },
  "language_info": {
   "codemirror_mode": {
    "name": "ipython",
    "version": 3
   },
   "file_extension": ".py",
   "mimetype": "text/x-python",
   "name": "python",
   "nbconvert_exporter": "python",
   "pygments_lexer": "ipython3",
   "version": "3.11.4"
  }
 },
 "nbformat": 4,
 "nbformat_minor": 5
}
