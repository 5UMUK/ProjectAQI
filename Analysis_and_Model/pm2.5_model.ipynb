{
 "cells": [
  {
   "cell_type": "markdown",
   "id": "7c1d4833",
   "metadata": {},
   "source": [
    "**Description:**\n",
    "In this document, we conduct initial data exploration and preprocessing to identify the most suitable machine learning model for our requirements.\n",
    "\n",
    "1. Univariate analysis is conducted to assess the normal distribution of the data.\n",
    "2. Box plots are employed to identify any outliers within the dataset.\n",
    "3. Log transformation is applied to address both scenarios as necessary."
   ]
  },
  {
   "cell_type": "code",
   "execution_count": 3,
   "id": "796d827e",
   "metadata": {},
   "outputs": [],
   "source": [
    "import pandas as pd\n",
    "import numpy as np\n",
    "import matplotlib.pyplot as plt\n",
    "%matplotlib inline\n",
    "import seaborn as sn\n",
    "import warnings\n",
    "warnings.filterwarnings('ignore')"
   ]
  },
  {
   "cell_type": "code",
   "execution_count": 4,
   "id": "0db7f2c2",
   "metadata": {},
   "outputs": [],
   "source": [
    "# Read the dataset into a DataFrame\n",
    "df = pd.read_csv(\"../Data/pollutant_dataset.csv\")"
   ]
  },
  {
   "cell_type": "code",
   "execution_count": 5,
   "id": "b27ca193",
   "metadata": {},
   "outputs": [
    {
     "data": {
      "text/html": [
       "<div>\n",
       "<style scoped>\n",
       "    .dataframe tbody tr th:only-of-type {\n",
       "        vertical-align: middle;\n",
       "    }\n",
       "\n",
       "    .dataframe tbody tr th {\n",
       "        vertical-align: top;\n",
       "    }\n",
       "\n",
       "    .dataframe thead th {\n",
       "        text-align: right;\n",
       "    }\n",
       "</style>\n",
       "<table border=\"1\" class=\"dataframe\">\n",
       "  <thead>\n",
       "    <tr style=\"text-align: right;\">\n",
       "      <th></th>\n",
       "      <th>Year</th>\n",
       "      <th>State</th>\n",
       "      <th>CO</th>\n",
       "      <th>NO2</th>\n",
       "      <th>O3</th>\n",
       "      <th>PM2.5</th>\n",
       "      <th>SO2</th>\n",
       "    </tr>\n",
       "  </thead>\n",
       "  <tbody>\n",
       "    <tr>\n",
       "      <th>0</th>\n",
       "      <td>2000</td>\n",
       "      <td>Alabama</td>\n",
       "      <td>0.324396</td>\n",
       "      <td>5.983593</td>\n",
       "      <td>57.601273</td>\n",
       "      <td>15.064598</td>\n",
       "      <td>3.251818</td>\n",
       "    </tr>\n",
       "    <tr>\n",
       "      <th>1</th>\n",
       "      <td>2000</td>\n",
       "      <td>Arkansas</td>\n",
       "      <td>0.327984</td>\n",
       "      <td>6.059882</td>\n",
       "      <td>53.942551</td>\n",
       "      <td>12.076962</td>\n",
       "      <td>2.859271</td>\n",
       "    </tr>\n",
       "    <tr>\n",
       "      <th>2</th>\n",
       "      <td>2000</td>\n",
       "      <td>Arizona</td>\n",
       "      <td>0.422265</td>\n",
       "      <td>9.915901</td>\n",
       "      <td>58.282240</td>\n",
       "      <td>7.400383</td>\n",
       "      <td>2.343078</td>\n",
       "    </tr>\n",
       "    <tr>\n",
       "      <th>3</th>\n",
       "      <td>2000</td>\n",
       "      <td>California</td>\n",
       "      <td>0.462393</td>\n",
       "      <td>10.756098</td>\n",
       "      <td>48.635815</td>\n",
       "      <td>10.896779</td>\n",
       "      <td>1.930857</td>\n",
       "    </tr>\n",
       "    <tr>\n",
       "      <th>4</th>\n",
       "      <td>2000</td>\n",
       "      <td>Colorado</td>\n",
       "      <td>0.383861</td>\n",
       "      <td>8.429847</td>\n",
       "      <td>59.836639</td>\n",
       "      <td>5.501561</td>\n",
       "      <td>2.511782</td>\n",
       "    </tr>\n",
       "  </tbody>\n",
       "</table>\n",
       "</div>"
      ],
      "text/plain": [
       "   Year       State        CO        NO2         O3      PM2.5       SO2\n",
       "0  2000     Alabama  0.324396   5.983593  57.601273  15.064598  3.251818\n",
       "1  2000    Arkansas  0.327984   6.059882  53.942551  12.076962  2.859271\n",
       "2  2000     Arizona  0.422265   9.915901  58.282240   7.400383  2.343078\n",
       "3  2000  California  0.462393  10.756098  48.635815  10.896779  1.930857\n",
       "4  2000    Colorado  0.383861   8.429847  59.836639   5.501561  2.511782"
      ]
     },
     "execution_count": 5,
     "metadata": {},
     "output_type": "execute_result"
    }
   ],
   "source": [
    "df.head()"
   ]
  },
  {
   "cell_type": "code",
   "execution_count": 6,
   "id": "89aecc65",
   "metadata": {},
   "outputs": [
    {
     "data": {
      "text/html": [
       "<div>\n",
       "<style scoped>\n",
       "    .dataframe tbody tr th:only-of-type {\n",
       "        vertical-align: middle;\n",
       "    }\n",
       "\n",
       "    .dataframe tbody tr th {\n",
       "        vertical-align: top;\n",
       "    }\n",
       "\n",
       "    .dataframe thead th {\n",
       "        text-align: right;\n",
       "    }\n",
       "</style>\n",
       "<table border=\"1\" class=\"dataframe\">\n",
       "  <thead>\n",
       "    <tr style=\"text-align: right;\">\n",
       "      <th></th>\n",
       "      <th>Year</th>\n",
       "      <th>CO</th>\n",
       "      <th>NO2</th>\n",
       "      <th>O3</th>\n",
       "      <th>PM2.5</th>\n",
       "      <th>SO2</th>\n",
       "    </tr>\n",
       "  </thead>\n",
       "  <tbody>\n",
       "    <tr>\n",
       "      <th>count</th>\n",
       "      <td>768.000000</td>\n",
       "      <td>768.000000</td>\n",
       "      <td>768.000000</td>\n",
       "      <td>768.000000</td>\n",
       "      <td>768.000000</td>\n",
       "      <td>768.000000</td>\n",
       "    </tr>\n",
       "    <tr>\n",
       "      <th>mean</th>\n",
       "      <td>2007.500000</td>\n",
       "      <td>0.302597</td>\n",
       "      <td>6.161951</td>\n",
       "      <td>47.367012</td>\n",
       "      <td>8.745336</td>\n",
       "      <td>1.973423</td>\n",
       "    </tr>\n",
       "    <tr>\n",
       "      <th>std</th>\n",
       "      <td>4.612776</td>\n",
       "      <td>0.070662</td>\n",
       "      <td>2.357051</td>\n",
       "      <td>5.628940</td>\n",
       "      <td>2.444253</td>\n",
       "      <td>1.029085</td>\n",
       "    </tr>\n",
       "    <tr>\n",
       "      <th>min</th>\n",
       "      <td>2000.000000</td>\n",
       "      <td>0.149860</td>\n",
       "      <td>2.209519</td>\n",
       "      <td>33.503879</td>\n",
       "      <td>4.193077</td>\n",
       "      <td>0.463908</td>\n",
       "    </tr>\n",
       "    <tr>\n",
       "      <th>25%</th>\n",
       "      <td>2003.750000</td>\n",
       "      <td>0.245637</td>\n",
       "      <td>4.418765</td>\n",
       "      <td>43.367214</td>\n",
       "      <td>6.849606</td>\n",
       "      <td>1.200259</td>\n",
       "    </tr>\n",
       "    <tr>\n",
       "      <th>50%</th>\n",
       "      <td>2007.500000</td>\n",
       "      <td>0.297450</td>\n",
       "      <td>5.712806</td>\n",
       "      <td>47.179931</td>\n",
       "      <td>8.516392</td>\n",
       "      <td>1.696737</td>\n",
       "    </tr>\n",
       "    <tr>\n",
       "      <th>75%</th>\n",
       "      <td>2011.250000</td>\n",
       "      <td>0.349908</td>\n",
       "      <td>7.301862</td>\n",
       "      <td>51.704102</td>\n",
       "      <td>10.394954</td>\n",
       "      <td>2.405662</td>\n",
       "    </tr>\n",
       "    <tr>\n",
       "      <th>max</th>\n",
       "      <td>2015.000000</td>\n",
       "      <td>0.534212</td>\n",
       "      <td>16.775574</td>\n",
       "      <td>60.599370</td>\n",
       "      <td>15.432284</td>\n",
       "      <td>5.859533</td>\n",
       "    </tr>\n",
       "  </tbody>\n",
       "</table>\n",
       "</div>"
      ],
      "text/plain": [
       "              Year          CO         NO2          O3       PM2.5         SO2\n",
       "count   768.000000  768.000000  768.000000  768.000000  768.000000  768.000000\n",
       "mean   2007.500000    0.302597    6.161951   47.367012    8.745336    1.973423\n",
       "std       4.612776    0.070662    2.357051    5.628940    2.444253    1.029085\n",
       "min    2000.000000    0.149860    2.209519   33.503879    4.193077    0.463908\n",
       "25%    2003.750000    0.245637    4.418765   43.367214    6.849606    1.200259\n",
       "50%    2007.500000    0.297450    5.712806   47.179931    8.516392    1.696737\n",
       "75%    2011.250000    0.349908    7.301862   51.704102   10.394954    2.405662\n",
       "max    2015.000000    0.534212   16.775574   60.599370   15.432284    5.859533"
      ]
     },
     "execution_count": 6,
     "metadata": {},
     "output_type": "execute_result"
    }
   ],
   "source": [
    "df.describe()"
   ]
  },
  {
   "cell_type": "code",
   "execution_count": 7,
   "id": "97b057de",
   "metadata": {},
   "outputs": [
    {
     "data": {
      "text/plain": [
       "Year       int64\n",
       "State     object\n",
       "CO       float64\n",
       "NO2      float64\n",
       "O3       float64\n",
       "PM2.5    float64\n",
       "SO2      float64\n",
       "dtype: object"
      ]
     },
     "execution_count": 7,
     "metadata": {},
     "output_type": "execute_result"
    }
   ],
   "source": [
    "df.dtypes"
   ]
  },
  {
   "cell_type": "code",
   "execution_count": 8,
   "id": "5c217cca",
   "metadata": {},
   "outputs": [
    {
     "data": {
      "text/plain": [
       "Year     0\n",
       "State    0\n",
       "CO       0\n",
       "NO2      0\n",
       "O3       0\n",
       "PM2.5    0\n",
       "SO2      0\n",
       "dtype: int64"
      ]
     },
     "execution_count": 8,
     "metadata": {},
     "output_type": "execute_result"
    }
   ],
   "source": [
    "df.isnull().sum()"
   ]
  },
  {
   "cell_type": "code",
   "execution_count": 9,
   "id": "52fbf780",
   "metadata": {},
   "outputs": [
    {
     "data": {
      "text/plain": [
       "(768, 7)"
      ]
     },
     "execution_count": 9,
     "metadata": {},
     "output_type": "execute_result"
    }
   ],
   "source": [
    "df.shape"
   ]
  },
  {
   "cell_type": "code",
   "execution_count": 10,
   "id": "e9e0badc",
   "metadata": {},
   "outputs": [
    {
     "data": {
      "text/plain": [
       "array([2000, 2001, 2002, 2003, 2004, 2005, 2006, 2007, 2008, 2009, 2010,\n",
       "       2011, 2012, 2013, 2014, 2015], dtype=int64)"
      ]
     },
     "execution_count": 10,
     "metadata": {},
     "output_type": "execute_result"
    }
   ],
   "source": [
    "df[\"Year\"].unique()"
   ]
  },
  {
   "cell_type": "markdown",
   "id": "c731a434",
   "metadata": {},
   "source": [
    "Exploratory Data Analysis\n"
   ]
  },
  {
   "cell_type": "code",
   "execution_count": 11,
   "id": "a5526880",
   "metadata": {},
   "outputs": [
    {
     "data": {
      "image/png": "[encoded data removed]",
      "text/plain": [
       "<Figure size 1500x600 with 10 Axes>"
      ]
     },
     "metadata": {},
     "output_type": "display_data"
    },
    {
     "name": "stdout",
     "output_type": "stream",
     "text": [
      "CO is not normally distributed (p-value: 5.951934990478105e-08)\n",
      "NO2 is not normally distributed (p-value: 6.1438812558705206e-33)\n",
      "O3 is not normally distributed (p-value: 1.5971914660976792e-08)\n",
      "PM2.5 is not normally distributed (p-value: 1.0107494481868678e-11)\n",
      "SO2 is not normally distributed (p-value: 4.7126602030509246e-35)\n"
     ]
    }
   ],
   "source": [
    "# Univarite Analysis\n",
    "import numpy as np\n",
    "import matplotlib.pyplot as plt\n",
    "import scipy.stats as stats\n",
    "\n",
    "# Extract the data for each variable\n",
    "co = df[\"CO\"]\n",
    "no2 = df[\"NO2\"]\n",
    "o3 = df[\"O3\"]\n",
    "pm25 = df[\"PM2.5\"]\n",
    "so2 = df[\"SO2\"]\n",
    "\n",
    "# Create a list of variable names for plotting and analysis\n",
    "variables = [co, no2, o3, pm25, so2]\n",
    "var_names = [\"CO\", \"NO2\", \"O3\", \"PM2.5\", \"SO2\"]\n",
    "\n",
    "# Set up subplots for the histograms and Q-Q plots\n",
    "fig, axes = plt.subplots(nrows=2, ncols=5, figsize=(15, 6))\n",
    "\n",
    "# Loop through each variable for analysis\n",
    "for i in range(len(variables)):\n",
    "    # Histogram\n",
    "    axes[0, i].hist(variables[i], bins=20, color=\"blue\", alpha=0.7)\n",
    "    axes[0, i].set_title(f\"{var_names[i]} Histogram\")\n",
    "\n",
    "    # Q-Q Plot\n",
    "    stats.probplot(variables[i], dist=\"norm\", plot=axes[1, i])\n",
    "    axes[1, i].set_title(f\"{var_names[i]} Q-Q Plot\")\n",
    "\n",
    "plt.tight_layout()\n",
    "plt.show()\n",
    "\n",
    "# Perform normality tests\n",
    "for i in range(len(variables)):\n",
    "    variable_name = var_names[i]\n",
    "    p_value = stats.normaltest(variables[i]).pvalue\n",
    "    if p_value < 0.05:\n",
    "        print(f\"{variable_name} is not normally distributed (p-value: {p_value})\")\n",
    "    else:\n",
    "        print(f\"{variable_name} is normally distributed (p-value: {p_value})\")"
   ]
  },
  {
   "cell_type": "code",
   "execution_count": 12,
   "id": "b006a2ba",
   "metadata": {},
   "outputs": [
    {
     "data": {
      "image/png": "[encoded data removed]",
      "text/plain": [
       "<Figure size 1200x800 with 1 Axes>"
      ]
     },
     "metadata": {},
     "output_type": "display_data"
    }
   ],
   "source": [
    "# Set the style of the plot (optional)\n",
    "sn.set(style=\"whitegrid\")\n",
    "\n",
    "# Create a box plot for each relevant column\n",
    "plt.figure(figsize=(12, 8))  # Set the figure size\n",
    "sn.boxplot(data=df[[\"CO\", \"NO2\", \"PM2.5\", \"SO2\"]])\n",
    "plt.title(\"Box Plots for Each Feature\")\n",
    "plt.xticks(rotation=45)  # Rotate x-axis labels for better visibility\n",
    "\n",
    "# Show the plot\n",
    "plt.show()"
   ]
  },
  {
   "cell_type": "code",
   "execution_count": 13,
   "id": "21b2982d",
   "metadata": {},
   "outputs": [],
   "source": [
    "import numpy as np\n",
    "\n",
    "df[\"CO\"] = np.log(df[\"CO\"])\n",
    "df[\"NO2\"] = np.log(df[\"NO2\"])\n",
    "df[\"PM2.5\"] = np.log(df[\"PM2.5\"])\n",
    "df[\"SO2\"] = np.log(df[\"SO2\"])\n",
    "df[\"O3\"] = np.log(df[\"O3\"])"
   ]
  },
  {
   "cell_type": "code",
   "execution_count": 14,
   "id": "41aa602e",
   "metadata": {},
   "outputs": [
    {
     "data": {
      "text/html": [
       "<div>\n",
       "<style scoped>\n",
       "    .dataframe tbody tr th:only-of-type {\n",
       "        vertical-align: middle;\n",
       "    }\n",
       "\n",
       "    .dataframe tbody tr th {\n",
       "        vertical-align: top;\n",
       "    }\n",
       "\n",
       "    .dataframe thead th {\n",
       "        text-align: right;\n",
       "    }\n",
       "</style>\n",
       "<table border=\"1\" class=\"dataframe\">\n",
       "  <thead>\n",
       "    <tr style=\"text-align: right;\">\n",
       "      <th></th>\n",
       "      <th>Year</th>\n",
       "      <th>State</th>\n",
       "      <th>CO</th>\n",
       "      <th>NO2</th>\n",
       "      <th>O3</th>\n",
       "      <th>PM2.5</th>\n",
       "      <th>SO2</th>\n",
       "    </tr>\n",
       "  </thead>\n",
       "  <tbody>\n",
       "    <tr>\n",
       "      <th>0</th>\n",
       "      <td>2000</td>\n",
       "      <td>Alabama</td>\n",
       "      <td>-1.125789</td>\n",
       "      <td>1.789021</td>\n",
       "      <td>4.053545</td>\n",
       "      <td>2.712347</td>\n",
       "      <td>1.179214</td>\n",
       "    </tr>\n",
       "    <tr>\n",
       "      <th>1</th>\n",
       "      <td>2000</td>\n",
       "      <td>Arkansas</td>\n",
       "      <td>-1.114789</td>\n",
       "      <td>1.801690</td>\n",
       "      <td>3.987920</td>\n",
       "      <td>2.491300</td>\n",
       "      <td>1.050567</td>\n",
       "    </tr>\n",
       "    <tr>\n",
       "      <th>2</th>\n",
       "      <td>2000</td>\n",
       "      <td>Arizona</td>\n",
       "      <td>-0.862121</td>\n",
       "      <td>2.294140</td>\n",
       "      <td>4.065297</td>\n",
       "      <td>2.001532</td>\n",
       "      <td>0.851465</td>\n",
       "    </tr>\n",
       "    <tr>\n",
       "      <th>3</th>\n",
       "      <td>2000</td>\n",
       "      <td>California</td>\n",
       "      <td>-0.771340</td>\n",
       "      <td>2.375473</td>\n",
       "      <td>3.884360</td>\n",
       "      <td>2.388467</td>\n",
       "      <td>0.657964</td>\n",
       "    </tr>\n",
       "    <tr>\n",
       "      <th>4</th>\n",
       "      <td>2000</td>\n",
       "      <td>Colorado</td>\n",
       "      <td>-0.957474</td>\n",
       "      <td>2.131779</td>\n",
       "      <td>4.091618</td>\n",
       "      <td>1.705032</td>\n",
       "      <td>0.920992</td>\n",
       "    </tr>\n",
       "  </tbody>\n",
       "</table>\n",
       "</div>"
      ],
      "text/plain": [
       "   Year       State        CO       NO2        O3     PM2.5       SO2\n",
       "0  2000     Alabama -1.125789  1.789021  4.053545  2.712347  1.179214\n",
       "1  2000    Arkansas -1.114789  1.801690  3.987920  2.491300  1.050567\n",
       "2  2000     Arizona -0.862121  2.294140  4.065297  2.001532  0.851465\n",
       "3  2000  California -0.771340  2.375473  3.884360  2.388467  0.657964\n",
       "4  2000    Colorado -0.957474  2.131779  4.091618  1.705032  0.920992"
      ]
     },
     "execution_count": 14,
     "metadata": {},
     "output_type": "execute_result"
    }
   ],
   "source": [
    "df.head()"
   ]
  },
  {
   "cell_type": "code",
   "execution_count": 15,
   "id": "ba63a9d3",
   "metadata": {},
   "outputs": [
    {
     "data": {
      "image/png": "[encoded data removed]",
      "text/plain": [
       "<Figure size 1200x800 with 1 Axes>"
      ]
     },
     "metadata": {},
     "output_type": "display_data"
    }
   ],
   "source": [
    "# Set the style of the plot (optional)\n",
    "sn.set(style=\"whitegrid\")\n",
    "\n",
    "# Create a box plot for each relevant column\n",
    "plt.figure(figsize=(12, 8))  # Set the figure size\n",
    "sn.boxplot(data=df[[\"CO\", \"NO2\", \"PM2.5\", \"SO2\", \"O3\"]])\n",
    "plt.title(\"Box Plots for Each Feature\")\n",
    "plt.xticks(rotation=45)  # Rotate x-axis labels for better visibility\n",
    "\n",
    "# Show the plot\n",
    "plt.show()"
   ]
  },
  {
   "cell_type": "code",
   "execution_count": 16,
   "id": "5628268b",
   "metadata": {},
   "outputs": [
    {
     "data": {
      "image/png": "[encoded data removed]",
      "text/plain": [
       "<Figure size 1500x600 with 10 Axes>"
      ]
     },
     "metadata": {},
     "output_type": "display_data"
    },
    {
     "name": "stdout",
     "output_type": "stream",
     "text": [
      "CO is not normally distributed (p-value: 0.0004752026669864313)\n",
      "NO2 is normally distributed (p-value: 0.10736648371043549)\n",
      "O3 is not normally distributed (p-value: 1.5847692783828248e-06)\n",
      "PM2.5 is not normally distributed (p-value: 7.589604910910564e-13)\n",
      "SO2 is not normally distributed (p-value: 6.406581433932922e-05)\n"
     ]
    }
   ],
   "source": [
    "# Univarite Analysis\n",
    "import numpy as np\n",
    "import matplotlib.pyplot as plt\n",
    "import scipy.stats as stats\n",
    "\n",
    "# Extract the data for each variable\n",
    "co = df[\"CO\"]\n",
    "no2 = df[\"NO2\"]\n",
    "o3 = df[\"O3\"]\n",
    "pm25 = df[\"PM2.5\"]\n",
    "so2 = df[\"SO2\"]\n",
    "\n",
    "# Create a list of variable names for plotting and analysis\n",
    "variables = [co, no2, o3, pm25, so2]\n",
    "var_names = [\"CO\", \"NO2\", \"O3\", \"PM2.5\", \"SO2\"]\n",
    "\n",
    "# Set up subplots for the histograms and Q-Q plots\n",
    "fig, axes = plt.subplots(nrows=2, ncols=5, figsize=(15, 6))\n",
    "\n",
    "# Loop through each variable for analysis\n",
    "for i in range(len(variables)):\n",
    "    # Histogram\n",
    "    axes[0, i].hist(variables[i], bins=20, color=\"blue\", alpha=0.7)\n",
    "    axes[0, i].set_title(f\"{var_names[i]} Histogram\")\n",
    "\n",
    "    # Q-Q Plot\n",
    "    stats.probplot(variables[i], dist=\"norm\", plot=axes[1, i])\n",
    "    axes[1, i].set_title(f\"{var_names[i]} Q-Q Plot\")\n",
    "\n",
    "plt.tight_layout()\n",
    "plt.show()\n",
    "\n",
    "# Perform normality tests\n",
    "for i in range(len(variables)):\n",
    "    variable_name = var_names[i]\n",
    "    p_value = stats.normaltest(variables[i]).pvalue\n",
    "    if p_value < 0.05:\n",
    "        print(f\"{variable_name} is not normally distributed (p-value: {p_value})\")\n",
    "    else:\n",
    "        print(f\"{variable_name} is normally distributed (p-value: {p_value})\")"
   ]
  },
  {
   "cell_type": "code",
   "execution_count": 17,
   "id": "e5e7cb19",
   "metadata": {},
   "outputs": [
    {
     "data": {
      "text/html": [
       "<div>\n",
       "<style scoped>\n",
       "    .dataframe tbody tr th:only-of-type {\n",
       "        vertical-align: middle;\n",
       "    }\n",
       "\n",
       "    .dataframe tbody tr th {\n",
       "        vertical-align: top;\n",
       "    }\n",
       "\n",
       "    .dataframe thead th {\n",
       "        text-align: right;\n",
       "    }\n",
       "</style>\n",
       "<table border=\"1\" class=\"dataframe\">\n",
       "  <thead>\n",
       "    <tr style=\"text-align: right;\">\n",
       "      <th></th>\n",
       "      <th>Year</th>\n",
       "      <th>State</th>\n",
       "      <th>CO</th>\n",
       "      <th>NO2</th>\n",
       "      <th>O3</th>\n",
       "      <th>PM2.5</th>\n",
       "      <th>SO2</th>\n",
       "    </tr>\n",
       "  </thead>\n",
       "  <tbody>\n",
       "    <tr>\n",
       "      <th>0</th>\n",
       "      <td>2000</td>\n",
       "      <td>Alabama</td>\n",
       "      <td>-1.125789</td>\n",
       "      <td>1.789021</td>\n",
       "      <td>4.053545</td>\n",
       "      <td>2.712347</td>\n",
       "      <td>1.179214</td>\n",
       "    </tr>\n",
       "    <tr>\n",
       "      <th>1</th>\n",
       "      <td>2000</td>\n",
       "      <td>Arkansas</td>\n",
       "      <td>-1.114789</td>\n",
       "      <td>1.801690</td>\n",
       "      <td>3.987920</td>\n",
       "      <td>2.491300</td>\n",
       "      <td>1.050567</td>\n",
       "    </tr>\n",
       "    <tr>\n",
       "      <th>2</th>\n",
       "      <td>2000</td>\n",
       "      <td>Arizona</td>\n",
       "      <td>-0.862121</td>\n",
       "      <td>2.294140</td>\n",
       "      <td>4.065297</td>\n",
       "      <td>2.001532</td>\n",
       "      <td>0.851465</td>\n",
       "    </tr>\n",
       "    <tr>\n",
       "      <th>3</th>\n",
       "      <td>2000</td>\n",
       "      <td>California</td>\n",
       "      <td>-0.771340</td>\n",
       "      <td>2.375473</td>\n",
       "      <td>3.884360</td>\n",
       "      <td>2.388467</td>\n",
       "      <td>0.657964</td>\n",
       "    </tr>\n",
       "    <tr>\n",
       "      <th>4</th>\n",
       "      <td>2000</td>\n",
       "      <td>Colorado</td>\n",
       "      <td>-0.957474</td>\n",
       "      <td>2.131779</td>\n",
       "      <td>4.091618</td>\n",
       "      <td>1.705032</td>\n",
       "      <td>0.920992</td>\n",
       "    </tr>\n",
       "  </tbody>\n",
       "</table>\n",
       "</div>"
      ],
      "text/plain": [
       "   Year       State        CO       NO2        O3     PM2.5       SO2\n",
       "0  2000     Alabama -1.125789  1.789021  4.053545  2.712347  1.179214\n",
       "1  2000    Arkansas -1.114789  1.801690  3.987920  2.491300  1.050567\n",
       "2  2000     Arizona -0.862121  2.294140  4.065297  2.001532  0.851465\n",
       "3  2000  California -0.771340  2.375473  3.884360  2.388467  0.657964\n",
       "4  2000    Colorado -0.957474  2.131779  4.091618  1.705032  0.920992"
      ]
     },
     "execution_count": 17,
     "metadata": {},
     "output_type": "execute_result"
    }
   ],
   "source": [
    "df.head()"
   ]
  },
  {
   "cell_type": "code",
   "execution_count": 18,
   "id": "fdb7a20e",
   "metadata": {},
   "outputs": [
    {
     "name": "stdout",
     "output_type": "stream",
     "text": [
      "  Variable         VIF\n",
      "0       CO   61.337746\n",
      "1      NO2   71.519121\n",
      "2       O3  188.421114\n",
      "3      SO2    5.697731\n"
     ]
    }
   ],
   "source": [
    "# Multicollinearity\n",
    "\n",
    "from statsmodels.stats.outliers_influence import variance_inflation_factor\n",
    "\n",
    "# Select the independent variables (features)\n",
    "independent_vars = [\"CO\", \"NO2\", \"O3\", \"SO2\"]\n",
    "\n",
    "# Calculate VIF for each variable\n",
    "X = df[independent_vars]\n",
    "vif_data = pd.DataFrame()\n",
    "vif_data[\"Variable\"] = independent_vars\n",
    "vif_data[\"VIF\"] = [variance_inflation_factor(X.values, i) for i in range(X.shape[1])]\n",
    "\n",
    "# Display the VIF values\n",
    "print(vif_data)"
   ]
  },
  {
   "cell_type": "code",
   "execution_count": 19,
   "id": "e557ae9e",
   "metadata": {},
   "outputs": [
    {
     "data": {
      "image/png": "[encoded data removed]",
      "text/plain": [
       "<Figure size 1000x800 with 2 Axes>"
      ]
     },
     "metadata": {},
     "output_type": "display_data"
    }
   ],
   "source": [
    "# Drop the 'State' column\n",
    "corr_df = df.drop(columns=[\"State\"])\n",
    "\n",
    "# Calculate the correlation matrix for 'PM2.5' with all features\n",
    "correlation_pm25 = corr_df.corrwith(df[\"PM2.5\"])\n",
    "\n",
    "# Create a correlation matrix for all features\n",
    "correlation_matrix = corr_df.corr()\n",
    "\n",
    "# Plot the correlation matrix with 'PM2.5' using a heatmap\n",
    "plt.figure(figsize=(10, 8))\n",
    "sn.heatmap(correlation_matrix, annot=True, cmap=\"coolwarm\")\n",
    "plt.title(\"Correlation with PM2.5\")\n",
    "\n",
    "plt.tight_layout()\n",
    "plt.show()"
   ]
  },
  {
   "cell_type": "code",
   "execution_count": 20,
   "id": "dbae7b97",
   "metadata": {
    "scrolled": false
   },
   "outputs": [
    {
     "name": "stdout",
     "output_type": "stream",
     "text": [
      "Explained Variance for PC1: 0.7039\n",
      "Explained Variance for PC2: 0.1589\n",
      "Explained Variance for PC3: 0.0770\n",
      "Explained Variance for PC4: 0.0603\n"
     ]
    },
    {
     "data": {
      "image/png": "[encoded data removed]",
      "text/plain": [
       "<Figure size 800x600 with 1 Axes>"
      ]
     },
     "metadata": {},
     "output_type": "display_data"
    }
   ],
   "source": [
    "from sklearn.decomposition import PCA\n",
    "from sklearn.preprocessing import StandardScaler\n",
    "\n",
    "# Select the columns with numeric data for PCA\n",
    "numeric_columns_scale = [\"CO\", \"NO2\", \"O3\", \"SO2\"]\n",
    "\n",
    "# Standardize the data (mean=0, std=1) for PCA\n",
    "scaler = StandardScaler()\n",
    "data_scaled = scaler.fit_transform(df[numeric_columns_scale])\n",
    "# Apply PCA\n",
    "pca = PCA()\n",
    "\n",
    "pca_result = pca.fit_transform(data_scaled)\n",
    "\n",
    "# Explained variance ratio\n",
    "explained_variance = pca.explained_variance_ratio_\n",
    "\n",
    "# Print explained variance\n",
    "for i, var in enumerate(explained_variance):\n",
    "    print(f\"Explained Variance for PC{i+1}: {var:.4f}\")\n",
    "\n",
    "# Plot explained variance\n",
    "plt.figure(figsize=(8, 6))\n",
    "plt.bar(range(1, len(explained_variance) + 1), explained_variance)\n",
    "plt.xlabel(\"Principal Component\")\n",
    "plt.ylabel(\"Explained Variance\")\n",
    "plt.title(\"Explained Variance by Principal Component\")\n",
    "plt.show()"
   ]
  },
  {
   "cell_type": "code",
   "execution_count": 21,
   "id": "ef181bfc",
   "metadata": {},
   "outputs": [
    {
     "name": "stdout",
     "output_type": "stream",
     "text": [
      "[[-1.63216567 -1.06625552  0.56302883 -0.73582978]\n",
      " [-1.31216212 -0.6157319   0.36630783 -0.56926563]\n",
      " [-2.6546092  -0.740455   -0.74242149  0.16515114]\n",
      " ...\n",
      " [ 2.35792416 -0.05214182  0.27043518  0.13072862]\n",
      " [ 1.4916743  -0.06484719  0.28380804 -0.2140483 ]\n",
      " [ 1.32671929 -0.9019347  -0.03039263 -0.43047724]]\n"
     ]
    }
   ],
   "source": [
    "print(pca_result)"
   ]
  },
  {
   "cell_type": "code",
   "execution_count": 22,
   "id": "2f6e3f96",
   "metadata": {},
   "outputs": [
    {
     "name": "stdout",
     "output_type": "stream",
     "text": [
      "          PC1       PC2       PC3  Year          State     PM2.5\n",
      "0   -1.632166 -1.066256  0.563029  2000        Alabama  2.712347\n",
      "1   -1.312162 -0.615732  0.366308  2000       Arkansas  2.491300\n",
      "2   -2.654609 -0.740455 -0.742421  2000        Arizona  2.001532\n",
      "3   -2.148175  0.685029 -1.218686  2000     California  2.388467\n",
      "4   -2.367333 -1.103787 -0.360892  2000       Colorado  1.705032\n",
      "..        ...       ...       ...   ...            ...       ...\n",
      "763  3.360324  0.415647 -0.248117  2015        Vermont  1.686292\n",
      "764  2.411874  0.244212 -0.509862  2015     Washington  1.827739\n",
      "765  2.357924 -0.052142  0.270435  2015      Wisconsin  1.963984\n",
      "766  1.491674 -0.064847  0.283808  2015  West Virginia  2.025579\n",
      "767  1.326719 -0.901935 -0.030393  2015        Wyoming  1.512608\n",
      "\n",
      "[768 rows x 6 columns]\n"
     ]
    }
   ],
   "source": [
    "# Apply PCA with 3 components\n",
    "pca = PCA(n_components=3)\n",
    "pca_result = pca.fit_transform(data_scaled)\n",
    "\n",
    "# Create a DataFrame with the first 3 principal components\n",
    "pca_df = pd.DataFrame(data=pca_result, columns=[\"PC1\", \"PC2\", \"PC3\"])\n",
    "\n",
    "# Add the 'Year' and 'State' columns back if needed\n",
    "pca_df[\"Year\"] = df[\"Year\"]\n",
    "pca_df[\"State\"] = df[\"State\"]\n",
    "pca_df[\"PM2.5\"] = df[\"PM2.5\"]\n",
    "\n",
    "# Print the DataFrame with the first 3 principal components\n",
    "print(pca_df)"
   ]
  },
  {
   "cell_type": "code",
   "execution_count": 23,
   "id": "a99aab6f",
   "metadata": {},
   "outputs": [
    {
     "data": {
      "text/plain": [
       "array([2000, 2001, 2002, 2003, 2004, 2005, 2006, 2007, 2008, 2009, 2010,\n",
       "       2011, 2012, 2013, 2014, 2015], dtype=int64)"
      ]
     },
     "execution_count": 23,
     "metadata": {},
     "output_type": "execute_result"
    }
   ],
   "source": [
    "pca_df[\"Year\"].unique()"
   ]
  },
  {
   "cell_type": "code",
   "execution_count": 24,
   "id": "c8f27a81",
   "metadata": {},
   "outputs": [
    {
     "name": "stdout",
     "output_type": "stream",
     "text": [
      "          PC1       PC2       PC3  Year          State     PM2.5\n",
      "0   -1.632166 -1.066256  0.563029  2000        Alabama  2.712347\n",
      "1   -1.312162 -0.615732  0.366308  2000       Arkansas  2.491300\n",
      "2   -2.654609 -0.740455 -0.742421  2000        Arizona  2.001532\n",
      "3   -2.148175  0.685029 -1.218686  2000     California  2.388467\n",
      "4   -2.367333 -1.103787 -0.360892  2000       Colorado  1.705032\n",
      "..        ...       ...       ...   ...            ...       ...\n",
      "507  1.532559  0.530844  0.822919  2010  New Hampshire  1.751572\n",
      "508 -1.084516 -0.450412 -0.171723  2010     New Jersey  2.207029\n",
      "509 -0.160522 -0.462526 -0.314423  2010     New Mexico  1.490716\n",
      "510 -0.637699 -0.740661 -0.694691  2010         Nevada  1.502047\n",
      "511  0.254899  0.397445 -0.274704  2010       New York  2.037290\n",
      "\n",
      "[512 rows x 6 columns]\n",
      "          PC1       PC2       PC3  Year          State     PM2.5\n",
      "512 -0.480961 -0.418519  0.735844  2010           Ohio  2.436982\n",
      "513  0.649612 -0.066788 -0.199795  2010       Oklahoma  2.185926\n",
      "514  1.596549  1.221177 -0.421867  2010         Oregon  1.647509\n",
      "515 -0.700529 -0.013706  0.361152  2010   Pennsylvania  2.233303\n",
      "516 -0.359253  0.346131  0.040925  2010   Rhode Island  2.020856\n",
      "..        ...       ...       ...   ...            ...       ...\n",
      "763  3.360324  0.415647 -0.248117  2015        Vermont  1.686292\n",
      "764  2.411874  0.244212 -0.509862  2015     Washington  1.827739\n",
      "765  2.357924 -0.052142  0.270435  2015      Wisconsin  1.963984\n",
      "766  1.491674 -0.064847  0.283808  2015  West Virginia  2.025579\n",
      "767  1.326719 -0.901935 -0.030393  2015        Wyoming  1.512608\n",
      "\n",
      "[256 rows x 6 columns]\n"
     ]
    }
   ],
   "source": [
    "from sklearn.model_selection import TimeSeriesSplit\n",
    "\n",
    "# Create a TimeSeriesSplit with 2 splits\n",
    "tscv = TimeSeriesSplit(n_splits=2)\n",
    "\n",
    "# Split the data based on the \"Year\" column\n",
    "for train_index, test_index in tscv.split(pca_df):\n",
    "    train_data = pca_df.iloc[train_index]\n",
    "    test_data = pca_df.iloc[test_index]\n",
    "\n",
    "print(train_data)\n",
    "print(test_data)"
   ]
  },
  {
   "cell_type": "code",
   "execution_count": 25,
   "id": "884cdbec",
   "metadata": {},
   "outputs": [],
   "source": [
    "# Filter train and test data based on the specified years\n",
    "# train_data = train_data[train_data['Year'] <= 2012]\n",
    "# test_data = test_data[(test_data['Year'] >= 2013) & (test_data['Year'] <= 2015)]\n",
    "\n",
    "# Separate the independent variables (X) and the target variable (y)\n",
    "X_train = train_data.drop(columns=[\"PM2.5\", \"Year\"])\n",
    "y_train = train_data[\"PM2.5\"]\n",
    "\n",
    "X_test = test_data.drop(columns=[\"PM2.5\", \"Year\"])\n",
    "y_test = test_data[\"PM2.5\"]"
   ]
  },
  {
   "cell_type": "code",
   "execution_count": 26,
   "id": "f3c81b41",
   "metadata": {},
   "outputs": [
    {
     "data": {
      "text/plain": [
       "(512, 4)"
      ]
     },
     "execution_count": 26,
     "metadata": {},
     "output_type": "execute_result"
    }
   ],
   "source": [
    "X_train.shape"
   ]
  },
  {
   "cell_type": "code",
   "execution_count": 27,
   "id": "7c9c112a",
   "metadata": {},
   "outputs": [
    {
     "data": {
      "text/plain": [
       "(256, 4)"
      ]
     },
     "execution_count": 27,
     "metadata": {},
     "output_type": "execute_result"
    }
   ],
   "source": [
    "X_test.shape"
   ]
  },
  {
   "cell_type": "code",
   "execution_count": 28,
   "id": "2fc20374",
   "metadata": {},
   "outputs": [],
   "source": [
    "X_train = pd.get_dummies(X_train, columns=[\"State\"], prefix=\"State\")\n",
    "X_test = pd.get_dummies(X_test, columns=[\"State\"], prefix=\"State\")"
   ]
  },
  {
   "cell_type": "code",
   "execution_count": 29,
   "id": "6784204d",
   "metadata": {},
   "outputs": [
    {
     "data": {
      "text/html": [
       "<div>\n",
       "<style scoped>\n",
       "    .dataframe tbody tr th:only-of-type {\n",
       "        vertical-align: middle;\n",
       "    }\n",
       "\n",
       "    .dataframe tbody tr th {\n",
       "        vertical-align: top;\n",
       "    }\n",
       "\n",
       "    .dataframe thead th {\n",
       "        text-align: right;\n",
       "    }\n",
       "</style>\n",
       "<table border=\"1\" class=\"dataframe\">\n",
       "  <thead>\n",
       "    <tr style=\"text-align: right;\">\n",
       "      <th></th>\n",
       "      <th>PC1</th>\n",
       "      <th>PC2</th>\n",
       "      <th>PC3</th>\n",
       "      <th>State_Alabama</th>\n",
       "      <th>State_Arizona</th>\n",
       "      <th>State_Arkansas</th>\n",
       "      <th>State_California</th>\n",
       "      <th>State_Colorado</th>\n",
       "      <th>State_Connecticut</th>\n",
       "      <th>State_Delaware</th>\n",
       "      <th>...</th>\n",
       "      <th>State_South Dakota</th>\n",
       "      <th>State_Tennessee</th>\n",
       "      <th>State_Texas</th>\n",
       "      <th>State_Utah</th>\n",
       "      <th>State_Vermont</th>\n",
       "      <th>State_Virginia</th>\n",
       "      <th>State_Washington</th>\n",
       "      <th>State_West Virginia</th>\n",
       "      <th>State_Wisconsin</th>\n",
       "      <th>State_Wyoming</th>\n",
       "    </tr>\n",
       "  </thead>\n",
       "  <tbody>\n",
       "    <tr>\n",
       "      <th>0</th>\n",
       "      <td>-1.632166</td>\n",
       "      <td>-1.066256</td>\n",
       "      <td>0.563029</td>\n",
       "      <td>True</td>\n",
       "      <td>False</td>\n",
       "      <td>False</td>\n",
       "      <td>False</td>\n",
       "      <td>False</td>\n",
       "      <td>False</td>\n",
       "      <td>False</td>\n",
       "      <td>...</td>\n",
       "      <td>False</td>\n",
       "      <td>False</td>\n",
       "      <td>False</td>\n",
       "      <td>False</td>\n",
       "      <td>False</td>\n",
       "      <td>False</td>\n",
       "      <td>False</td>\n",
       "      <td>False</td>\n",
       "      <td>False</td>\n",
       "      <td>False</td>\n",
       "    </tr>\n",
       "    <tr>\n",
       "      <th>1</th>\n",
       "      <td>-1.312162</td>\n",
       "      <td>-0.615732</td>\n",
       "      <td>0.366308</td>\n",
       "      <td>False</td>\n",
       "      <td>False</td>\n",
       "      <td>True</td>\n",
       "      <td>False</td>\n",
       "      <td>False</td>\n",
       "      <td>False</td>\n",
       "      <td>False</td>\n",
       "      <td>...</td>\n",
       "      <td>False</td>\n",
       "      <td>False</td>\n",
       "      <td>False</td>\n",
       "      <td>False</td>\n",
       "      <td>False</td>\n",
       "      <td>False</td>\n",
       "      <td>False</td>\n",
       "      <td>False</td>\n",
       "      <td>False</td>\n",
       "      <td>False</td>\n",
       "    </tr>\n",
       "    <tr>\n",
       "      <th>2</th>\n",
       "      <td>-2.654609</td>\n",
       "      <td>-0.740455</td>\n",
       "      <td>-0.742421</td>\n",
       "      <td>False</td>\n",
       "      <td>True</td>\n",
       "      <td>False</td>\n",
       "      <td>False</td>\n",
       "      <td>False</td>\n",
       "      <td>False</td>\n",
       "      <td>False</td>\n",
       "      <td>...</td>\n",
       "      <td>False</td>\n",
       "      <td>False</td>\n",
       "      <td>False</td>\n",
       "      <td>False</td>\n",
       "      <td>False</td>\n",
       "      <td>False</td>\n",
       "      <td>False</td>\n",
       "      <td>False</td>\n",
       "      <td>False</td>\n",
       "      <td>False</td>\n",
       "    </tr>\n",
       "    <tr>\n",
       "      <th>3</th>\n",
       "      <td>-2.148175</td>\n",
       "      <td>0.685029</td>\n",
       "      <td>-1.218686</td>\n",
       "      <td>False</td>\n",
       "      <td>False</td>\n",
       "      <td>False</td>\n",
       "      <td>True</td>\n",
       "      <td>False</td>\n",
       "      <td>False</td>\n",
       "      <td>False</td>\n",
       "      <td>...</td>\n",
       "      <td>False</td>\n",
       "      <td>False</td>\n",
       "      <td>False</td>\n",
       "      <td>False</td>\n",
       "      <td>False</td>\n",
       "      <td>False</td>\n",
       "      <td>False</td>\n",
       "      <td>False</td>\n",
       "      <td>False</td>\n",
       "      <td>False</td>\n",
       "    </tr>\n",
       "    <tr>\n",
       "      <th>4</th>\n",
       "      <td>-2.367333</td>\n",
       "      <td>-1.103787</td>\n",
       "      <td>-0.360892</td>\n",
       "      <td>False</td>\n",
       "      <td>False</td>\n",
       "      <td>False</td>\n",
       "      <td>False</td>\n",
       "      <td>True</td>\n",
       "      <td>False</td>\n",
       "      <td>False</td>\n",
       "      <td>...</td>\n",
       "      <td>False</td>\n",
       "      <td>False</td>\n",
       "      <td>False</td>\n",
       "      <td>False</td>\n",
       "      <td>False</td>\n",
       "      <td>False</td>\n",
       "      <td>False</td>\n",
       "      <td>False</td>\n",
       "      <td>False</td>\n",
       "      <td>False</td>\n",
       "    </tr>\n",
       "    <tr>\n",
       "      <th>...</th>\n",
       "      <td>...</td>\n",
       "      <td>...</td>\n",
       "      <td>...</td>\n",
       "      <td>...</td>\n",
       "      <td>...</td>\n",
       "      <td>...</td>\n",
       "      <td>...</td>\n",
       "      <td>...</td>\n",
       "      <td>...</td>\n",
       "      <td>...</td>\n",
       "      <td>...</td>\n",
       "      <td>...</td>\n",
       "      <td>...</td>\n",
       "      <td>...</td>\n",
       "      <td>...</td>\n",
       "      <td>...</td>\n",
       "      <td>...</td>\n",
       "      <td>...</td>\n",
       "      <td>...</td>\n",
       "      <td>...</td>\n",
       "      <td>...</td>\n",
       "    </tr>\n",
       "    <tr>\n",
       "      <th>507</th>\n",
       "      <td>1.532559</td>\n",
       "      <td>0.530844</td>\n",
       "      <td>0.822919</td>\n",
       "      <td>False</td>\n",
       "      <td>False</td>\n",
       "      <td>False</td>\n",
       "      <td>False</td>\n",
       "      <td>False</td>\n",
       "      <td>False</td>\n",
       "      <td>False</td>\n",
       "      <td>...</td>\n",
       "      <td>False</td>\n",
       "      <td>False</td>\n",
       "      <td>False</td>\n",
       "      <td>False</td>\n",
       "      <td>False</td>\n",
       "      <td>False</td>\n",
       "      <td>False</td>\n",
       "      <td>False</td>\n",
       "      <td>False</td>\n",
       "      <td>False</td>\n",
       "    </tr>\n",
       "    <tr>\n",
       "      <th>508</th>\n",
       "      <td>-1.084516</td>\n",
       "      <td>-0.450412</td>\n",
       "      <td>-0.171723</td>\n",
       "      <td>False</td>\n",
       "      <td>False</td>\n",
       "      <td>False</td>\n",
       "      <td>False</td>\n",
       "      <td>False</td>\n",
       "      <td>False</td>\n",
       "      <td>False</td>\n",
       "      <td>...</td>\n",
       "      <td>False</td>\n",
       "      <td>False</td>\n",
       "      <td>False</td>\n",
       "      <td>False</td>\n",
       "      <td>False</td>\n",
       "      <td>False</td>\n",
       "      <td>False</td>\n",
       "      <td>False</td>\n",
       "      <td>False</td>\n",
       "      <td>False</td>\n",
       "    </tr>\n",
       "    <tr>\n",
       "      <th>509</th>\n",
       "      <td>-0.160522</td>\n",
       "      <td>-0.462526</td>\n",
       "      <td>-0.314423</td>\n",
       "      <td>False</td>\n",
       "      <td>False</td>\n",
       "      <td>False</td>\n",
       "      <td>False</td>\n",
       "      <td>False</td>\n",
       "      <td>False</td>\n",
       "      <td>False</td>\n",
       "      <td>...</td>\n",
       "      <td>False</td>\n",
       "      <td>False</td>\n",
       "      <td>False</td>\n",
       "      <td>False</td>\n",
       "      <td>False</td>\n",
       "      <td>False</td>\n",
       "      <td>False</td>\n",
       "      <td>False</td>\n",
       "      <td>False</td>\n",
       "      <td>False</td>\n",
       "    </tr>\n",
       "    <tr>\n",
       "      <th>510</th>\n",
       "      <td>-0.637699</td>\n",
       "      <td>-0.740661</td>\n",
       "      <td>-0.694691</td>\n",
       "      <td>False</td>\n",
       "      <td>False</td>\n",
       "      <td>False</td>\n",
       "      <td>False</td>\n",
       "      <td>False</td>\n",
       "      <td>False</td>\n",
       "      <td>False</td>\n",
       "      <td>...</td>\n",
       "      <td>False</td>\n",
       "      <td>False</td>\n",
       "      <td>False</td>\n",
       "      <td>False</td>\n",
       "      <td>False</td>\n",
       "      <td>False</td>\n",
       "      <td>False</td>\n",
       "      <td>False</td>\n",
       "      <td>False</td>\n",
       "      <td>False</td>\n",
       "    </tr>\n",
       "    <tr>\n",
       "      <th>511</th>\n",
       "      <td>0.254899</td>\n",
       "      <td>0.397445</td>\n",
       "      <td>-0.274704</td>\n",
       "      <td>False</td>\n",
       "      <td>False</td>\n",
       "      <td>False</td>\n",
       "      <td>False</td>\n",
       "      <td>False</td>\n",
       "      <td>False</td>\n",
       "      <td>False</td>\n",
       "      <td>...</td>\n",
       "      <td>False</td>\n",
       "      <td>False</td>\n",
       "      <td>False</td>\n",
       "      <td>False</td>\n",
       "      <td>False</td>\n",
       "      <td>False</td>\n",
       "      <td>False</td>\n",
       "      <td>False</td>\n",
       "      <td>False</td>\n",
       "      <td>False</td>\n",
       "    </tr>\n",
       "  </tbody>\n",
       "</table>\n",
       "<p>512 rows × 51 columns</p>\n",
       "</div>"
      ],
      "text/plain": [
       "          PC1       PC2       PC3  State_Alabama  State_Arizona  \\\n",
       "0   -1.632166 -1.066256  0.563029           True          False   \n",
       "1   -1.312162 -0.615732  0.366308          False          False   \n",
       "2   -2.654609 -0.740455 -0.742421          False           True   \n",
       "3   -2.148175  0.685029 -1.218686          False          False   \n",
       "4   -2.367333 -1.103787 -0.360892          False          False   \n",
       "..        ...       ...       ...            ...            ...   \n",
       "507  1.532559  0.530844  0.822919          False          False   \n",
       "508 -1.084516 -0.450412 -0.171723          False          False   \n",
       "509 -0.160522 -0.462526 -0.314423          False          False   \n",
       "510 -0.637699 -0.740661 -0.694691          False          False   \n",
       "511  0.254899  0.397445 -0.274704          False          False   \n",
       "\n",
       "     State_Arkansas  State_California  State_Colorado  State_Connecticut  \\\n",
       "0             False             False           False              False   \n",
       "1              True             False           False              False   \n",
       "2             False             False           False              False   \n",
       "3             False              True           False              False   \n",
       "4             False             False            True              False   \n",
       "..              ...               ...             ...                ...   \n",
       "507           False             False           False              False   \n",
       "508           False             False           False              False   \n",
       "509           False             False           False              False   \n",
       "510           False             False           False              False   \n",
       "511           False             False           False              False   \n",
       "\n",
       "     State_Delaware  ...  State_South Dakota  State_Tennessee  State_Texas  \\\n",
       "0             False  ...               False            False        False   \n",
       "1             False  ...               False            False        False   \n",
       "2             False  ...               False            False        False   \n",
       "3             False  ...               False            False        False   \n",
       "4             False  ...               False            False        False   \n",
       "..              ...  ...                 ...              ...          ...   \n",
       "507           False  ...               False            False        False   \n",
       "508           False  ...               False            False        False   \n",
       "509           False  ...               False            False        False   \n",
       "510           False  ...               False            False        False   \n",
       "511           False  ...               False            False        False   \n",
       "\n",
       "     State_Utah  State_Vermont  State_Virginia  State_Washington  \\\n",
       "0         False          False           False             False   \n",
       "1         False          False           False             False   \n",
       "2         False          False           False             False   \n",
       "3         False          False           False             False   \n",
       "4         False          False           False             False   \n",
       "..          ...            ...             ...               ...   \n",
       "507       False          False           False             False   \n",
       "508       False          False           False             False   \n",
       "509       False          False           False             False   \n",
       "510       False          False           False             False   \n",
       "511       False          False           False             False   \n",
       "\n",
       "     State_West Virginia  State_Wisconsin  State_Wyoming  \n",
       "0                  False            False          False  \n",
       "1                  False            False          False  \n",
       "2                  False            False          False  \n",
       "3                  False            False          False  \n",
       "4                  False            False          False  \n",
       "..                   ...              ...            ...  \n",
       "507                False            False          False  \n",
       "508                False            False          False  \n",
       "509                False            False          False  \n",
       "510                False            False          False  \n",
       "511                False            False          False  \n",
       "\n",
       "[512 rows x 51 columns]"
      ]
     },
     "execution_count": 29,
     "metadata": {},
     "output_type": "execute_result"
    }
   ],
   "source": [
    "X_train"
   ]
  },
  {
   "cell_type": "code",
   "execution_count": 30,
   "id": "81638687",
   "metadata": {},
   "outputs": [
    {
     "data": {
      "text/html": [
       "<div>\n",
       "<style scoped>\n",
       "    .dataframe tbody tr th:only-of-type {\n",
       "        vertical-align: middle;\n",
       "    }\n",
       "\n",
       "    .dataframe tbody tr th {\n",
       "        vertical-align: top;\n",
       "    }\n",
       "\n",
       "    .dataframe thead th {\n",
       "        text-align: right;\n",
       "    }\n",
       "</style>\n",
       "<table border=\"1\" class=\"dataframe\">\n",
       "  <thead>\n",
       "    <tr style=\"text-align: right;\">\n",
       "      <th></th>\n",
       "      <th>PC1</th>\n",
       "      <th>PC2</th>\n",
       "      <th>PC3</th>\n",
       "      <th>State_Alabama</th>\n",
       "      <th>State_Arizona</th>\n",
       "      <th>State_Arkansas</th>\n",
       "      <th>State_California</th>\n",
       "      <th>State_Colorado</th>\n",
       "      <th>State_Connecticut</th>\n",
       "      <th>State_Delaware</th>\n",
       "      <th>...</th>\n",
       "      <th>State_South Dakota</th>\n",
       "      <th>State_Tennessee</th>\n",
       "      <th>State_Texas</th>\n",
       "      <th>State_Utah</th>\n",
       "      <th>State_Vermont</th>\n",
       "      <th>State_Virginia</th>\n",
       "      <th>State_Washington</th>\n",
       "      <th>State_West Virginia</th>\n",
       "      <th>State_Wisconsin</th>\n",
       "      <th>State_Wyoming</th>\n",
       "    </tr>\n",
       "  </thead>\n",
       "  <tbody>\n",
       "    <tr>\n",
       "      <th>512</th>\n",
       "      <td>-0.480961</td>\n",
       "      <td>-0.418519</td>\n",
       "      <td>0.735844</td>\n",
       "      <td>False</td>\n",
       "      <td>False</td>\n",
       "      <td>False</td>\n",
       "      <td>False</td>\n",
       "      <td>False</td>\n",
       "      <td>False</td>\n",
       "      <td>False</td>\n",
       "      <td>...</td>\n",
       "      <td>False</td>\n",
       "      <td>False</td>\n",
       "      <td>False</td>\n",
       "      <td>False</td>\n",
       "      <td>False</td>\n",
       "      <td>False</td>\n",
       "      <td>False</td>\n",
       "      <td>False</td>\n",
       "      <td>False</td>\n",
       "      <td>False</td>\n",
       "    </tr>\n",
       "    <tr>\n",
       "      <th>513</th>\n",
       "      <td>0.649612</td>\n",
       "      <td>-0.066788</td>\n",
       "      <td>-0.199795</td>\n",
       "      <td>False</td>\n",
       "      <td>False</td>\n",
       "      <td>False</td>\n",
       "      <td>False</td>\n",
       "      <td>False</td>\n",
       "      <td>False</td>\n",
       "      <td>False</td>\n",
       "      <td>...</td>\n",
       "      <td>False</td>\n",
       "      <td>False</td>\n",
       "      <td>False</td>\n",
       "      <td>False</td>\n",
       "      <td>False</td>\n",
       "      <td>False</td>\n",
       "      <td>False</td>\n",
       "      <td>False</td>\n",
       "      <td>False</td>\n",
       "      <td>False</td>\n",
       "    </tr>\n",
       "    <tr>\n",
       "      <th>514</th>\n",
       "      <td>1.596549</td>\n",
       "      <td>1.221177</td>\n",
       "      <td>-0.421867</td>\n",
       "      <td>False</td>\n",
       "      <td>False</td>\n",
       "      <td>False</td>\n",
       "      <td>False</td>\n",
       "      <td>False</td>\n",
       "      <td>False</td>\n",
       "      <td>False</td>\n",
       "      <td>...</td>\n",
       "      <td>False</td>\n",
       "      <td>False</td>\n",
       "      <td>False</td>\n",
       "      <td>False</td>\n",
       "      <td>False</td>\n",
       "      <td>False</td>\n",
       "      <td>False</td>\n",
       "      <td>False</td>\n",
       "      <td>False</td>\n",
       "      <td>False</td>\n",
       "    </tr>\n",
       "    <tr>\n",
       "      <th>515</th>\n",
       "      <td>-0.700529</td>\n",
       "      <td>-0.013706</td>\n",
       "      <td>0.361152</td>\n",
       "      <td>False</td>\n",
       "      <td>False</td>\n",
       "      <td>False</td>\n",
       "      <td>False</td>\n",
       "      <td>False</td>\n",
       "      <td>False</td>\n",
       "      <td>False</td>\n",
       "      <td>...</td>\n",
       "      <td>False</td>\n",
       "      <td>False</td>\n",
       "      <td>False</td>\n",
       "      <td>False</td>\n",
       "      <td>False</td>\n",
       "      <td>False</td>\n",
       "      <td>False</td>\n",
       "      <td>False</td>\n",
       "      <td>False</td>\n",
       "      <td>False</td>\n",
       "    </tr>\n",
       "    <tr>\n",
       "      <th>516</th>\n",
       "      <td>-0.359253</td>\n",
       "      <td>0.346131</td>\n",
       "      <td>0.040925</td>\n",
       "      <td>False</td>\n",
       "      <td>False</td>\n",
       "      <td>False</td>\n",
       "      <td>False</td>\n",
       "      <td>False</td>\n",
       "      <td>False</td>\n",
       "      <td>False</td>\n",
       "      <td>...</td>\n",
       "      <td>False</td>\n",
       "      <td>False</td>\n",
       "      <td>False</td>\n",
       "      <td>False</td>\n",
       "      <td>False</td>\n",
       "      <td>False</td>\n",
       "      <td>False</td>\n",
       "      <td>False</td>\n",
       "      <td>False</td>\n",
       "      <td>False</td>\n",
       "    </tr>\n",
       "    <tr>\n",
       "      <th>...</th>\n",
       "      <td>...</td>\n",
       "      <td>...</td>\n",
       "      <td>...</td>\n",
       "      <td>...</td>\n",
       "      <td>...</td>\n",
       "      <td>...</td>\n",
       "      <td>...</td>\n",
       "      <td>...</td>\n",
       "      <td>...</td>\n",
       "      <td>...</td>\n",
       "      <td>...</td>\n",
       "      <td>...</td>\n",
       "      <td>...</td>\n",
       "      <td>...</td>\n",
       "      <td>...</td>\n",
       "      <td>...</td>\n",
       "      <td>...</td>\n",
       "      <td>...</td>\n",
       "      <td>...</td>\n",
       "      <td>...</td>\n",
       "      <td>...</td>\n",
       "    </tr>\n",
       "    <tr>\n",
       "      <th>763</th>\n",
       "      <td>3.360324</td>\n",
       "      <td>0.415647</td>\n",
       "      <td>-0.248117</td>\n",
       "      <td>False</td>\n",
       "      <td>False</td>\n",
       "      <td>False</td>\n",
       "      <td>False</td>\n",
       "      <td>False</td>\n",
       "      <td>False</td>\n",
       "      <td>False</td>\n",
       "      <td>...</td>\n",
       "      <td>False</td>\n",
       "      <td>False</td>\n",
       "      <td>False</td>\n",
       "      <td>False</td>\n",
       "      <td>True</td>\n",
       "      <td>False</td>\n",
       "      <td>False</td>\n",
       "      <td>False</td>\n",
       "      <td>False</td>\n",
       "      <td>False</td>\n",
       "    </tr>\n",
       "    <tr>\n",
       "      <th>764</th>\n",
       "      <td>2.411874</td>\n",
       "      <td>0.244212</td>\n",
       "      <td>-0.509862</td>\n",
       "      <td>False</td>\n",
       "      <td>False</td>\n",
       "      <td>False</td>\n",
       "      <td>False</td>\n",
       "      <td>False</td>\n",
       "      <td>False</td>\n",
       "      <td>False</td>\n",
       "      <td>...</td>\n",
       "      <td>False</td>\n",
       "      <td>False</td>\n",
       "      <td>False</td>\n",
       "      <td>False</td>\n",
       "      <td>False</td>\n",
       "      <td>False</td>\n",
       "      <td>True</td>\n",
       "      <td>False</td>\n",
       "      <td>False</td>\n",
       "      <td>False</td>\n",
       "    </tr>\n",
       "    <tr>\n",
       "      <th>765</th>\n",
       "      <td>2.357924</td>\n",
       "      <td>-0.052142</td>\n",
       "      <td>0.270435</td>\n",
       "      <td>False</td>\n",
       "      <td>False</td>\n",
       "      <td>False</td>\n",
       "      <td>False</td>\n",
       "      <td>False</td>\n",
       "      <td>False</td>\n",
       "      <td>False</td>\n",
       "      <td>...</td>\n",
       "      <td>False</td>\n",
       "      <td>False</td>\n",
       "      <td>False</td>\n",
       "      <td>False</td>\n",
       "      <td>False</td>\n",
       "      <td>False</td>\n",
       "      <td>False</td>\n",
       "      <td>False</td>\n",
       "      <td>True</td>\n",
       "      <td>False</td>\n",
       "    </tr>\n",
       "    <tr>\n",
       "      <th>766</th>\n",
       "      <td>1.491674</td>\n",
       "      <td>-0.064847</td>\n",
       "      <td>0.283808</td>\n",
       "      <td>False</td>\n",
       "      <td>False</td>\n",
       "      <td>False</td>\n",
       "      <td>False</td>\n",
       "      <td>False</td>\n",
       "      <td>False</td>\n",
       "      <td>False</td>\n",
       "      <td>...</td>\n",
       "      <td>False</td>\n",
       "      <td>False</td>\n",
       "      <td>False</td>\n",
       "      <td>False</td>\n",
       "      <td>False</td>\n",
       "      <td>False</td>\n",
       "      <td>False</td>\n",
       "      <td>True</td>\n",
       "      <td>False</td>\n",
       "      <td>False</td>\n",
       "    </tr>\n",
       "    <tr>\n",
       "      <th>767</th>\n",
       "      <td>1.326719</td>\n",
       "      <td>-0.901935</td>\n",
       "      <td>-0.030393</td>\n",
       "      <td>False</td>\n",
       "      <td>False</td>\n",
       "      <td>False</td>\n",
       "      <td>False</td>\n",
       "      <td>False</td>\n",
       "      <td>False</td>\n",
       "      <td>False</td>\n",
       "      <td>...</td>\n",
       "      <td>False</td>\n",
       "      <td>False</td>\n",
       "      <td>False</td>\n",
       "      <td>False</td>\n",
       "      <td>False</td>\n",
       "      <td>False</td>\n",
       "      <td>False</td>\n",
       "      <td>False</td>\n",
       "      <td>False</td>\n",
       "      <td>True</td>\n",
       "    </tr>\n",
       "  </tbody>\n",
       "</table>\n",
       "<p>256 rows × 51 columns</p>\n",
       "</div>"
      ],
      "text/plain": [
       "          PC1       PC2       PC3  State_Alabama  State_Arizona  \\\n",
       "512 -0.480961 -0.418519  0.735844          False          False   \n",
       "513  0.649612 -0.066788 -0.199795          False          False   \n",
       "514  1.596549  1.221177 -0.421867          False          False   \n",
       "515 -0.700529 -0.013706  0.361152          False          False   \n",
       "516 -0.359253  0.346131  0.040925          False          False   \n",
       "..        ...       ...       ...            ...            ...   \n",
       "763  3.360324  0.415647 -0.248117          False          False   \n",
       "764  2.411874  0.244212 -0.509862          False          False   \n",
       "765  2.357924 -0.052142  0.270435          False          False   \n",
       "766  1.491674 -0.064847  0.283808          False          False   \n",
       "767  1.326719 -0.901935 -0.030393          False          False   \n",
       "\n",
       "     State_Arkansas  State_California  State_Colorado  State_Connecticut  \\\n",
       "512           False             False           False              False   \n",
       "513           False             False           False              False   \n",
       "514           False             False           False              False   \n",
       "515           False             False           False              False   \n",
       "516           False             False           False              False   \n",
       "..              ...               ...             ...                ...   \n",
       "763           False             False           False              False   \n",
       "764           False             False           False              False   \n",
       "765           False             False           False              False   \n",
       "766           False             False           False              False   \n",
       "767           False             False           False              False   \n",
       "\n",
       "     State_Delaware  ...  State_South Dakota  State_Tennessee  State_Texas  \\\n",
       "512           False  ...               False            False        False   \n",
       "513           False  ...               False            False        False   \n",
       "514           False  ...               False            False        False   \n",
       "515           False  ...               False            False        False   \n",
       "516           False  ...               False            False        False   \n",
       "..              ...  ...                 ...              ...          ...   \n",
       "763           False  ...               False            False        False   \n",
       "764           False  ...               False            False        False   \n",
       "765           False  ...               False            False        False   \n",
       "766           False  ...               False            False        False   \n",
       "767           False  ...               False            False        False   \n",
       "\n",
       "     State_Utah  State_Vermont  State_Virginia  State_Washington  \\\n",
       "512       False          False           False             False   \n",
       "513       False          False           False             False   \n",
       "514       False          False           False             False   \n",
       "515       False          False           False             False   \n",
       "516       False          False           False             False   \n",
       "..          ...            ...             ...               ...   \n",
       "763       False           True           False             False   \n",
       "764       False          False           False              True   \n",
       "765       False          False           False             False   \n",
       "766       False          False           False             False   \n",
       "767       False          False           False             False   \n",
       "\n",
       "     State_West Virginia  State_Wisconsin  State_Wyoming  \n",
       "512                False            False          False  \n",
       "513                False            False          False  \n",
       "514                False            False          False  \n",
       "515                False            False          False  \n",
       "516                False            False          False  \n",
       "..                   ...              ...            ...  \n",
       "763                False            False          False  \n",
       "764                False            False          False  \n",
       "765                False             True          False  \n",
       "766                 True            False          False  \n",
       "767                False            False           True  \n",
       "\n",
       "[256 rows x 51 columns]"
      ]
     },
     "execution_count": 30,
     "metadata": {},
     "output_type": "execute_result"
    }
   ],
   "source": [
    "X_test"
   ]
  },
  {
   "cell_type": "markdown",
   "id": "24c89973",
   "metadata": {},
   "source": [
    "## Model Building\n"
   ]
  },
  {
   "cell_type": "code",
   "execution_count": 31,
   "id": "119f8ef5",
   "metadata": {},
   "outputs": [
    {
     "name": "stdout",
     "output_type": "stream",
     "text": [
      "r2score= 0.85148991300255\n",
      "Mean absolute error =  0.0655120626025439\n",
      "Mean Squared error =  0.006694543640412132\n",
      "Root Mean Sqaured Error=  0.08182019090916454\n",
      "model score on training data: 0.957183016940382\n",
      "model score on test data: 0.85148991300255\n"
     ]
    }
   ],
   "source": [
    "from sklearn.linear_model import LinearRegression\n",
    "from sklearn.metrics import mean_absolute_error, mean_squared_error, r2_score\n",
    "\n",
    "lr = LinearRegression()\n",
    "lr.fit(X_train, y_train)\n",
    "pred = lr.predict(X_test)\n",
    "r2 = r2_score(y_test, pred)\n",
    "mae = mean_absolute_error(pred, y_test)\n",
    "mse = mean_squared_error(pred, y_test)\n",
    "rmse = np.sqrt(mean_squared_error(pred, y_test))\n",
    "print(\"r2score=\", r2)\n",
    "print(\"Mean absolute error = \", mae)\n",
    "print(\"Mean Squared error = \", mse)\n",
    "print(\"Root Mean Sqaured Error= \", rmse)\n",
    "\n",
    "print(\"model score on training data:\",lr.score(X_train, y_train))\n",
    "print(\"model score on test data:\",lr.score(X_test, y_test))"
   ]
  },
  {
   "cell_type": "code",
   "execution_count": 32,
   "id": "92093837",
   "metadata": {},
   "outputs": [],
   "source": [
    "from sklearn.model_selection import cross_val_score"
   ]
  },
  {
   "cell_type": "code",
   "execution_count": 34,
   "id": "df009fda",
   "metadata": {},
   "outputs": [
    {
     "data": {
      "text/plain": [
       "0.9139089522560564"
      ]
     },
     "execution_count": 34,
     "metadata": {},
     "output_type": "execute_result"
    }
   ],
   "source": [
    "cv_score = cross_val_score(lr, X_train, y_train, cv=5)\n",
    "cv_mean = cv_score.mean()\n",
    "cv_mean"
   ]
  },
  {
   "cell_type": "code",
   "execution_count": null,
   "id": "1bdc4f27",
   "metadata": {},
   "outputs": [
    {
     "name": "stdout",
     "output_type": "stream",
     "text": [
      "r2score= -0.20727591916996757\n",
      "Mean absolute error =  0.1777875725655494\n",
      "Mean Squared error =  0.0544216321618665\n",
      "Root Mean Sqaured Error=  0.233284444749037\n"
     ]
    }
   ],
   "source": [
    "from sklearn.tree import DecisionTreeRegressor\n",
    "\n",
    "dtr = DecisionTreeRegressor()\n",
    "dtr.fit(X_train, y_train)\n",
    "pred = dtr.predict(X_test)\n",
    "r2 = r2_score(y_test, pred)\n",
    "mae = mean_absolute_error(pred, y_test)\n",
    "mse = mean_squared_error(pred, y_test)\n",
    "rmse = np.sqrt(mean_squared_error(pred, y_test))\n",
    "print(\"r2score=\", r2)\n",
    "print(\"Mean absolute error = \", mae)\n",
    "print(\"Mean Squared error = \", mse)\n",
    "print(\"Root Mean Sqaured Error= \", rmse)"
   ]
  },
  {
   "cell_type": "code",
   "execution_count": null,
   "id": "5dc374a7",
   "metadata": {},
   "outputs": [
    {
     "data": {
      "text/plain": [
       "0.27251689650707733"
      ]
     },
     "execution_count": 310,
     "metadata": {},
     "output_type": "execute_result"
    }
   ],
   "source": [
    "cv_score = cross_val_score(dtr, x, y, cv=5)\n",
    "cv_mean = cv_score.mean()\n",
    "cv_mean"
   ]
  },
  {
   "cell_type": "code",
   "execution_count": null,
   "id": "3d6d5c6a",
   "metadata": {},
   "outputs": [
    {
     "name": "stdout",
     "output_type": "stream",
     "text": [
      "r2score= 0.1486855823831741\n",
      "Mean absolute error =  0.1502769227208865\n",
      "Mean Squared error =  0.038375585360378495\n",
      "Root Mean Sqaured Error=  0.19589687429966435\n"
     ]
    }
   ],
   "source": [
    "from sklearn.ensemble import RandomForestRegressor\n",
    "\n",
    "rfr = RandomForestRegressor(n_estimators=100, random_state=12)\n",
    "rfr.fit(X_train, y_train)\n",
    "pred = rfr.predict(X_test)\n",
    "r2 = r2_score(y_test, pred)\n",
    "mae = mean_absolute_error(pred, y_test)\n",
    "mse = mean_squared_error(pred, y_test)\n",
    "rmse = np.sqrt(mean_squared_error(pred, y_test))\n",
    "print(\"r2score=\", r2)\n",
    "print(\"Mean absolute error = \", mae)\n",
    "print(\"Mean Squared error = \", mse)\n",
    "print(\"Root Mean Sqaured Error= \", rmse)"
   ]
  },
  {
   "cell_type": "code",
   "execution_count": null,
   "id": "2c393dde",
   "metadata": {},
   "outputs": [
    {
     "data": {
      "text/plain": [
       "0.6194251187844066"
      ]
     },
     "execution_count": 312,
     "metadata": {},
     "output_type": "execute_result"
    }
   ],
   "source": [
    "cv_score = cross_val_score(rfr, x, y, cv=5)\n",
    "cv_mean = cv_score.mean()\n",
    "cv_mean"
   ]
  },
  {
   "cell_type": "code",
   "execution_count": null,
   "id": "ba21de9c",
   "metadata": {},
   "outputs": [
    {
     "name": "stdout",
     "output_type": "stream",
     "text": [
      "r2score= -0.42247876616765523\n",
      "Mean absolute error =  0.18750693280562702\n",
      "Mean Squared error =  0.0641225547045332\n",
      "Root Mean Sqaured Error=  0.25322431696923026\n"
     ]
    }
   ],
   "source": [
    "from sklearn.linear_model import Lasso\n",
    "\n",
    "lasso = Lasso(alpha=0.1, random_state=0)\n",
    "lasso.fit(X_train, y_train)\n",
    "pred = lasso.predict(X_test)\n",
    "r2 = r2_score(y_test, pred)\n",
    "mae = mean_absolute_error(pred, y_test)\n",
    "mse = mean_squared_error(pred, y_test)\n",
    "rmse = np.sqrt(mean_squared_error(pred, y_test))\n",
    "print(\"r2score=\", r2)\n",
    "print(\"Mean absolute error = \", mae)\n",
    "print(\"Mean Squared error = \", mse)\n",
    "print(\"Root Mean Sqaured Error= \", rmse)"
   ]
  },
  {
   "cell_type": "code",
   "execution_count": null,
   "id": "6a4693a2",
   "metadata": {},
   "outputs": [
    {
     "data": {
      "text/plain": [
       "-0.055658709362409645"
      ]
     },
     "execution_count": 277,
     "metadata": {},
     "output_type": "execute_result"
    }
   ],
   "source": [
    "cv_score = cross_val_score(lasso, x, y, cv=5)\n",
    "cv_mean = cv_score.mean()\n",
    "cv_mean"
   ]
  },
  {
   "cell_type": "code",
   "execution_count": 35,
   "id": "3b1c668f",
   "metadata": {},
   "outputs": [
    {
     "ename": "NameError",
     "evalue": "name 'rfr' is not defined",
     "output_type": "error",
     "traceback": [
      "\u001b[1;31m---------------------------------------------------------------------------\u001b[0m",
      "\u001b[1;31mNameError\u001b[0m                                 Traceback (most recent call last)",
      "\u001b[1;32md:\\ProjectAQI\\Analysis_and_Model\\PM2.5_ML (1).ipynb Cell 41\u001b[0m line \u001b[0;36m4\n\u001b[0;32m      <a href='vscode-notebook-cell:/d%3A/ProjectAQI/Analysis_and_Model/PM2.5_ML%20%281%29.ipynb#X55sZmlsZQ%3D%3D?line=1'>2</a>\u001b[0m knr \u001b[39m=\u001b[39m KNeighborsRegressor(n_neighbors\u001b[39m=\u001b[39m\u001b[39m3\u001b[39m)\n\u001b[0;32m      <a href='vscode-notebook-cell:/d%3A/ProjectAQI/Analysis_and_Model/PM2.5_ML%20%281%29.ipynb#X55sZmlsZQ%3D%3D?line=2'>3</a>\u001b[0m knr\u001b[39m.\u001b[39mfit(X_train, y_train)\n\u001b[1;32m----> <a href='vscode-notebook-cell:/d%3A/ProjectAQI/Analysis_and_Model/PM2.5_ML%20%281%29.ipynb#X55sZmlsZQ%3D%3D?line=3'>4</a>\u001b[0m pred \u001b[39m=\u001b[39m rfr\u001b[39m.\u001b[39mpredict(X_test)\n\u001b[0;32m      <a href='vscode-notebook-cell:/d%3A/ProjectAQI/Analysis_and_Model/PM2.5_ML%20%281%29.ipynb#X55sZmlsZQ%3D%3D?line=4'>5</a>\u001b[0m r2 \u001b[39m=\u001b[39m r2_score(y_test, pred)\n\u001b[0;32m      <a href='vscode-notebook-cell:/d%3A/ProjectAQI/Analysis_and_Model/PM2.5_ML%20%281%29.ipynb#X55sZmlsZQ%3D%3D?line=5'>6</a>\u001b[0m mae \u001b[39m=\u001b[39m mean_absolute_error(pred, y_test)\n",
      "\u001b[1;31mNameError\u001b[0m: name 'rfr' is not defined"
     ]
    }
   ],
   "source": [
    " from sklearn.neighbors import KNeighborsRegressor\n",
    "knr = KNeighborsRegressor(n_neighbors=3)\n",
    "knr.fit(X_train, y_train)\n",
    "pred = rfr.predict(X_test)\n",
    "r2 = r2_score(y_test, pred)\n",
    "mae = mean_absolute_error(pred, y_test)\n",
    "mse = mean_squared_error(pred, y_test)\n",
    "rmse = np.sqrt(mean_squared_error(pred, y_test))\n",
    "print(\"r2score=\", r2)\n",
    "print(\"Mean absolute error = \", mae)\n",
    "print(\"Mean Squared error = \", mse)\n",
    "print(\"Root Mean Sqaured Error= \", rmse)"
   ]
  },
  {
   "cell_type": "code",
   "execution_count": 36,
   "id": "537b1680",
   "metadata": {},
   "outputs": [
    {
     "ename": "NameError",
     "evalue": "name 'x' is not defined",
     "output_type": "error",
     "traceback": [
      "\u001b[1;31m---------------------------------------------------------------------------\u001b[0m",
      "\u001b[1;31mNameError\u001b[0m                                 Traceback (most recent call last)",
      "\u001b[1;32md:\\ProjectAQI\\Analysis_and_Model\\PM2.5_ML (1).ipynb Cell 42\u001b[0m line \u001b[0;36m1\n\u001b[1;32m----> <a href='vscode-notebook-cell:/d%3A/ProjectAQI/Analysis_and_Model/PM2.5_ML%20%281%29.ipynb#X56sZmlsZQ%3D%3D?line=0'>1</a>\u001b[0m cv_score \u001b[39m=\u001b[39m cross_val_score(knr, x, y, cv\u001b[39m=\u001b[39m\u001b[39m5\u001b[39m)\n\u001b[0;32m      <a href='vscode-notebook-cell:/d%3A/ProjectAQI/Analysis_and_Model/PM2.5_ML%20%281%29.ipynb#X56sZmlsZQ%3D%3D?line=1'>2</a>\u001b[0m cv_mean \u001b[39m=\u001b[39m cv_score\u001b[39m.\u001b[39mmean()\n\u001b[0;32m      <a href='vscode-notebook-cell:/d%3A/ProjectAQI/Analysis_and_Model/PM2.5_ML%20%281%29.ipynb#X56sZmlsZQ%3D%3D?line=2'>3</a>\u001b[0m cv_mean\n",
      "\u001b[1;31mNameError\u001b[0m: name 'x' is not defined"
     ]
    }
   ],
   "source": [
    "cv_score = cross_val_score(knr, x, y, cv=5)\n",
    "cv_mean = cv_score.mean()\n",
    "cv_mean"
   ]
  },
  {
   "cell_type": "code",
   "execution_count": 37,
   "id": "396a70d5",
   "metadata": {},
   "outputs": [
    {
     "name": "stdout",
     "output_type": "stream",
     "text": [
      "r2score= 0.8515704626815027\n",
      "Mean absolute error =  0.06549152353892007\n",
      "Mean Squared error =  0.006690912618763215\n",
      "Root Mean Sqaured Error=  0.08179799886771813\n"
     ]
    }
   ],
   "source": [
    "from sklearn.linear_model import Ridge\n",
    "\n",
    "ridge = Ridge(alpha=0.001, random_state=0)\n",
    "ridge.fit(X_train, y_train)\n",
    "pred = ridge.predict(X_test)\n",
    "r2 = r2_score(y_test, pred)\n",
    "mae = mean_absolute_error(pred, y_test)\n",
    "mse = mean_squared_error(pred, y_test)\n",
    "rmse = np.sqrt(mean_squared_error(pred, y_test))\n",
    "print(\"r2score=\", r2)\n",
    "print(\"Mean absolute error = \", mae)\n",
    "print(\"Mean Squared error = \", mse)\n",
    "print(\"Root Mean Sqaured Error= \", rmse)"
   ]
  },
  {
   "cell_type": "code",
   "execution_count": 38,
   "id": "0eca4e1f",
   "metadata": {},
   "outputs": [
    {
     "ename": "NameError",
     "evalue": "name 'x' is not defined",
     "output_type": "error",
     "traceback": [
      "\u001b[1;31m---------------------------------------------------------------------------\u001b[0m",
      "\u001b[1;31mNameError\u001b[0m                                 Traceback (most recent call last)",
      "\u001b[1;32md:\\ProjectAQI\\Analysis_and_Model\\PM2.5_ML (1).ipynb Cell 44\u001b[0m line \u001b[0;36m1\n\u001b[1;32m----> <a href='vscode-notebook-cell:/d%3A/ProjectAQI/Analysis_and_Model/PM2.5_ML%20%281%29.ipynb#X61sZmlsZQ%3D%3D?line=0'>1</a>\u001b[0m cv_score \u001b[39m=\u001b[39m cross_val_score(ridge, x, y, cv\u001b[39m=\u001b[39m\u001b[39m3\u001b[39m)\n\u001b[0;32m      <a href='vscode-notebook-cell:/d%3A/ProjectAQI/Analysis_and_Model/PM2.5_ML%20%281%29.ipynb#X61sZmlsZQ%3D%3D?line=1'>2</a>\u001b[0m cv_mean \u001b[39m=\u001b[39m cv_score\u001b[39m.\u001b[39mmean()\n\u001b[0;32m      <a href='vscode-notebook-cell:/d%3A/ProjectAQI/Analysis_and_Model/PM2.5_ML%20%281%29.ipynb#X61sZmlsZQ%3D%3D?line=2'>3</a>\u001b[0m cv_mean\n",
      "\u001b[1;31mNameError\u001b[0m: name 'x' is not defined"
     ]
    }
   ],
   "source": [
    "cv_score = cross_val_score(ridge, x, y, cv=3)\n",
    "cv_mean = cv_score.mean()\n",
    "cv_mean"
   ]
  },
  {
   "cell_type": "markdown",
   "id": "2bc7a61e",
   "metadata": {},
   "source": [
    "Cosidering the difference between R2 score and cv mean score we get minimum difference with the Linear Regression model.\n",
    "So we will consider that as the best model.\n"
   ]
  },
  {
   "cell_type": "markdown",
   "id": "f332cd9e",
   "metadata": {},
   "source": [
    "<b>Hyper parameter Tuning<b>\n"
   ]
  },
  {
   "cell_type": "code",
   "execution_count": 39,
   "id": "dde61825",
   "metadata": {},
   "outputs": [],
   "source": [
    "from sklearn.model_selection import GridSearchCV"
   ]
  },
  {
   "cell_type": "code",
   "execution_count": 40,
   "id": "df031dc7",
   "metadata": {},
   "outputs": [],
   "source": [
    "parameter = {\n",
    "    \"fit_intercept\": [True, False],\n",
    "    \"n_jobs\": [42, -1, -10, 1, 10, 100, 200, 500, 35, 25],\n",
    "}"
   ]
  },
  {
   "cell_type": "code",
   "execution_count": 41,
   "id": "4f2eeb84",
   "metadata": {},
   "outputs": [],
   "source": [
    "GCV = GridSearchCV(LinearRegression(), parameter, cv=5)"
   ]
  },
  {
   "cell_type": "code",
   "execution_count": 42,
   "id": "01ef380d",
   "metadata": {},
   "outputs": [
    {
     "data": {
      "text/html": [
       "<style>#sk-container-id-1 {color: black;}#sk-container-id-1 pre{padding: 0;}#sk-container-id-1 div.sk-toggleable {background-color: white;}#sk-container-id-1 label.sk-toggleable__label {cursor: pointer;display: block;width: 100%;margin-bottom: 0;padding: 0.3em;box-sizing: border-box;text-align: center;}#sk-container-id-1 label.sk-toggleable__label-arrow:before {content: \"▸\";float: left;margin-right: 0.25em;color: #696969;}#sk-container-id-1 label.sk-toggleable__label-arrow:hover:before {color: black;}#sk-container-id-1 div.sk-estimator:hover label.sk-toggleable__label-arrow:before {color: black;}#sk-container-id-1 div.sk-toggleable__content {max-height: 0;max-width: 0;overflow: hidden;text-align: left;background-color: #f0f8ff;}#sk-container-id-1 div.sk-toggleable__content pre {margin: 0.2em;color: black;border-radius: 0.25em;background-color: #f0f8ff;}#sk-container-id-1 input.sk-toggleable__control:checked~div.sk-toggleable__content {max-height: 200px;max-width: 100%;overflow: auto;}#sk-container-id-1 input.sk-toggleable__control:checked~label.sk-toggleable__label-arrow:before {content: \"▾\";}#sk-container-id-1 div.sk-estimator input.sk-toggleable__control:checked~label.sk-toggleable__label {background-color: #d4ebff;}#sk-container-id-1 div.sk-label input.sk-toggleable__control:checked~label.sk-toggleable__label {background-color: #d4ebff;}#sk-container-id-1 input.sk-hidden--visually {border: 0;clip: rect(1px 1px 1px 1px);clip: rect(1px, 1px, 1px, 1px);height: 1px;margin: -1px;overflow: hidden;padding: 0;position: absolute;width: 1px;}#sk-container-id-1 div.sk-estimator {font-family: monospace;background-color: #f0f8ff;border: 1px dotted black;border-radius: 0.25em;box-sizing: border-box;margin-bottom: 0.5em;}#sk-container-id-1 div.sk-estimator:hover {background-color: #d4ebff;}#sk-container-id-1 div.sk-parallel-item::after {content: \"\";width: 100%;border-bottom: 1px solid gray;flex-grow: 1;}#sk-container-id-1 div.sk-label:hover label.sk-toggleable__label {background-color: #d4ebff;}#sk-container-id-1 div.sk-serial::before {content: \"\";position: absolute;border-left: 1px solid gray;box-sizing: border-box;top: 0;bottom: 0;left: 50%;z-index: 0;}#sk-container-id-1 div.sk-serial {display: flex;flex-direction: column;align-items: center;background-color: white;padding-right: 0.2em;padding-left: 0.2em;position: relative;}#sk-container-id-1 div.sk-item {position: relative;z-index: 1;}#sk-container-id-1 div.sk-parallel {display: flex;align-items: stretch;justify-content: center;background-color: white;position: relative;}#sk-container-id-1 div.sk-item::before, #sk-container-id-1 div.sk-parallel-item::before {content: \"\";position: absolute;border-left: 1px solid gray;box-sizing: border-box;top: 0;bottom: 0;left: 50%;z-index: -1;}#sk-container-id-1 div.sk-parallel-item {display: flex;flex-direction: column;z-index: 1;position: relative;background-color: white;}#sk-container-id-1 div.sk-parallel-item:first-child::after {align-self: flex-end;width: 50%;}#sk-container-id-1 div.sk-parallel-item:last-child::after {align-self: flex-start;width: 50%;}#sk-container-id-1 div.sk-parallel-item:only-child::after {width: 0;}#sk-container-id-1 div.sk-dashed-wrapped {border: 1px dashed gray;margin: 0 0.4em 0.5em 0.4em;box-sizing: border-box;padding-bottom: 0.4em;background-color: white;}#sk-container-id-1 div.sk-label label {font-family: monospace;font-weight: bold;display: inline-block;line-height: 1.2em;}#sk-container-id-1 div.sk-label-container {text-align: center;}#sk-container-id-1 div.sk-container {/* jupyter's `normalize.less` sets `[hidden] { display: none; }` but bootstrap.min.css set `[hidden] { display: none !important; }` so we also need the `!important` here to be able to override the default hidden behavior on the sphinx rendered scikit-learn.org. See: https://github.com/scikit-learn/scikit-learn/issues/21755 */display: inline-block !important;position: relative;}#sk-container-id-1 div.sk-text-repr-fallback {display: none;}</style><div id=\"sk-container-id-1\" class=\"sk-top-container\"><div class=\"sk-text-repr-fallback\"><pre>GridSearchCV(cv=5, estimator=LinearRegression(),\n",
       "             param_grid={&#x27;fit_intercept&#x27;: [True, False],\n",
       "                         &#x27;n_jobs&#x27;: [42, -1, -10, 1, 10, 100, 200, 500, 35, 25]})</pre><b>In a Jupyter environment, please rerun this cell to show the HTML representation or trust the notebook. <br />On GitHub, the HTML representation is unable to render, please try loading this page with nbviewer.org.</b></div><div class=\"sk-container\" hidden><div class=\"sk-item sk-dashed-wrapped\"><div class=\"sk-label-container\"><div class=\"sk-label sk-toggleable\"><input class=\"sk-toggleable__control sk-hidden--visually\" id=\"sk-estimator-id-1\" type=\"checkbox\" ><label for=\"sk-estimator-id-1\" class=\"sk-toggleable__label sk-toggleable__label-arrow\">GridSearchCV</label><div class=\"sk-toggleable__content\"><pre>GridSearchCV(cv=5, estimator=LinearRegression(),\n",
       "             param_grid={&#x27;fit_intercept&#x27;: [True, False],\n",
       "                         &#x27;n_jobs&#x27;: [42, -1, -10, 1, 10, 100, 200, 500, 35, 25]})</pre></div></div></div><div class=\"sk-parallel\"><div class=\"sk-parallel-item\"><div class=\"sk-item\"><div class=\"sk-label-container\"><div class=\"sk-label sk-toggleable\"><input class=\"sk-toggleable__control sk-hidden--visually\" id=\"sk-estimator-id-2\" type=\"checkbox\" ><label for=\"sk-estimator-id-2\" class=\"sk-toggleable__label sk-toggleable__label-arrow\">estimator: LinearRegression</label><div class=\"sk-toggleable__content\"><pre>LinearRegression()</pre></div></div></div><div class=\"sk-serial\"><div class=\"sk-item\"><div class=\"sk-estimator sk-toggleable\"><input class=\"sk-toggleable__control sk-hidden--visually\" id=\"sk-estimator-id-3\" type=\"checkbox\" ><label for=\"sk-estimator-id-3\" class=\"sk-toggleable__label sk-toggleable__label-arrow\">LinearRegression</label><div class=\"sk-toggleable__content\"><pre>LinearRegression()</pre></div></div></div></div></div></div></div></div></div></div>"
      ],
      "text/plain": [
       "GridSearchCV(cv=5, estimator=LinearRegression(),\n",
       "             param_grid={'fit_intercept': [True, False],\n",
       "                         'n_jobs': [42, -1, -10, 1, 10, 100, 200, 500, 35, 25]})"
      ]
     },
     "execution_count": 42,
     "metadata": {},
     "output_type": "execute_result"
    }
   ],
   "source": [
    "GCV.fit(X_train, y_train)"
   ]
  },
  {
   "cell_type": "code",
   "execution_count": 43,
   "id": "de9f8fcf",
   "metadata": {},
   "outputs": [
    {
     "data": {
      "text/plain": [
       "{'fit_intercept': True, 'n_jobs': 42}"
      ]
     },
     "execution_count": 43,
     "metadata": {},
     "output_type": "execute_result"
    }
   ],
   "source": [
    "GCV.best_params_"
   ]
  },
  {
   "cell_type": "code",
   "execution_count": 47,
   "id": "514694bb",
   "metadata": {},
   "outputs": [
    {
     "name": "stdout",
     "output_type": "stream",
     "text": [
      "0.851489913002552 0.9139089522560526\n",
      "model score on training data: 0.957183016940382\n",
      "model score on test data: 0.851489913002552\n"
     ]
    }
   ],
   "source": [
    "Final_mod = LinearRegression(fit_intercept=False, n_jobs=42)\n",
    "Final_mod.fit(X_train, y_train)\n",
    "pred = Final_mod.predict(X_test)\n",
    "r2 = r2_score(y_test, pred)\n",
    "cv_score = cross_val_score(Final_mod, X_train, y_train, cv=5)\n",
    "cv_mean = cv_score.mean()\n",
    "print(r2, cv_mean)\n",
    "\n",
    "print(\"model score on training data:\",Final_mod.score(X_train, y_train))\n",
    "print(\"model score on test data:\",Final_mod.score(X_test, y_test))"
   ]
  },
  {
   "cell_type": "markdown",
   "id": "0d64c232",
   "metadata": {},
   "source": [
    "## Serialization\n"
   ]
  },
  {
   "cell_type": "code",
   "execution_count": 46,
   "id": "69b2185e",
   "metadata": {},
   "outputs": [
    {
     "data": {
      "text/plain": [
       "['PM2.5predictor.pkl']"
      ]
     },
     "execution_count": 46,
     "metadata": {},
     "output_type": "execute_result"
    }
   ],
   "source": [
    "# Saving the model\n",
    "import joblib\n",
    "\n",
    "joblib.dump(Final_mod, \"PM2.5predictor.pkl\")"
   ]
  },
  {
   "cell_type": "code",
   "execution_count": null,
   "id": "e867e7e2",
   "metadata": {},
   "outputs": [],
   "source": []
  }
 ],
 "metadata": {
  "kernelspec": {
   "display_name": "Python 3 (ipykernel)",
   "language": "python",
   "name": "python3"
  },
  "language_info": {
   "codemirror_mode": {
    "name": "ipython",
    "version": 3
   },
   "file_extension": ".py",
   "mimetype": "text/x-python",
   "name": "python",
   "nbconvert_exporter": "python",
   "pygments_lexer": "ipython3",
   "version": "3.11.4"
  }
 },
 "nbformat": 4,
 "nbformat_minor": 5
}
