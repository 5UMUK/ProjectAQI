{
 "cells": [
  {
   "cell_type": "code",
   "execution_count": 1,
   "id": "796d827e",
   "metadata": {},
   "outputs": [],
   "source": [
    "import pandas as pd\n",
    "import numpy as np\n",
    "import matplotlib.pyplot as plt\n",
    "%matplotlib inline\n",
    "import seaborn as sn\n",
    "import warnings\n",
    "warnings.filterwarnings('ignore')"
   ]
  },
  {
   "cell_type": "code",
   "execution_count": 2,
   "id": "0db7f2c2",
   "metadata": {},
   "outputs": [],
   "source": [
    "df = pd.read_csv(\"../Data/pollution_data.csv\")"
   ]
  },
  {
   "cell_type": "code",
   "execution_count": 3,
   "id": "b27ca193",
   "metadata": {},
   "outputs": [
    {
     "data": {
      "text/html": [
       "<div>\n",
       "<style scoped>\n",
       "    .dataframe tbody tr th:only-of-type {\n",
       "        vertical-align: middle;\n",
       "    }\n",
       "\n",
       "    .dataframe tbody tr th {\n",
       "        vertical-align: top;\n",
       "    }\n",
       "\n",
       "    .dataframe thead th {\n",
       "        text-align: right;\n",
       "    }\n",
       "</style>\n",
       "<table border=\"1\" class=\"dataframe\">\n",
       "  <thead>\n",
       "    <tr style=\"text-align: right;\">\n",
       "      <th></th>\n",
       "      <th>Year</th>\n",
       "      <th>State</th>\n",
       "      <th>CO</th>\n",
       "      <th>NO2</th>\n",
       "      <th>SO2</th>\n",
       "      <th>O3</th>\n",
       "      <th>PM2.5</th>\n",
       "    </tr>\n",
       "  </thead>\n",
       "  <tbody>\n",
       "    <tr>\n",
       "      <th>0</th>\n",
       "      <td>2002</td>\n",
       "      <td>Alabama</td>\n",
       "      <td>0.671517</td>\n",
       "      <td>5.865513</td>\n",
       "      <td>2.353650</td>\n",
       "      <td>0.044876</td>\n",
       "      <td>14.086733</td>\n",
       "    </tr>\n",
       "    <tr>\n",
       "      <th>1</th>\n",
       "      <td>2002</td>\n",
       "      <td>Arizona</td>\n",
       "      <td>0.891101</td>\n",
       "      <td>19.402168</td>\n",
       "      <td>3.720999</td>\n",
       "      <td>0.050519</td>\n",
       "      <td>9.746759</td>\n",
       "    </tr>\n",
       "    <tr>\n",
       "      <th>2</th>\n",
       "      <td>2002</td>\n",
       "      <td>Arkansas</td>\n",
       "      <td>0.595566</td>\n",
       "      <td>15.662020</td>\n",
       "      <td>2.640052</td>\n",
       "      <td>0.043574</td>\n",
       "      <td>11.810577</td>\n",
       "    </tr>\n",
       "    <tr>\n",
       "      <th>3</th>\n",
       "      <td>2002</td>\n",
       "      <td>California</td>\n",
       "      <td>0.599614</td>\n",
       "      <td>16.339366</td>\n",
       "      <td>1.606644</td>\n",
       "      <td>0.044603</td>\n",
       "      <td>14.396674</td>\n",
       "    </tr>\n",
       "    <tr>\n",
       "      <th>4</th>\n",
       "      <td>2002</td>\n",
       "      <td>Colorado</td>\n",
       "      <td>0.706515</td>\n",
       "      <td>16.664983</td>\n",
       "      <td>3.119088</td>\n",
       "      <td>0.050209</td>\n",
       "      <td>8.187605</td>\n",
       "    </tr>\n",
       "  </tbody>\n",
       "</table>\n",
       "</div>"
      ],
      "text/plain": [
       "   Year       State        CO        NO2       SO2        O3      PM2.5\n",
       "0  2002     Alabama  0.671517   5.865513  2.353650  0.044876  14.086733\n",
       "1  2002     Arizona  0.891101  19.402168  3.720999  0.050519   9.746759\n",
       "2  2002    Arkansas  0.595566  15.662020  2.640052  0.043574  11.810577\n",
       "3  2002  California  0.599614  16.339366  1.606644  0.044603  14.396674\n",
       "4  2002    Colorado  0.706515  16.664983  3.119088  0.050209   8.187605"
      ]
     },
     "execution_count": 3,
     "metadata": {},
     "output_type": "execute_result"
    }
   ],
   "source": [
    "df.head()"
   ]
  },
  {
   "cell_type": "markdown",
   "id": "9df2e40f",
   "metadata": {},
   "source": [
    "**Dataset Description:**\n",
    "\n",
    "The dataset contains information related to air quality and its potential impact on respiratory health. It includes the following parameters:\n",
    "\n",
    "1. `Year`: This column represents the year of data collection. It is a categorical variable that indicates the year in which the data was recorded.\n",
    "\n",
    "2. `State`: This column represents the state in the United States where the data was collected. It is a categorical variable and indicates the geographical location within the United States.\n",
    "\n",
    "3. `CO`: This column represents the concentration of carbon monoxide (CO) in the air. It is a numerical variable and is typically measured in parts per million (ppm). CO is a common air pollutant and can have adverse effects on respiratory health.\n",
    "\n",
    "4. `NO2`: This column represents the concentration of nitrogen dioxide (NO2) in the air. It is a numerical variable and is also typically measured in parts per million (ppm). NO2 is a major air pollutant and can have negative health effects, particularly on the respiratory system.\n",
    "\n",
    "5. `O3`: This column represents the concentration of ozone (O3) in the air. It is a numerical variable and is measured in parts per million (ppm). Ozone is a common component of smog and can affect respiratory health, especially at high concentrations.\n",
    "\n",
    "6. `PM2.5`: This column represents the concentration of fine particulate matter with a diameter of 2.5 micrometers or smaller (PM2.5) in the air. It is a numerical variable and is measured in micrograms per cubic meter (µg/m³). PM2.5 is a significant air pollutant known to be harmful to respiratory health.\n",
    "\n",
    "7. `SO2`: This column represents the concentration of sulfur dioxide (SO2) in the air. It is a numerical variable and is typically measured in parts per million (ppm). SO2 is a harmful air pollutant, especially to individuals with respiratory conditions.\n",
    "\n",
    "8. `Deaths`: This column represents the number of deaths due to **respiratory diseases** in the corresponding state and year. It is a numerical variable that indicates the impact of air pollutants on public health, particularly in terms of respiratory-related mortality.\n",
    "\n",
    "This dataset provides valuable information for researchers and policymakers interested in understanding the relationships between air quality and public health, with a specific focus on respiratory health outcomes.\n"
   ]
  },
  {
   "cell_type": "code",
   "execution_count": 4,
   "id": "89aecc65",
   "metadata": {},
   "outputs": [
    {
     "data": {
      "text/html": [
       "<div>\n",
       "<style scoped>\n",
       "    .dataframe tbody tr th:only-of-type {\n",
       "        vertical-align: middle;\n",
       "    }\n",
       "\n",
       "    .dataframe tbody tr th {\n",
       "        vertical-align: top;\n",
       "    }\n",
       "\n",
       "    .dataframe thead th {\n",
       "        text-align: right;\n",
       "    }\n",
       "</style>\n",
       "<table border=\"1\" class=\"dataframe\">\n",
       "  <thead>\n",
       "    <tr style=\"text-align: right;\">\n",
       "      <th></th>\n",
       "      <th>Year</th>\n",
       "      <th>CO</th>\n",
       "      <th>NO2</th>\n",
       "      <th>SO2</th>\n",
       "      <th>O3</th>\n",
       "      <th>PM2.5</th>\n",
       "    </tr>\n",
       "  </thead>\n",
       "  <tbody>\n",
       "    <tr>\n",
       "      <th>count</th>\n",
       "      <td>1029.000000</td>\n",
       "      <td>1012.000000</td>\n",
       "      <td>982.000000</td>\n",
       "      <td>1026.000000</td>\n",
       "      <td>1029.000000</td>\n",
       "      <td>1017.000000</td>\n",
       "    </tr>\n",
       "    <tr>\n",
       "      <th>mean</th>\n",
       "      <td>2012.000000</td>\n",
       "      <td>0.347060</td>\n",
       "      <td>9.153732</td>\n",
       "      <td>1.708990</td>\n",
       "      <td>0.043381</td>\n",
       "      <td>9.111700</td>\n",
       "    </tr>\n",
       "    <tr>\n",
       "      <th>std</th>\n",
       "      <td>6.058245</td>\n",
       "      <td>0.160955</td>\n",
       "      <td>4.261520</td>\n",
       "      <td>1.490680</td>\n",
       "      <td>0.004438</td>\n",
       "      <td>2.410944</td>\n",
       "    </tr>\n",
       "    <tr>\n",
       "      <th>min</th>\n",
       "      <td>2002.000000</td>\n",
       "      <td>-0.016876</td>\n",
       "      <td>0.842678</td>\n",
       "      <td>0.013636</td>\n",
       "      <td>0.031432</td>\n",
       "      <td>3.609712</td>\n",
       "    </tr>\n",
       "    <tr>\n",
       "      <th>25%</th>\n",
       "      <td>2007.000000</td>\n",
       "      <td>0.233822</td>\n",
       "      <td>6.418307</td>\n",
       "      <td>0.645160</td>\n",
       "      <td>0.040149</td>\n",
       "      <td>7.424129</td>\n",
       "    </tr>\n",
       "    <tr>\n",
       "      <th>50%</th>\n",
       "      <td>2012.000000</td>\n",
       "      <td>0.309581</td>\n",
       "      <td>8.675831</td>\n",
       "      <td>1.217166</td>\n",
       "      <td>0.042897</td>\n",
       "      <td>8.686415</td>\n",
       "    </tr>\n",
       "    <tr>\n",
       "      <th>75%</th>\n",
       "      <td>2017.000000</td>\n",
       "      <td>0.420619</td>\n",
       "      <td>11.432499</td>\n",
       "      <td>2.370526</td>\n",
       "      <td>0.046545</td>\n",
       "      <td>10.455864</td>\n",
       "    </tr>\n",
       "    <tr>\n",
       "      <th>max</th>\n",
       "      <td>2022.000000</td>\n",
       "      <td>1.087352</td>\n",
       "      <td>24.928178</td>\n",
       "      <td>9.794401</td>\n",
       "      <td>0.057918</td>\n",
       "      <td>16.632545</td>\n",
       "    </tr>\n",
       "  </tbody>\n",
       "</table>\n",
       "</div>"
      ],
      "text/plain": [
       "              Year           CO         NO2          SO2           O3  \\\n",
       "count  1029.000000  1012.000000  982.000000  1026.000000  1029.000000   \n",
       "mean   2012.000000     0.347060    9.153732     1.708990     0.043381   \n",
       "std       6.058245     0.160955    4.261520     1.490680     0.004438   \n",
       "min    2002.000000    -0.016876    0.842678     0.013636     0.031432   \n",
       "25%    2007.000000     0.233822    6.418307     0.645160     0.040149   \n",
       "50%    2012.000000     0.309581    8.675831     1.217166     0.042897   \n",
       "75%    2017.000000     0.420619   11.432499     2.370526     0.046545   \n",
       "max    2022.000000     1.087352   24.928178     9.794401     0.057918   \n",
       "\n",
       "             PM2.5  \n",
       "count  1017.000000  \n",
       "mean      9.111700  \n",
       "std       2.410944  \n",
       "min       3.609712  \n",
       "25%       7.424129  \n",
       "50%       8.686415  \n",
       "75%      10.455864  \n",
       "max      16.632545  "
      ]
     },
     "execution_count": 4,
     "metadata": {},
     "output_type": "execute_result"
    }
   ],
   "source": [
    "df.describe()"
   ]
  },
  {
   "cell_type": "code",
   "execution_count": 5,
   "id": "97b057de",
   "metadata": {},
   "outputs": [
    {
     "data": {
      "text/plain": [
       "Year       int64\n",
       "State     object\n",
       "CO       float64\n",
       "NO2      float64\n",
       "SO2      float64\n",
       "O3       float64\n",
       "PM2.5    float64\n",
       "dtype: object"
      ]
     },
     "execution_count": 5,
     "metadata": {},
     "output_type": "execute_result"
    }
   ],
   "source": [
    "df.dtypes"
   ]
  },
  {
   "cell_type": "code",
   "execution_count": 6,
   "id": "5c217cca",
   "metadata": {},
   "outputs": [
    {
     "data": {
      "text/plain": [
       "Year      0\n",
       "State     0\n",
       "CO       17\n",
       "NO2      47\n",
       "SO2       3\n",
       "O3        0\n",
       "PM2.5    12\n",
       "dtype: int64"
      ]
     },
     "execution_count": 6,
     "metadata": {},
     "output_type": "execute_result"
    }
   ],
   "source": [
    "df.isnull().sum()"
   ]
  },
  {
   "cell_type": "code",
   "execution_count": 7,
   "id": "52fbf780",
   "metadata": {},
   "outputs": [
    {
     "data": {
      "text/plain": [
       "(1029, 7)"
      ]
     },
     "execution_count": 7,
     "metadata": {},
     "output_type": "execute_result"
    }
   ],
   "source": [
    "df.shape"
   ]
  },
  {
   "cell_type": "code",
   "execution_count": 8,
   "id": "e9e0badc",
   "metadata": {},
   "outputs": [
    {
     "data": {
      "text/plain": [
       "array([2002, 2003, 2004, 2005, 2006, 2007, 2008, 2009, 2010, 2011, 2012,\n",
       "       2013, 2014, 2015, 2016, 2017, 2018, 2019, 2020, 2021, 2022],\n",
       "      dtype=int64)"
      ]
     },
     "execution_count": 8,
     "metadata": {},
     "output_type": "execute_result"
    }
   ],
   "source": [
    "df[\"Year\"].unique()"
   ]
  },
  {
   "cell_type": "markdown",
   "id": "c731a434",
   "metadata": {},
   "source": [
    "Exploratory Data Analysis\n"
   ]
  },
  {
   "cell_type": "code",
   "execution_count": 9,
   "id": "a5526880",
   "metadata": {},
   "outputs": [
    {
     "data": {
      "image/png": "[encoded data removed]",
      "text/plain": [
       "<Figure size 1500x600 with 10 Axes>"
      ]
     },
     "metadata": {},
     "output_type": "display_data"
    },
    {
     "name": "stdout",
     "output_type": "stream",
     "text": [
      "CO is normally distributed (p-value: nan)\n",
      "NO2 is normally distributed (p-value: nan)\n",
      "O3 is not normally distributed (p-value: 4.091285573938172e-05)\n",
      "PM2.5 is normally distributed (p-value: nan)\n",
      "SO2 is normally distributed (p-value: nan)\n"
     ]
    }
   ],
   "source": [
    "# Univarite Analysis\n",
    "import numpy as np\n",
    "import matplotlib.pyplot as plt\n",
    "import scipy.stats as stats\n",
    "\n",
    "# Extract the data for each variable\n",
    "co = df[\"CO\"]\n",
    "no2 = df[\"NO2\"]\n",
    "o3 = df[\"O3\"]\n",
    "pm25 = df[\"PM2.5\"]\n",
    "so2 = df[\"SO2\"]\n",
    "\n",
    "# Create a list of variable names for plotting and analysis\n",
    "variables = [co, no2, o3, pm25, so2]\n",
    "var_names = [\"CO\", \"NO2\", \"O3\", \"PM2.5\", \"SO2\"]\n",
    "\n",
    "# Set up subplots for the histograms and Q-Q plots\n",
    "fig, axes = plt.subplots(nrows=2, ncols=5, figsize=(15, 6))\n",
    "\n",
    "# Loop through each variable for analysis\n",
    "for i in range(len(variables)):\n",
    "    # Histogram\n",
    "    axes[0, i].hist(variables[i], bins=20, color=\"blue\", alpha=0.7)\n",
    "    axes[0, i].set_title(f\"{var_names[i]} Histogram\")\n",
    "\n",
    "    # Q-Q Plot\n",
    "    stats.probplot(variables[i], dist=\"norm\", plot=axes[1, i])\n",
    "    axes[1, i].set_title(f\"{var_names[i]} Q-Q Plot\")\n",
    "\n",
    "plt.tight_layout()\n",
    "plt.show()\n",
    "\n",
    "# Perform normality tests\n",
    "for i in range(len(variables)):\n",
    "    variable_name = var_names[i]\n",
    "    p_value = stats.normaltest(variables[i]).pvalue\n",
    "    if p_value < 0.05:\n",
    "        print(f\"{variable_name} is not normally distributed (p-value: {p_value})\")\n",
    "    else:\n",
    "        print(f\"{variable_name} is normally distributed (p-value: {p_value})\")"
   ]
  },
  {
   "cell_type": "code",
   "execution_count": 10,
   "id": "b006a2ba",
   "metadata": {},
   "outputs": [
    {
     "data": {
      "image/png": "[encoded data removed]",
      "text/plain": [
       "<Figure size 1200x800 with 1 Axes>"
      ]
     },
     "metadata": {},
     "output_type": "display_data"
    }
   ],
   "source": [
    "# Set the style of the plot (optional)\n",
    "sn.set(style=\"whitegrid\")\n",
    "\n",
    "# Create a box plot for each relevant column\n",
    "plt.figure(figsize=(12, 8))  # Set the figure size\n",
    "sn.boxplot(data=df[[\"CO\", \"NO2\", \"PM2.5\", \"SO2\"]])\n",
    "plt.title(\"Box Plots for Each Feature\")\n",
    "plt.xticks(rotation=45)  # Rotate x-axis labels for better visibility\n",
    "\n",
    "# Show the plot\n",
    "plt.show()"
   ]
  },
  {
   "cell_type": "code",
   "execution_count": 11,
   "id": "21b2982d",
   "metadata": {},
   "outputs": [],
   "source": [
    "import numpy as np\n",
    "\n",
    "df[\"CO\"] = np.log(df[\"CO\"])\n",
    "df[\"NO2\"] = np.log(df[\"NO2\"])\n",
    "df[\"PM2.5\"] = np.log(df[\"PM2.5\"])\n",
    "df[\"SO2\"] = np.log(df[\"SO2\"])\n",
    "df[\"O3\"] = np.log(df[\"O3\"])"
   ]
  },
  {
   "cell_type": "code",
   "execution_count": 12,
   "id": "41aa602e",
   "metadata": {},
   "outputs": [
    {
     "data": {
      "text/html": [
       "<div>\n",
       "<style scoped>\n",
       "    .dataframe tbody tr th:only-of-type {\n",
       "        vertical-align: middle;\n",
       "    }\n",
       "\n",
       "    .dataframe tbody tr th {\n",
       "        vertical-align: top;\n",
       "    }\n",
       "\n",
       "    .dataframe thead th {\n",
       "        text-align: right;\n",
       "    }\n",
       "</style>\n",
       "<table border=\"1\" class=\"dataframe\">\n",
       "  <thead>\n",
       "    <tr style=\"text-align: right;\">\n",
       "      <th></th>\n",
       "      <th>Year</th>\n",
       "      <th>State</th>\n",
       "      <th>CO</th>\n",
       "      <th>NO2</th>\n",
       "      <th>SO2</th>\n",
       "      <th>O3</th>\n",
       "      <th>PM2.5</th>\n",
       "    </tr>\n",
       "  </thead>\n",
       "  <tbody>\n",
       "    <tr>\n",
       "      <th>0</th>\n",
       "      <td>2002</td>\n",
       "      <td>Alabama</td>\n",
       "      <td>-0.398217</td>\n",
       "      <td>1.769090</td>\n",
       "      <td>0.855967</td>\n",
       "      <td>-3.103847</td>\n",
       "      <td>2.645233</td>\n",
       "    </tr>\n",
       "    <tr>\n",
       "      <th>1</th>\n",
       "      <td>2002</td>\n",
       "      <td>Arizona</td>\n",
       "      <td>-0.115297</td>\n",
       "      <td>2.965385</td>\n",
       "      <td>1.313992</td>\n",
       "      <td>-2.985399</td>\n",
       "      <td>2.276935</td>\n",
       "    </tr>\n",
       "    <tr>\n",
       "      <th>2</th>\n",
       "      <td>2002</td>\n",
       "      <td>Arkansas</td>\n",
       "      <td>-0.518243</td>\n",
       "      <td>2.751239</td>\n",
       "      <td>0.970798</td>\n",
       "      <td>-3.133295</td>\n",
       "      <td>2.468995</td>\n",
       "    </tr>\n",
       "    <tr>\n",
       "      <th>3</th>\n",
       "      <td>2002</td>\n",
       "      <td>California</td>\n",
       "      <td>-0.511469</td>\n",
       "      <td>2.793577</td>\n",
       "      <td>0.474148</td>\n",
       "      <td>-3.109956</td>\n",
       "      <td>2.666997</td>\n",
       "    </tr>\n",
       "    <tr>\n",
       "      <th>4</th>\n",
       "      <td>2002</td>\n",
       "      <td>Colorado</td>\n",
       "      <td>-0.347411</td>\n",
       "      <td>2.813310</td>\n",
       "      <td>1.137541</td>\n",
       "      <td>-2.991553</td>\n",
       "      <td>2.102621</td>\n",
       "    </tr>\n",
       "  </tbody>\n",
       "</table>\n",
       "</div>"
      ],
      "text/plain": [
       "   Year       State        CO       NO2       SO2        O3     PM2.5\n",
       "0  2002     Alabama -0.398217  1.769090  0.855967 -3.103847  2.645233\n",
       "1  2002     Arizona -0.115297  2.965385  1.313992 -2.985399  2.276935\n",
       "2  2002    Arkansas -0.518243  2.751239  0.970798 -3.133295  2.468995\n",
       "3  2002  California -0.511469  2.793577  0.474148 -3.109956  2.666997\n",
       "4  2002    Colorado -0.347411  2.813310  1.137541 -2.991553  2.102621"
      ]
     },
     "execution_count": 12,
     "metadata": {},
     "output_type": "execute_result"
    }
   ],
   "source": [
    "df.head()"
   ]
  },
  {
   "cell_type": "code",
   "execution_count": 13,
   "id": "ba63a9d3",
   "metadata": {},
   "outputs": [
    {
     "data": {
      "image/png": "[encoded data removed]",
      "text/plain": [
       "<Figure size 1200x800 with 1 Axes>"
      ]
     },
     "metadata": {},
     "output_type": "display_data"
    }
   ],
   "source": [
    "# Set the style of the plot (optional)\n",
    "sn.set(style=\"whitegrid\")\n",
    "\n",
    "# Create a box plot for each relevant column\n",
    "plt.figure(figsize=(12, 8))  # Set the figure size\n",
    "sn.boxplot(data=df[[\"CO\", \"NO2\", \"PM2.5\", \"SO2\", \"O3\"]])\n",
    "plt.title(\"Box Plots for Each Feature\")\n",
    "plt.xticks(rotation=45)  # Rotate x-axis labels for better visibility\n",
    "\n",
    "# Show the plot\n",
    "plt.show()"
   ]
  },
  {
   "cell_type": "code",
   "execution_count": 14,
   "id": "5628268b",
   "metadata": {},
   "outputs": [
    {
     "data": {
      "image/png": "[encoded data removed]",
      "text/plain": [
       "<Figure size 1500x600 with 10 Axes>"
      ]
     },
     "metadata": {},
     "output_type": "display_data"
    },
    {
     "name": "stdout",
     "output_type": "stream",
     "text": [
      "CO is normally distributed (p-value: nan)\n",
      "NO2 is normally distributed (p-value: nan)\n",
      "O3 is normally distributed (p-value: 0.053660966897871754)\n",
      "PM2.5 is normally distributed (p-value: nan)\n",
      "SO2 is normally distributed (p-value: nan)\n"
     ]
    }
   ],
   "source": [
    "# Univarite Analysis\n",
    "import numpy as np\n",
    "import matplotlib.pyplot as plt\n",
    "import scipy.stats as stats\n",
    "\n",
    "# Extract the data for each variable\n",
    "co = df[\"CO\"]\n",
    "no2 = df[\"NO2\"]\n",
    "o3 = df[\"O3\"]\n",
    "pm25 = df[\"PM2.5\"]\n",
    "so2 = df[\"SO2\"]\n",
    "\n",
    "# Create a list of variable names for plotting and analysis\n",
    "variables = [co, no2, o3, pm25, so2]\n",
    "var_names = [\"CO\", \"NO2\", \"O3\", \"PM2.5\", \"SO2\"]\n",
    "\n",
    "# Set up subplots for the histograms and Q-Q plots\n",
    "fig, axes = plt.subplots(nrows=2, ncols=5, figsize=(15, 6))\n",
    "\n",
    "# Loop through each variable for analysis\n",
    "for i in range(len(variables)):\n",
    "    # Histogram\n",
    "    axes[0, i].hist(variables[i], bins=20, color=\"blue\", alpha=0.7)\n",
    "    axes[0, i].set_title(f\"{var_names[i]} Histogram\")\n",
    "\n",
    "    # Q-Q Plot\n",
    "    stats.probplot(variables[i], dist=\"norm\", plot=axes[1, i])\n",
    "    axes[1, i].set_title(f\"{var_names[i]} Q-Q Plot\")\n",
    "\n",
    "plt.tight_layout()\n",
    "plt.show()\n",
    "\n",
    "# Perform normality tests\n",
    "for i in range(len(variables)):\n",
    "    variable_name = var_names[i]\n",
    "    p_value = stats.normaltest(variables[i]).pvalue\n",
    "    if p_value < 0.05:\n",
    "        print(f\"{variable_name} is not normally distributed (p-value: {p_value})\")\n",
    "    else:\n",
    "        print(f\"{variable_name} is normally distributed (p-value: {p_value})\")"
   ]
  },
  {
   "cell_type": "code",
   "execution_count": 15,
   "id": "e5e7cb19",
   "metadata": {},
   "outputs": [
    {
     "data": {
      "text/html": [
       "<div>\n",
       "<style scoped>\n",
       "    .dataframe tbody tr th:only-of-type {\n",
       "        vertical-align: middle;\n",
       "    }\n",
       "\n",
       "    .dataframe tbody tr th {\n",
       "        vertical-align: top;\n",
       "    }\n",
       "\n",
       "    .dataframe thead th {\n",
       "        text-align: right;\n",
       "    }\n",
       "</style>\n",
       "<table border=\"1\" class=\"dataframe\">\n",
       "  <thead>\n",
       "    <tr style=\"text-align: right;\">\n",
       "      <th></th>\n",
       "      <th>Year</th>\n",
       "      <th>State</th>\n",
       "      <th>CO</th>\n",
       "      <th>NO2</th>\n",
       "      <th>SO2</th>\n",
       "      <th>O3</th>\n",
       "      <th>PM2.5</th>\n",
       "    </tr>\n",
       "  </thead>\n",
       "  <tbody>\n",
       "    <tr>\n",
       "      <th>0</th>\n",
       "      <td>2002</td>\n",
       "      <td>Alabama</td>\n",
       "      <td>-0.398217</td>\n",
       "      <td>1.769090</td>\n",
       "      <td>0.855967</td>\n",
       "      <td>-3.103847</td>\n",
       "      <td>2.645233</td>\n",
       "    </tr>\n",
       "    <tr>\n",
       "      <th>1</th>\n",
       "      <td>2002</td>\n",
       "      <td>Arizona</td>\n",
       "      <td>-0.115297</td>\n",
       "      <td>2.965385</td>\n",
       "      <td>1.313992</td>\n",
       "      <td>-2.985399</td>\n",
       "      <td>2.276935</td>\n",
       "    </tr>\n",
       "    <tr>\n",
       "      <th>2</th>\n",
       "      <td>2002</td>\n",
       "      <td>Arkansas</td>\n",
       "      <td>-0.518243</td>\n",
       "      <td>2.751239</td>\n",
       "      <td>0.970798</td>\n",
       "      <td>-3.133295</td>\n",
       "      <td>2.468995</td>\n",
       "    </tr>\n",
       "    <tr>\n",
       "      <th>3</th>\n",
       "      <td>2002</td>\n",
       "      <td>California</td>\n",
       "      <td>-0.511469</td>\n",
       "      <td>2.793577</td>\n",
       "      <td>0.474148</td>\n",
       "      <td>-3.109956</td>\n",
       "      <td>2.666997</td>\n",
       "    </tr>\n",
       "    <tr>\n",
       "      <th>4</th>\n",
       "      <td>2002</td>\n",
       "      <td>Colorado</td>\n",
       "      <td>-0.347411</td>\n",
       "      <td>2.813310</td>\n",
       "      <td>1.137541</td>\n",
       "      <td>-2.991553</td>\n",
       "      <td>2.102621</td>\n",
       "    </tr>\n",
       "  </tbody>\n",
       "</table>\n",
       "</div>"
      ],
      "text/plain": [
       "   Year       State        CO       NO2       SO2        O3     PM2.5\n",
       "0  2002     Alabama -0.398217  1.769090  0.855967 -3.103847  2.645233\n",
       "1  2002     Arizona -0.115297  2.965385  1.313992 -2.985399  2.276935\n",
       "2  2002    Arkansas -0.518243  2.751239  0.970798 -3.133295  2.468995\n",
       "3  2002  California -0.511469  2.793577  0.474148 -3.109956  2.666997\n",
       "4  2002    Colorado -0.347411  2.813310  1.137541 -2.991553  2.102621"
      ]
     },
     "execution_count": 15,
     "metadata": {},
     "output_type": "execute_result"
    }
   ],
   "source": [
    "df.head()"
   ]
  },
  {
   "cell_type": "code",
   "execution_count": 16,
   "id": "fdb7a20e",
   "metadata": {},
   "outputs": [
    {
     "ename": "MissingDataError",
     "evalue": "exog contains inf or nans",
     "output_type": "error",
     "traceback": [
      "\u001b[1;31m---------------------------------------------------------------------------\u001b[0m",
      "\u001b[1;31mMissingDataError\u001b[0m                          Traceback (most recent call last)",
      "\u001b[1;32md:\\ProjectAQI\\Analysis_and_Model\\PM2.5_ML (1).ipynb Cell 18\u001b[0m line \u001b[0;36m1\n\u001b[0;32m     <a href='vscode-notebook-cell:/d%3A/ProjectAQI/Analysis_and_Model/PM2.5_ML%20%281%29.ipynb#X23sZmlsZQ%3D%3D?line=9'>10</a>\u001b[0m vif_data \u001b[39m=\u001b[39m pd\u001b[39m.\u001b[39mDataFrame()\n\u001b[0;32m     <a href='vscode-notebook-cell:/d%3A/ProjectAQI/Analysis_and_Model/PM2.5_ML%20%281%29.ipynb#X23sZmlsZQ%3D%3D?line=10'>11</a>\u001b[0m vif_data[\u001b[39m\"\u001b[39m\u001b[39mVariable\u001b[39m\u001b[39m\"\u001b[39m] \u001b[39m=\u001b[39m independent_vars\n\u001b[1;32m---> <a href='vscode-notebook-cell:/d%3A/ProjectAQI/Analysis_and_Model/PM2.5_ML%20%281%29.ipynb#X23sZmlsZQ%3D%3D?line=11'>12</a>\u001b[0m vif_data[\u001b[39m\"\u001b[39m\u001b[39mVIF\u001b[39m\u001b[39m\"\u001b[39m] \u001b[39m=\u001b[39m [variance_inflation_factor(X\u001b[39m.\u001b[39;49mvalues, i) \u001b[39mfor\u001b[39;49;00m i \u001b[39min\u001b[39;49;00m \u001b[39mrange\u001b[39;49m(X\u001b[39m.\u001b[39;49mshape[\u001b[39m1\u001b[39;49m])]\n\u001b[0;32m     <a href='vscode-notebook-cell:/d%3A/ProjectAQI/Analysis_and_Model/PM2.5_ML%20%281%29.ipynb#X23sZmlsZQ%3D%3D?line=13'>14</a>\u001b[0m \u001b[39m# Display the VIF values\u001b[39;00m\n\u001b[0;32m     <a href='vscode-notebook-cell:/d%3A/ProjectAQI/Analysis_and_Model/PM2.5_ML%20%281%29.ipynb#X23sZmlsZQ%3D%3D?line=14'>15</a>\u001b[0m \u001b[39mprint\u001b[39m(vif_data)\n",
      "\u001b[1;32md:\\ProjectAQI\\Analysis_and_Model\\PM2.5_ML (1).ipynb Cell 18\u001b[0m line \u001b[0;36m1\n\u001b[0;32m     <a href='vscode-notebook-cell:/d%3A/ProjectAQI/Analysis_and_Model/PM2.5_ML%20%281%29.ipynb#X23sZmlsZQ%3D%3D?line=9'>10</a>\u001b[0m vif_data \u001b[39m=\u001b[39m pd\u001b[39m.\u001b[39mDataFrame()\n\u001b[0;32m     <a href='vscode-notebook-cell:/d%3A/ProjectAQI/Analysis_and_Model/PM2.5_ML%20%281%29.ipynb#X23sZmlsZQ%3D%3D?line=10'>11</a>\u001b[0m vif_data[\u001b[39m\"\u001b[39m\u001b[39mVariable\u001b[39m\u001b[39m\"\u001b[39m] \u001b[39m=\u001b[39m independent_vars\n\u001b[1;32m---> <a href='vscode-notebook-cell:/d%3A/ProjectAQI/Analysis_and_Model/PM2.5_ML%20%281%29.ipynb#X23sZmlsZQ%3D%3D?line=11'>12</a>\u001b[0m vif_data[\u001b[39m\"\u001b[39m\u001b[39mVIF\u001b[39m\u001b[39m\"\u001b[39m] \u001b[39m=\u001b[39m [variance_inflation_factor(X\u001b[39m.\u001b[39;49mvalues, i) \u001b[39mfor\u001b[39;00m i \u001b[39min\u001b[39;00m \u001b[39mrange\u001b[39m(X\u001b[39m.\u001b[39mshape[\u001b[39m1\u001b[39m])]\n\u001b[0;32m     <a href='vscode-notebook-cell:/d%3A/ProjectAQI/Analysis_and_Model/PM2.5_ML%20%281%29.ipynb#X23sZmlsZQ%3D%3D?line=13'>14</a>\u001b[0m \u001b[39m# Display the VIF values\u001b[39;00m\n\u001b[0;32m     <a href='vscode-notebook-cell:/d%3A/ProjectAQI/Analysis_and_Model/PM2.5_ML%20%281%29.ipynb#X23sZmlsZQ%3D%3D?line=14'>15</a>\u001b[0m \u001b[39mprint\u001b[39m(vif_data)\n",
      "File \u001b[1;32mc:\\Users\\Ayushee\\AppData\\Local\\Programs\\Python\\Python311\\Lib\\site-packages\\statsmodels\\stats\\outliers_influence.py:197\u001b[0m, in \u001b[0;36mvariance_inflation_factor\u001b[1;34m(exog, exog_idx)\u001b[0m\n\u001b[0;32m    195\u001b[0m mask \u001b[39m=\u001b[39m np\u001b[39m.\u001b[39marange(k_vars) \u001b[39m!=\u001b[39m exog_idx\n\u001b[0;32m    196\u001b[0m x_noti \u001b[39m=\u001b[39m exog[:, mask]\n\u001b[1;32m--> 197\u001b[0m r_squared_i \u001b[39m=\u001b[39m OLS(x_i, x_noti)\u001b[39m.\u001b[39mfit()\u001b[39m.\u001b[39mrsquared\n\u001b[0;32m    198\u001b[0m vif \u001b[39m=\u001b[39m \u001b[39m1.\u001b[39m \u001b[39m/\u001b[39m (\u001b[39m1.\u001b[39m \u001b[39m-\u001b[39m r_squared_i)\n\u001b[0;32m    199\u001b[0m \u001b[39mreturn\u001b[39;00m vif\n",
      "File \u001b[1;32mc:\\Users\\Ayushee\\AppData\\Local\\Programs\\Python\\Python311\\Lib\\site-packages\\statsmodels\\regression\\linear_model.py:922\u001b[0m, in \u001b[0;36mOLS.__init__\u001b[1;34m(self, endog, exog, missing, hasconst, **kwargs)\u001b[0m\n\u001b[0;32m    919\u001b[0m     msg \u001b[39m=\u001b[39m (\u001b[39m\"\u001b[39m\u001b[39mWeights are not supported in OLS and will be ignored\u001b[39m\u001b[39m\"\u001b[39m\n\u001b[0;32m    920\u001b[0m            \u001b[39m\"\u001b[39m\u001b[39mAn exception will be raised in the next version.\u001b[39m\u001b[39m\"\u001b[39m)\n\u001b[0;32m    921\u001b[0m     warnings\u001b[39m.\u001b[39mwarn(msg, ValueWarning)\n\u001b[1;32m--> 922\u001b[0m \u001b[39msuper\u001b[39;49m(OLS, \u001b[39mself\u001b[39;49m)\u001b[39m.\u001b[39;49m\u001b[39m__init__\u001b[39;49m(endog, exog, missing\u001b[39m=\u001b[39;49mmissing,\n\u001b[0;32m    923\u001b[0m                           hasconst\u001b[39m=\u001b[39;49mhasconst, \u001b[39m*\u001b[39;49m\u001b[39m*\u001b[39;49mkwargs)\n\u001b[0;32m    924\u001b[0m \u001b[39mif\u001b[39;00m \u001b[39m\"\u001b[39m\u001b[39mweights\u001b[39m\u001b[39m\"\u001b[39m \u001b[39min\u001b[39;00m \u001b[39mself\u001b[39m\u001b[39m.\u001b[39m_init_keys:\n\u001b[0;32m    925\u001b[0m     \u001b[39mself\u001b[39m\u001b[39m.\u001b[39m_init_keys\u001b[39m.\u001b[39mremove(\u001b[39m\"\u001b[39m\u001b[39mweights\u001b[39m\u001b[39m\"\u001b[39m)\n",
      "File \u001b[1;32mc:\\Users\\Ayushee\\AppData\\Local\\Programs\\Python\\Python311\\Lib\\site-packages\\statsmodels\\regression\\linear_model.py:748\u001b[0m, in \u001b[0;36mWLS.__init__\u001b[1;34m(self, endog, exog, weights, missing, hasconst, **kwargs)\u001b[0m\n\u001b[0;32m    746\u001b[0m \u001b[39melse\u001b[39;00m:\n\u001b[0;32m    747\u001b[0m     weights \u001b[39m=\u001b[39m weights\u001b[39m.\u001b[39msqueeze()\n\u001b[1;32m--> 748\u001b[0m \u001b[39msuper\u001b[39;49m(WLS, \u001b[39mself\u001b[39;49m)\u001b[39m.\u001b[39;49m\u001b[39m__init__\u001b[39;49m(endog, exog, missing\u001b[39m=\u001b[39;49mmissing,\n\u001b[0;32m    749\u001b[0m                           weights\u001b[39m=\u001b[39;49mweights, hasconst\u001b[39m=\u001b[39;49mhasconst, \u001b[39m*\u001b[39;49m\u001b[39m*\u001b[39;49mkwargs)\n\u001b[0;32m    750\u001b[0m nobs \u001b[39m=\u001b[39m \u001b[39mself\u001b[39m\u001b[39m.\u001b[39mexog\u001b[39m.\u001b[39mshape[\u001b[39m0\u001b[39m]\n\u001b[0;32m    751\u001b[0m weights \u001b[39m=\u001b[39m \u001b[39mself\u001b[39m\u001b[39m.\u001b[39mweights\n",
      "File \u001b[1;32mc:\\Users\\Ayushee\\AppData\\Local\\Programs\\Python\\Python311\\Lib\\site-packages\\statsmodels\\regression\\linear_model.py:202\u001b[0m, in \u001b[0;36mRegressionModel.__init__\u001b[1;34m(self, endog, exog, **kwargs)\u001b[0m\n\u001b[0;32m    201\u001b[0m \u001b[39mdef\u001b[39;00m \u001b[39m__init__\u001b[39m(\u001b[39mself\u001b[39m, endog, exog, \u001b[39m*\u001b[39m\u001b[39m*\u001b[39mkwargs):\n\u001b[1;32m--> 202\u001b[0m     \u001b[39msuper\u001b[39;49m(RegressionModel, \u001b[39mself\u001b[39;49m)\u001b[39m.\u001b[39;49m\u001b[39m__init__\u001b[39;49m(endog, exog, \u001b[39m*\u001b[39;49m\u001b[39m*\u001b[39;49mkwargs)\n\u001b[0;32m    203\u001b[0m     \u001b[39mself\u001b[39m\u001b[39m.\u001b[39mpinv_wexog: Float64Array \u001b[39m|\u001b[39m \u001b[39mNone\u001b[39;00m \u001b[39m=\u001b[39m \u001b[39mNone\u001b[39;00m\n\u001b[0;32m    204\u001b[0m     \u001b[39mself\u001b[39m\u001b[39m.\u001b[39m_data_attr\u001b[39m.\u001b[39mextend([\u001b[39m'\u001b[39m\u001b[39mpinv_wexog\u001b[39m\u001b[39m'\u001b[39m, \u001b[39m'\u001b[39m\u001b[39mwendog\u001b[39m\u001b[39m'\u001b[39m, \u001b[39m'\u001b[39m\u001b[39mwexog\u001b[39m\u001b[39m'\u001b[39m, \u001b[39m'\u001b[39m\u001b[39mweights\u001b[39m\u001b[39m'\u001b[39m])\n",
      "File \u001b[1;32mc:\\Users\\Ayushee\\AppData\\Local\\Programs\\Python\\Python311\\Lib\\site-packages\\statsmodels\\base\\model.py:270\u001b[0m, in \u001b[0;36mLikelihoodModel.__init__\u001b[1;34m(self, endog, exog, **kwargs)\u001b[0m\n\u001b[0;32m    269\u001b[0m \u001b[39mdef\u001b[39;00m \u001b[39m__init__\u001b[39m(\u001b[39mself\u001b[39m, endog, exog\u001b[39m=\u001b[39m\u001b[39mNone\u001b[39;00m, \u001b[39m*\u001b[39m\u001b[39m*\u001b[39mkwargs):\n\u001b[1;32m--> 270\u001b[0m     \u001b[39msuper\u001b[39;49m()\u001b[39m.\u001b[39;49m\u001b[39m__init__\u001b[39;49m(endog, exog, \u001b[39m*\u001b[39;49m\u001b[39m*\u001b[39;49mkwargs)\n\u001b[0;32m    271\u001b[0m     \u001b[39mself\u001b[39m\u001b[39m.\u001b[39minitialize()\n",
      "File \u001b[1;32mc:\\Users\\Ayushee\\AppData\\Local\\Programs\\Python\\Python311\\Lib\\site-packages\\statsmodels\\base\\model.py:95\u001b[0m, in \u001b[0;36mModel.__init__\u001b[1;34m(self, endog, exog, **kwargs)\u001b[0m\n\u001b[0;32m     93\u001b[0m missing \u001b[39m=\u001b[39m kwargs\u001b[39m.\u001b[39mpop(\u001b[39m'\u001b[39m\u001b[39mmissing\u001b[39m\u001b[39m'\u001b[39m, \u001b[39m'\u001b[39m\u001b[39mnone\u001b[39m\u001b[39m'\u001b[39m)\n\u001b[0;32m     94\u001b[0m hasconst \u001b[39m=\u001b[39m kwargs\u001b[39m.\u001b[39mpop(\u001b[39m'\u001b[39m\u001b[39mhasconst\u001b[39m\u001b[39m'\u001b[39m, \u001b[39mNone\u001b[39;00m)\n\u001b[1;32m---> 95\u001b[0m \u001b[39mself\u001b[39m\u001b[39m.\u001b[39mdata \u001b[39m=\u001b[39m \u001b[39mself\u001b[39;49m\u001b[39m.\u001b[39;49m_handle_data(endog, exog, missing, hasconst,\n\u001b[0;32m     96\u001b[0m                               \u001b[39m*\u001b[39;49m\u001b[39m*\u001b[39;49mkwargs)\n\u001b[0;32m     97\u001b[0m \u001b[39mself\u001b[39m\u001b[39m.\u001b[39mk_constant \u001b[39m=\u001b[39m \u001b[39mself\u001b[39m\u001b[39m.\u001b[39mdata\u001b[39m.\u001b[39mk_constant\n\u001b[0;32m     98\u001b[0m \u001b[39mself\u001b[39m\u001b[39m.\u001b[39mexog \u001b[39m=\u001b[39m \u001b[39mself\u001b[39m\u001b[39m.\u001b[39mdata\u001b[39m.\u001b[39mexog\n",
      "File \u001b[1;32mc:\\Users\\Ayushee\\AppData\\Local\\Programs\\Python\\Python311\\Lib\\site-packages\\statsmodels\\base\\model.py:135\u001b[0m, in \u001b[0;36mModel._handle_data\u001b[1;34m(self, endog, exog, missing, hasconst, **kwargs)\u001b[0m\n\u001b[0;32m    134\u001b[0m \u001b[39mdef\u001b[39;00m \u001b[39m_handle_data\u001b[39m(\u001b[39mself\u001b[39m, endog, exog, missing, hasconst, \u001b[39m*\u001b[39m\u001b[39m*\u001b[39mkwargs):\n\u001b[1;32m--> 135\u001b[0m     data \u001b[39m=\u001b[39m handle_data(endog, exog, missing, hasconst, \u001b[39m*\u001b[39;49m\u001b[39m*\u001b[39;49mkwargs)\n\u001b[0;32m    136\u001b[0m     \u001b[39m# kwargs arrays could have changed, easier to just attach here\u001b[39;00m\n\u001b[0;32m    137\u001b[0m     \u001b[39mfor\u001b[39;00m key \u001b[39min\u001b[39;00m kwargs:\n",
      "File \u001b[1;32mc:\\Users\\Ayushee\\AppData\\Local\\Programs\\Python\\Python311\\Lib\\site-packages\\statsmodels\\base\\data.py:675\u001b[0m, in \u001b[0;36mhandle_data\u001b[1;34m(endog, exog, missing, hasconst, **kwargs)\u001b[0m\n\u001b[0;32m    672\u001b[0m     exog \u001b[39m=\u001b[39m np\u001b[39m.\u001b[39masarray(exog)\n\u001b[0;32m    674\u001b[0m klass \u001b[39m=\u001b[39m handle_data_class_factory(endog, exog)\n\u001b[1;32m--> 675\u001b[0m \u001b[39mreturn\u001b[39;00m klass(endog, exog\u001b[39m=\u001b[39;49mexog, missing\u001b[39m=\u001b[39;49mmissing, hasconst\u001b[39m=\u001b[39;49mhasconst,\n\u001b[0;32m    676\u001b[0m              \u001b[39m*\u001b[39;49m\u001b[39m*\u001b[39;49mkwargs)\n",
      "File \u001b[1;32mc:\\Users\\Ayushee\\AppData\\Local\\Programs\\Python\\Python311\\Lib\\site-packages\\statsmodels\\base\\data.py:88\u001b[0m, in \u001b[0;36mModelData.__init__\u001b[1;34m(self, endog, exog, missing, hasconst, **kwargs)\u001b[0m\n\u001b[0;32m     86\u001b[0m \u001b[39mself\u001b[39m\u001b[39m.\u001b[39mconst_idx \u001b[39m=\u001b[39m \u001b[39mNone\u001b[39;00m\n\u001b[0;32m     87\u001b[0m \u001b[39mself\u001b[39m\u001b[39m.\u001b[39mk_constant \u001b[39m=\u001b[39m \u001b[39m0\u001b[39m\n\u001b[1;32m---> 88\u001b[0m \u001b[39mself\u001b[39;49m\u001b[39m.\u001b[39;49m_handle_constant(hasconst)\n\u001b[0;32m     89\u001b[0m \u001b[39mself\u001b[39m\u001b[39m.\u001b[39m_check_integrity()\n\u001b[0;32m     90\u001b[0m \u001b[39mself\u001b[39m\u001b[39m.\u001b[39m_cache \u001b[39m=\u001b[39m {}\n",
      "File \u001b[1;32mc:\\Users\\Ayushee\\AppData\\Local\\Programs\\Python\\Python311\\Lib\\site-packages\\statsmodels\\base\\data.py:134\u001b[0m, in \u001b[0;36mModelData._handle_constant\u001b[1;34m(self, hasconst)\u001b[0m\n\u001b[0;32m    132\u001b[0m exog_max \u001b[39m=\u001b[39m np\u001b[39m.\u001b[39mmax(\u001b[39mself\u001b[39m\u001b[39m.\u001b[39mexog, axis\u001b[39m=\u001b[39m\u001b[39m0\u001b[39m)\n\u001b[0;32m    133\u001b[0m \u001b[39mif\u001b[39;00m \u001b[39mnot\u001b[39;00m np\u001b[39m.\u001b[39misfinite(exog_max)\u001b[39m.\u001b[39mall():\n\u001b[1;32m--> 134\u001b[0m     \u001b[39mraise\u001b[39;00m MissingDataError(\u001b[39m'\u001b[39m\u001b[39mexog contains inf or nans\u001b[39m\u001b[39m'\u001b[39m)\n\u001b[0;32m    135\u001b[0m exog_min \u001b[39m=\u001b[39m np\u001b[39m.\u001b[39mmin(\u001b[39mself\u001b[39m\u001b[39m.\u001b[39mexog, axis\u001b[39m=\u001b[39m\u001b[39m0\u001b[39m)\n\u001b[0;32m    136\u001b[0m const_idx \u001b[39m=\u001b[39m np\u001b[39m.\u001b[39mwhere(exog_max \u001b[39m==\u001b[39m exog_min)[\u001b[39m0\u001b[39m]\u001b[39m.\u001b[39msqueeze()\n",
      "\u001b[1;31mMissingDataError\u001b[0m: exog contains inf or nans"
     ]
    }
   ],
   "source": [
    "# Multicollinearity\n",
    "\n",
    "from statsmodels.stats.outliers_influence import variance_inflation_factor\n",
    "\n",
    "# Select the independent variables (features)\n",
    "independent_vars = [\"CO\", \"NO2\", \"O3\", \"SO2\"]\n",
    "\n",
    "# Calculate VIF for each variable\n",
    "X = df[independent_vars]\n",
    "vif_data = pd.DataFrame()\n",
    "vif_data[\"Variable\"] = independent_vars\n",
    "vif_data[\"VIF\"] = [variance_inflation_factor(X.values, i) for i in range(X.shape[1])]\n",
    "\n",
    "# Display the VIF values\n",
    "print(vif_data)"
   ]
  },
  {
   "cell_type": "code",
   "execution_count": 17,
   "id": "e557ae9e",
   "metadata": {},
   "outputs": [
    {
     "data": {
      "image/png": "[encoded data removed]",
      "text/plain": [
       "<Figure size 1000x800 with 2 Axes>"
      ]
     },
     "metadata": {},
     "output_type": "display_data"
    }
   ],
   "source": [
    "# Drop the 'State' column\n",
    "corr_df = df.drop(columns=[\"State\"])\n",
    "\n",
    "# Calculate the correlation matrix for 'PM2.5' with all features\n",
    "correlation_pm25 = corr_df.corrwith(df[\"PM2.5\"])\n",
    "\n",
    "# Create a correlation matrix for all features\n",
    "correlation_matrix = corr_df.corr()\n",
    "\n",
    "# Plot the correlation matrix with 'PM2.5' using a heatmap\n",
    "plt.figure(figsize=(10, 8))\n",
    "sn.heatmap(correlation_matrix, annot=True, cmap=\"coolwarm\")\n",
    "plt.title(\"Correlation with PM2.5\")\n",
    "\n",
    "plt.tight_layout()\n",
    "plt.show()"
   ]
  },
  {
   "cell_type": "code",
   "execution_count": 18,
   "id": "dbae7b97",
   "metadata": {
    "scrolled": false
   },
   "outputs": [
    {
     "ename": "ValueError",
     "evalue": "Input X contains NaN.\nPCA does not accept missing values encoded as NaN natively. For supervised learning, you might want to consider sklearn.ensemble.HistGradientBoostingClassifier and Regressor which accept missing values encoded as NaNs natively. Alternatively, it is possible to preprocess the data, for instance by using an imputer transformer in a pipeline or drop samples with missing values. See https://scikit-learn.org/stable/modules/impute.html You can find a list of all estimators that handle NaN values at the following page: https://scikit-learn.org/stable/modules/impute.html#estimators-that-handle-nan-values",
     "output_type": "error",
     "traceback": [
      "\u001b[1;31m---------------------------------------------------------------------------\u001b[0m",
      "\u001b[1;31mValueError\u001b[0m                                Traceback (most recent call last)",
      "\u001b[1;32md:\\ProjectAQI\\Analysis_and_Model\\PM2.5_ML (1).ipynb Cell 20\u001b[0m line \u001b[0;36m1\n\u001b[0;32m     <a href='vscode-notebook-cell:/d%3A/ProjectAQI/Analysis_and_Model/PM2.5_ML%20%281%29.ipynb#X25sZmlsZQ%3D%3D?line=9'>10</a>\u001b[0m \u001b[39m# Apply PCA\u001b[39;00m\n\u001b[0;32m     <a href='vscode-notebook-cell:/d%3A/ProjectAQI/Analysis_and_Model/PM2.5_ML%20%281%29.ipynb#X25sZmlsZQ%3D%3D?line=10'>11</a>\u001b[0m pca \u001b[39m=\u001b[39m PCA()\n\u001b[1;32m---> <a href='vscode-notebook-cell:/d%3A/ProjectAQI/Analysis_and_Model/PM2.5_ML%20%281%29.ipynb#X25sZmlsZQ%3D%3D?line=12'>13</a>\u001b[0m pca_result \u001b[39m=\u001b[39m pca\u001b[39m.\u001b[39;49mfit_transform(data_scaled)\n\u001b[0;32m     <a href='vscode-notebook-cell:/d%3A/ProjectAQI/Analysis_and_Model/PM2.5_ML%20%281%29.ipynb#X25sZmlsZQ%3D%3D?line=14'>15</a>\u001b[0m \u001b[39m# Explained variance ratio\u001b[39;00m\n\u001b[0;32m     <a href='vscode-notebook-cell:/d%3A/ProjectAQI/Analysis_and_Model/PM2.5_ML%20%281%29.ipynb#X25sZmlsZQ%3D%3D?line=15'>16</a>\u001b[0m explained_variance \u001b[39m=\u001b[39m pca\u001b[39m.\u001b[39mexplained_variance_ratio_\n",
      "File \u001b[1;32mc:\\Users\\Ayushee\\AppData\\Local\\Programs\\Python\\Python311\\Lib\\site-packages\\sklearn\\utils\\_set_output.py:140\u001b[0m, in \u001b[0;36m_wrap_method_output.<locals>.wrapped\u001b[1;34m(self, X, *args, **kwargs)\u001b[0m\n\u001b[0;32m    138\u001b[0m \u001b[39m@wraps\u001b[39m(f)\n\u001b[0;32m    139\u001b[0m \u001b[39mdef\u001b[39;00m \u001b[39mwrapped\u001b[39m(\u001b[39mself\u001b[39m, X, \u001b[39m*\u001b[39margs, \u001b[39m*\u001b[39m\u001b[39m*\u001b[39mkwargs):\n\u001b[1;32m--> 140\u001b[0m     data_to_wrap \u001b[39m=\u001b[39m f(\u001b[39mself\u001b[39;49m, X, \u001b[39m*\u001b[39;49margs, \u001b[39m*\u001b[39;49m\u001b[39m*\u001b[39;49mkwargs)\n\u001b[0;32m    141\u001b[0m     \u001b[39mif\u001b[39;00m \u001b[39misinstance\u001b[39m(data_to_wrap, \u001b[39mtuple\u001b[39m):\n\u001b[0;32m    142\u001b[0m         \u001b[39m# only wrap the first output for cross decomposition\u001b[39;00m\n\u001b[0;32m    143\u001b[0m         return_tuple \u001b[39m=\u001b[39m (\n\u001b[0;32m    144\u001b[0m             _wrap_data_with_container(method, data_to_wrap[\u001b[39m0\u001b[39m], X, \u001b[39mself\u001b[39m),\n\u001b[0;32m    145\u001b[0m             \u001b[39m*\u001b[39mdata_to_wrap[\u001b[39m1\u001b[39m:],\n\u001b[0;32m    146\u001b[0m         )\n",
      "File \u001b[1;32mc:\\Users\\Ayushee\\AppData\\Local\\Programs\\Python\\Python311\\Lib\\site-packages\\sklearn\\base.py:1151\u001b[0m, in \u001b[0;36m_fit_context.<locals>.decorator.<locals>.wrapper\u001b[1;34m(estimator, *args, **kwargs)\u001b[0m\n\u001b[0;32m   1144\u001b[0m     estimator\u001b[39m.\u001b[39m_validate_params()\n\u001b[0;32m   1146\u001b[0m \u001b[39mwith\u001b[39;00m config_context(\n\u001b[0;32m   1147\u001b[0m     skip_parameter_validation\u001b[39m=\u001b[39m(\n\u001b[0;32m   1148\u001b[0m         prefer_skip_nested_validation \u001b[39mor\u001b[39;00m global_skip_validation\n\u001b[0;32m   1149\u001b[0m     )\n\u001b[0;32m   1150\u001b[0m ):\n\u001b[1;32m-> 1151\u001b[0m     \u001b[39mreturn\u001b[39;00m fit_method(estimator, \u001b[39m*\u001b[39;49margs, \u001b[39m*\u001b[39;49m\u001b[39m*\u001b[39;49mkwargs)\n",
      "File \u001b[1;32mc:\\Users\\Ayushee\\AppData\\Local\\Programs\\Python\\Python311\\Lib\\site-packages\\sklearn\\decomposition\\_pca.py:460\u001b[0m, in \u001b[0;36mPCA.fit_transform\u001b[1;34m(self, X, y)\u001b[0m\n\u001b[0;32m    437\u001b[0m \u001b[39m@_fit_context\u001b[39m(prefer_skip_nested_validation\u001b[39m=\u001b[39m\u001b[39mTrue\u001b[39;00m)\n\u001b[0;32m    438\u001b[0m \u001b[39mdef\u001b[39;00m \u001b[39mfit_transform\u001b[39m(\u001b[39mself\u001b[39m, X, y\u001b[39m=\u001b[39m\u001b[39mNone\u001b[39;00m):\n\u001b[0;32m    439\u001b[0m \u001b[39m    \u001b[39m\u001b[39m\"\"\"Fit the model with X and apply the dimensionality reduction on X.\u001b[39;00m\n\u001b[0;32m    440\u001b[0m \n\u001b[0;32m    441\u001b[0m \u001b[39m    Parameters\u001b[39;00m\n\u001b[1;32m   (...)\u001b[0m\n\u001b[0;32m    458\u001b[0m \u001b[39m    C-ordered array, use 'np.ascontiguousarray'.\u001b[39;00m\n\u001b[0;32m    459\u001b[0m \u001b[39m    \"\"\"\u001b[39;00m\n\u001b[1;32m--> 460\u001b[0m     U, S, Vt \u001b[39m=\u001b[39m \u001b[39mself\u001b[39;49m\u001b[39m.\u001b[39;49m_fit(X)\n\u001b[0;32m    461\u001b[0m     U \u001b[39m=\u001b[39m U[:, : \u001b[39mself\u001b[39m\u001b[39m.\u001b[39mn_components_]\n\u001b[0;32m    463\u001b[0m     \u001b[39mif\u001b[39;00m \u001b[39mself\u001b[39m\u001b[39m.\u001b[39mwhiten:\n\u001b[0;32m    464\u001b[0m         \u001b[39m# X_new = X * V / S * sqrt(n_samples) = U * sqrt(n_samples)\u001b[39;00m\n",
      "File \u001b[1;32mc:\\Users\\Ayushee\\AppData\\Local\\Programs\\Python\\Python311\\Lib\\site-packages\\sklearn\\decomposition\\_pca.py:483\u001b[0m, in \u001b[0;36mPCA._fit\u001b[1;34m(self, X)\u001b[0m\n\u001b[0;32m    477\u001b[0m \u001b[39mif\u001b[39;00m issparse(X):\n\u001b[0;32m    478\u001b[0m     \u001b[39mraise\u001b[39;00m \u001b[39mTypeError\u001b[39;00m(\n\u001b[0;32m    479\u001b[0m         \u001b[39m\"\u001b[39m\u001b[39mPCA does not support sparse input. See \u001b[39m\u001b[39m\"\u001b[39m\n\u001b[0;32m    480\u001b[0m         \u001b[39m\"\u001b[39m\u001b[39mTruncatedSVD for a possible alternative.\u001b[39m\u001b[39m\"\u001b[39m\n\u001b[0;32m    481\u001b[0m     )\n\u001b[1;32m--> 483\u001b[0m X \u001b[39m=\u001b[39m \u001b[39mself\u001b[39;49m\u001b[39m.\u001b[39;49m_validate_data(\n\u001b[0;32m    484\u001b[0m     X, dtype\u001b[39m=\u001b[39;49m[np\u001b[39m.\u001b[39;49mfloat64, np\u001b[39m.\u001b[39;49mfloat32], ensure_2d\u001b[39m=\u001b[39;49m\u001b[39mTrue\u001b[39;49;00m, copy\u001b[39m=\u001b[39;49m\u001b[39mself\u001b[39;49m\u001b[39m.\u001b[39;49mcopy\n\u001b[0;32m    485\u001b[0m )\n\u001b[0;32m    487\u001b[0m \u001b[39m# Handle n_components==None\u001b[39;00m\n\u001b[0;32m    488\u001b[0m \u001b[39mif\u001b[39;00m \u001b[39mself\u001b[39m\u001b[39m.\u001b[39mn_components \u001b[39mis\u001b[39;00m \u001b[39mNone\u001b[39;00m:\n",
      "File \u001b[1;32mc:\\Users\\Ayushee\\AppData\\Local\\Programs\\Python\\Python311\\Lib\\site-packages\\sklearn\\base.py:604\u001b[0m, in \u001b[0;36mBaseEstimator._validate_data\u001b[1;34m(self, X, y, reset, validate_separately, cast_to_ndarray, **check_params)\u001b[0m\n\u001b[0;32m    602\u001b[0m         out \u001b[39m=\u001b[39m X, y\n\u001b[0;32m    603\u001b[0m \u001b[39melif\u001b[39;00m \u001b[39mnot\u001b[39;00m no_val_X \u001b[39mand\u001b[39;00m no_val_y:\n\u001b[1;32m--> 604\u001b[0m     out \u001b[39m=\u001b[39m check_array(X, input_name\u001b[39m=\u001b[39;49m\u001b[39m\"\u001b[39;49m\u001b[39mX\u001b[39;49m\u001b[39m\"\u001b[39;49m, \u001b[39m*\u001b[39;49m\u001b[39m*\u001b[39;49mcheck_params)\n\u001b[0;32m    605\u001b[0m \u001b[39melif\u001b[39;00m no_val_X \u001b[39mand\u001b[39;00m \u001b[39mnot\u001b[39;00m no_val_y:\n\u001b[0;32m    606\u001b[0m     out \u001b[39m=\u001b[39m _check_y(y, \u001b[39m*\u001b[39m\u001b[39m*\u001b[39mcheck_params)\n",
      "File \u001b[1;32mc:\\Users\\Ayushee\\AppData\\Local\\Programs\\Python\\Python311\\Lib\\site-packages\\sklearn\\utils\\validation.py:959\u001b[0m, in \u001b[0;36mcheck_array\u001b[1;34m(array, accept_sparse, accept_large_sparse, dtype, order, copy, force_all_finite, ensure_2d, allow_nd, ensure_min_samples, ensure_min_features, estimator, input_name)\u001b[0m\n\u001b[0;32m    953\u001b[0m         \u001b[39mraise\u001b[39;00m \u001b[39mValueError\u001b[39;00m(\n\u001b[0;32m    954\u001b[0m             \u001b[39m\"\u001b[39m\u001b[39mFound array with dim \u001b[39m\u001b[39m%d\u001b[39;00m\u001b[39m. \u001b[39m\u001b[39m%s\u001b[39;00m\u001b[39m expected <= 2.\u001b[39m\u001b[39m\"\u001b[39m\n\u001b[0;32m    955\u001b[0m             \u001b[39m%\u001b[39m (array\u001b[39m.\u001b[39mndim, estimator_name)\n\u001b[0;32m    956\u001b[0m         )\n\u001b[0;32m    958\u001b[0m     \u001b[39mif\u001b[39;00m force_all_finite:\n\u001b[1;32m--> 959\u001b[0m         _assert_all_finite(\n\u001b[0;32m    960\u001b[0m             array,\n\u001b[0;32m    961\u001b[0m             input_name\u001b[39m=\u001b[39;49minput_name,\n\u001b[0;32m    962\u001b[0m             estimator_name\u001b[39m=\u001b[39;49mestimator_name,\n\u001b[0;32m    963\u001b[0m             allow_nan\u001b[39m=\u001b[39;49mforce_all_finite \u001b[39m==\u001b[39;49m \u001b[39m\"\u001b[39;49m\u001b[39mallow-nan\u001b[39;49m\u001b[39m\"\u001b[39;49m,\n\u001b[0;32m    964\u001b[0m         )\n\u001b[0;32m    966\u001b[0m \u001b[39mif\u001b[39;00m ensure_min_samples \u001b[39m>\u001b[39m \u001b[39m0\u001b[39m:\n\u001b[0;32m    967\u001b[0m     n_samples \u001b[39m=\u001b[39m _num_samples(array)\n",
      "File \u001b[1;32mc:\\Users\\Ayushee\\AppData\\Local\\Programs\\Python\\Python311\\Lib\\site-packages\\sklearn\\utils\\validation.py:124\u001b[0m, in \u001b[0;36m_assert_all_finite\u001b[1;34m(X, allow_nan, msg_dtype, estimator_name, input_name)\u001b[0m\n\u001b[0;32m    121\u001b[0m \u001b[39mif\u001b[39;00m first_pass_isfinite:\n\u001b[0;32m    122\u001b[0m     \u001b[39mreturn\u001b[39;00m\n\u001b[1;32m--> 124\u001b[0m _assert_all_finite_element_wise(\n\u001b[0;32m    125\u001b[0m     X,\n\u001b[0;32m    126\u001b[0m     xp\u001b[39m=\u001b[39;49mxp,\n\u001b[0;32m    127\u001b[0m     allow_nan\u001b[39m=\u001b[39;49mallow_nan,\n\u001b[0;32m    128\u001b[0m     msg_dtype\u001b[39m=\u001b[39;49mmsg_dtype,\n\u001b[0;32m    129\u001b[0m     estimator_name\u001b[39m=\u001b[39;49mestimator_name,\n\u001b[0;32m    130\u001b[0m     input_name\u001b[39m=\u001b[39;49minput_name,\n\u001b[0;32m    131\u001b[0m )\n",
      "File \u001b[1;32mc:\\Users\\Ayushee\\AppData\\Local\\Programs\\Python\\Python311\\Lib\\site-packages\\sklearn\\utils\\validation.py:173\u001b[0m, in \u001b[0;36m_assert_all_finite_element_wise\u001b[1;34m(X, xp, allow_nan, msg_dtype, estimator_name, input_name)\u001b[0m\n\u001b[0;32m    156\u001b[0m \u001b[39mif\u001b[39;00m estimator_name \u001b[39mand\u001b[39;00m input_name \u001b[39m==\u001b[39m \u001b[39m\"\u001b[39m\u001b[39mX\u001b[39m\u001b[39m\"\u001b[39m \u001b[39mand\u001b[39;00m has_nan_error:\n\u001b[0;32m    157\u001b[0m     \u001b[39m# Improve the error message on how to handle missing values in\u001b[39;00m\n\u001b[0;32m    158\u001b[0m     \u001b[39m# scikit-learn.\u001b[39;00m\n\u001b[0;32m    159\u001b[0m     msg_err \u001b[39m+\u001b[39m\u001b[39m=\u001b[39m (\n\u001b[0;32m    160\u001b[0m         \u001b[39mf\u001b[39m\u001b[39m\"\u001b[39m\u001b[39m\\n\u001b[39;00m\u001b[39m{\u001b[39;00mestimator_name\u001b[39m}\u001b[39;00m\u001b[39m does not accept missing values\u001b[39m\u001b[39m\"\u001b[39m\n\u001b[0;32m    161\u001b[0m         \u001b[39m\"\u001b[39m\u001b[39m encoded as NaN natively. For supervised learning, you might want\u001b[39m\u001b[39m\"\u001b[39m\n\u001b[1;32m   (...)\u001b[0m\n\u001b[0;32m    171\u001b[0m         \u001b[39m\"\u001b[39m\u001b[39m#estimators-that-handle-nan-values\u001b[39m\u001b[39m\"\u001b[39m\n\u001b[0;32m    172\u001b[0m     )\n\u001b[1;32m--> 173\u001b[0m \u001b[39mraise\u001b[39;00m \u001b[39mValueError\u001b[39;00m(msg_err)\n",
      "\u001b[1;31mValueError\u001b[0m: Input X contains NaN.\nPCA does not accept missing values encoded as NaN natively. For supervised learning, you might want to consider sklearn.ensemble.HistGradientBoostingClassifier and Regressor which accept missing values encoded as NaNs natively. Alternatively, it is possible to preprocess the data, for instance by using an imputer transformer in a pipeline or drop samples with missing values. See https://scikit-learn.org/stable/modules/impute.html You can find a list of all estimators that handle NaN values at the following page: https://scikit-learn.org/stable/modules/impute.html#estimators-that-handle-nan-values"
     ]
    }
   ],
   "source": [
    "from sklearn.decomposition import PCA\n",
    "from sklearn.preprocessing import StandardScaler\n",
    "\n",
    "# Select the columns with numeric data for PCA\n",
    "numeric_columns_scale = [\"CO\", \"NO2\", \"O3\", \"SO2\"]\n",
    "\n",
    "# Standardize the data (mean=0, std=1) for PCA\n",
    "scaler = StandardScaler()\n",
    "data_scaled = scaler.fit_transform(df[numeric_columns_scale])\n",
    "# Apply PCA\n",
    "pca = PCA()\n",
    "\n",
    "pca_result = pca.fit_transform(data_scaled)\n",
    "\n",
    "# Explained variance ratio\n",
    "explained_variance = pca.explained_variance_ratio_\n",
    "\n",
    "# Print explained variance\n",
    "for i, var in enumerate(explained_variance):\n",
    "    print(f\"Explained Variance for PC{i+1}: {var:.4f}\")\n",
    "\n",
    "# Plot explained variance\n",
    "plt.figure(figsize=(8, 6))\n",
    "plt.bar(range(1, len(explained_variance) + 1), explained_variance)\n",
    "plt.xlabel(\"Principal Component\")\n",
    "plt.ylabel(\"Explained Variance\")\n",
    "plt.title(\"Explained Variance by Principal Component\")\n",
    "plt.show()"
   ]
  },
  {
   "cell_type": "code",
   "execution_count": null,
   "id": "ef181bfc",
   "metadata": {},
   "outputs": [
    {
     "name": "stdout",
     "output_type": "stream",
     "text": [
      "[[-1.63216567 -1.06625552  0.56302883 -0.73582978]\n",
      " [-1.31216212 -0.6157319   0.36630783 -0.56926563]\n",
      " [-2.6546092  -0.740455   -0.74242149  0.16515114]\n",
      " ...\n",
      " [ 2.35792416 -0.05214182  0.27043518  0.13072862]\n",
      " [ 1.4916743  -0.06484719  0.28380804 -0.2140483 ]\n",
      " [ 1.32671929 -0.9019347  -0.03039263 -0.43047724]]\n"
     ]
    }
   ],
   "source": [
    "print(pca_result)"
   ]
  },
  {
   "cell_type": "code",
   "execution_count": 19,
   "id": "2f6e3f96",
   "metadata": {},
   "outputs": [
    {
     "name": "stdout",
     "output_type": "stream",
     "text": [
      "          PC1       PC2       PC3  Year          State     PM2.5\n",
      "0   -1.632166 -1.066256  0.563029  2000        Alabama  2.712347\n",
      "1   -1.312162 -0.615732  0.366308  2000       Arkansas  2.491300\n",
      "2   -2.654609 -0.740455 -0.742421  2000        Arizona  2.001532\n",
      "3   -2.148175  0.685029 -1.218686  2000     California  2.388467\n",
      "4   -2.367333 -1.103787 -0.360892  2000       Colorado  1.705032\n",
      "..        ...       ...       ...   ...            ...       ...\n",
      "763  3.360324  0.415647 -0.248117  2015        Vermont  1.686292\n",
      "764  2.411874  0.244212 -0.509862  2015     Washington  1.827739\n",
      "765  2.357924 -0.052142  0.270435  2015      Wisconsin  1.963984\n",
      "766  1.491674 -0.064847  0.283808  2015  West Virginia  2.025579\n",
      "767  1.326719 -0.901935 -0.030393  2015        Wyoming  1.512608\n",
      "\n",
      "[768 rows x 6 columns]\n"
     ]
    }
   ],
   "source": [
    "# Apply PCA with 3 components\n",
    "pca = PCA(n_components=3)\n",
    "pca_result = pca.fit_transform(data_scaled)\n",
    "\n",
    "# Create a DataFrame with the first 3 principal components\n",
    "pca_df = pd.DataFrame(data=pca_result, columns=[\"PC1\", \"PC2\", \"PC3\"])\n",
    "\n",
    "# Add the 'Year' and 'State' columns back if needed\n",
    "pca_df[\"Year\"] = df[\"Year\"]\n",
    "pca_df[\"State\"] = df[\"State\"]\n",
    "pca_df[\"PM2.5\"] = df[\"PM2.5\"]\n",
    "\n",
    "# Print the DataFrame with the first 3 principal components\n",
    "print(pca_df)"
   ]
  },
  {
   "cell_type": "code",
   "execution_count": 20,
   "id": "a99aab6f",
   "metadata": {},
   "outputs": [
    {
     "data": {
      "text/plain": [
       "array([2000, 2001, 2002, 2003, 2004, 2005, 2006, 2007, 2008, 2009, 2010,\n",
       "       2011, 2012, 2013, 2014, 2015], dtype=int64)"
      ]
     },
     "execution_count": 20,
     "metadata": {},
     "output_type": "execute_result"
    }
   ],
   "source": [
    "pca_df[\"Year\"].unique()"
   ]
  },
  {
   "cell_type": "code",
   "execution_count": 21,
   "id": "c8f27a81",
   "metadata": {},
   "outputs": [
    {
     "name": "stdout",
     "output_type": "stream",
     "text": [
      "          PC1       PC2       PC3  Year          State     PM2.5\n",
      "0   -1.632166 -1.066256  0.563029  2000        Alabama  2.712347\n",
      "1   -1.312162 -0.615732  0.366308  2000       Arkansas  2.491300\n",
      "2   -2.654609 -0.740455 -0.742421  2000        Arizona  2.001532\n",
      "3   -2.148175  0.685029 -1.218686  2000     California  2.388467\n",
      "4   -2.367333 -1.103787 -0.360892  2000       Colorado  1.705032\n",
      "..        ...       ...       ...   ...            ...       ...\n",
      "507  1.532559  0.530844  0.822919  2010  New Hampshire  1.751572\n",
      "508 -1.084516 -0.450412 -0.171723  2010     New Jersey  2.207029\n",
      "509 -0.160522 -0.462526 -0.314423  2010     New Mexico  1.490716\n",
      "510 -0.637699 -0.740661 -0.694691  2010         Nevada  1.502047\n",
      "511  0.254899  0.397445 -0.274704  2010       New York  2.037290\n",
      "\n",
      "[512 rows x 6 columns]\n",
      "          PC1       PC2       PC3  Year          State     PM2.5\n",
      "512 -0.480961 -0.418519  0.735844  2010           Ohio  2.436982\n",
      "513  0.649612 -0.066788 -0.199795  2010       Oklahoma  2.185926\n",
      "514  1.596549  1.221177 -0.421867  2010         Oregon  1.647509\n",
      "515 -0.700529 -0.013706  0.361152  2010   Pennsylvania  2.233303\n",
      "516 -0.359253  0.346131  0.040925  2010   Rhode Island  2.020856\n",
      "..        ...       ...       ...   ...            ...       ...\n",
      "763  3.360324  0.415647 -0.248117  2015        Vermont  1.686292\n",
      "764  2.411874  0.244212 -0.509862  2015     Washington  1.827739\n",
      "765  2.357924 -0.052142  0.270435  2015      Wisconsin  1.963984\n",
      "766  1.491674 -0.064847  0.283808  2015  West Virginia  2.025579\n",
      "767  1.326719 -0.901935 -0.030393  2015        Wyoming  1.512608\n",
      "\n",
      "[256 rows x 6 columns]\n"
     ]
    }
   ],
   "source": [
    "from sklearn.model_selection import TimeSeriesSplit\n",
    "\n",
    "# Create a TimeSeriesSplit with 2 splits\n",
    "tscv = TimeSeriesSplit(n_splits=2)\n",
    "\n",
    "for train_index, test_index in tscv.split(pca_df):\n",
    "    train_data = pca_df.iloc[train_index]\n",
    "    test_data = pca_df.iloc[test_index]\n",
    "\n",
    "print(train_data)\n",
    "print(test_data)"
   ]
  },
  {
   "cell_type": "code",
   "execution_count": 22,
   "id": "884cdbec",
   "metadata": {},
   "outputs": [],
   "source": [
    "# Filter train and test data based on the specified years\n",
    "# train_data = train_data[train_data['Year'] <= 2012]\n",
    "# test_data = test_data[(test_data['Year'] >= 2013) & (test_data['Year'] <= 2015)]\n",
    "\n",
    "# Separate the independent variables (X) and the target variable (y)\n",
    "X_train = train_data.drop(columns=[\"PM2.5\"])\n",
    "y_train = train_data[\"PM2.5\"]\n",
    "\n",
    "X_test = test_data.drop(columns=[\"PM2.5\"])\n",
    "y_test = test_data[\"PM2.5\"]"
   ]
  },
  {
   "cell_type": "code",
   "execution_count": 23,
   "id": "f3c81b41",
   "metadata": {},
   "outputs": [
    {
     "data": {
      "text/plain": [
       "(512, 5)"
      ]
     },
     "execution_count": 23,
     "metadata": {},
     "output_type": "execute_result"
    }
   ],
   "source": [
    "X_train.shape"
   ]
  },
  {
   "cell_type": "code",
   "execution_count": 24,
   "id": "7c9c112a",
   "metadata": {},
   "outputs": [
    {
     "data": {
      "text/plain": [
       "(256, 5)"
      ]
     },
     "execution_count": 24,
     "metadata": {},
     "output_type": "execute_result"
    }
   ],
   "source": [
    "X_test.shape"
   ]
  },
  {
   "cell_type": "code",
   "execution_count": 25,
   "id": "2fc20374",
   "metadata": {},
   "outputs": [],
   "source": [
    "X_train = pd.get_dummies(X_train, columns=[\"State\"], prefix=\"State\")\n",
    "X_test = pd.get_dummies(X_test, columns=[\"State\"], prefix=\"State\")"
   ]
  },
  {
   "cell_type": "code",
   "execution_count": 26,
   "id": "6784204d",
   "metadata": {},
   "outputs": [
    {
     "data": {
      "text/html": [
       "<div>\n",
       "<style scoped>\n",
       "    .dataframe tbody tr th:only-of-type {\n",
       "        vertical-align: middle;\n",
       "    }\n",
       "\n",
       "    .dataframe tbody tr th {\n",
       "        vertical-align: top;\n",
       "    }\n",
       "\n",
       "    .dataframe thead th {\n",
       "        text-align: right;\n",
       "    }\n",
       "</style>\n",
       "<table border=\"1\" class=\"dataframe\">\n",
       "  <thead>\n",
       "    <tr style=\"text-align: right;\">\n",
       "      <th></th>\n",
       "      <th>PC1</th>\n",
       "      <th>PC2</th>\n",
       "      <th>PC3</th>\n",
       "      <th>Year</th>\n",
       "      <th>State_Alabama</th>\n",
       "      <th>State_Arizona</th>\n",
       "      <th>State_Arkansas</th>\n",
       "      <th>State_California</th>\n",
       "      <th>State_Colorado</th>\n",
       "      <th>State_Connecticut</th>\n",
       "      <th>...</th>\n",
       "      <th>State_South Dakota</th>\n",
       "      <th>State_Tennessee</th>\n",
       "      <th>State_Texas</th>\n",
       "      <th>State_Utah</th>\n",
       "      <th>State_Vermont</th>\n",
       "      <th>State_Virginia</th>\n",
       "      <th>State_Washington</th>\n",
       "      <th>State_West Virginia</th>\n",
       "      <th>State_Wisconsin</th>\n",
       "      <th>State_Wyoming</th>\n",
       "    </tr>\n",
       "  </thead>\n",
       "  <tbody>\n",
       "    <tr>\n",
       "      <th>0</th>\n",
       "      <td>-1.632166</td>\n",
       "      <td>-1.066256</td>\n",
       "      <td>0.563029</td>\n",
       "      <td>2000</td>\n",
       "      <td>True</td>\n",
       "      <td>False</td>\n",
       "      <td>False</td>\n",
       "      <td>False</td>\n",
       "      <td>False</td>\n",
       "      <td>False</td>\n",
       "      <td>...</td>\n",
       "      <td>False</td>\n",
       "      <td>False</td>\n",
       "      <td>False</td>\n",
       "      <td>False</td>\n",
       "      <td>False</td>\n",
       "      <td>False</td>\n",
       "      <td>False</td>\n",
       "      <td>False</td>\n",
       "      <td>False</td>\n",
       "      <td>False</td>\n",
       "    </tr>\n",
       "    <tr>\n",
       "      <th>1</th>\n",
       "      <td>-1.312162</td>\n",
       "      <td>-0.615732</td>\n",
       "      <td>0.366308</td>\n",
       "      <td>2000</td>\n",
       "      <td>False</td>\n",
       "      <td>False</td>\n",
       "      <td>True</td>\n",
       "      <td>False</td>\n",
       "      <td>False</td>\n",
       "      <td>False</td>\n",
       "      <td>...</td>\n",
       "      <td>False</td>\n",
       "      <td>False</td>\n",
       "      <td>False</td>\n",
       "      <td>False</td>\n",
       "      <td>False</td>\n",
       "      <td>False</td>\n",
       "      <td>False</td>\n",
       "      <td>False</td>\n",
       "      <td>False</td>\n",
       "      <td>False</td>\n",
       "    </tr>\n",
       "    <tr>\n",
       "      <th>2</th>\n",
       "      <td>-2.654609</td>\n",
       "      <td>-0.740455</td>\n",
       "      <td>-0.742421</td>\n",
       "      <td>2000</td>\n",
       "      <td>False</td>\n",
       "      <td>True</td>\n",
       "      <td>False</td>\n",
       "      <td>False</td>\n",
       "      <td>False</td>\n",
       "      <td>False</td>\n",
       "      <td>...</td>\n",
       "      <td>False</td>\n",
       "      <td>False</td>\n",
       "      <td>False</td>\n",
       "      <td>False</td>\n",
       "      <td>False</td>\n",
       "      <td>False</td>\n",
       "      <td>False</td>\n",
       "      <td>False</td>\n",
       "      <td>False</td>\n",
       "      <td>False</td>\n",
       "    </tr>\n",
       "    <tr>\n",
       "      <th>3</th>\n",
       "      <td>-2.148175</td>\n",
       "      <td>0.685029</td>\n",
       "      <td>-1.218686</td>\n",
       "      <td>2000</td>\n",
       "      <td>False</td>\n",
       "      <td>False</td>\n",
       "      <td>False</td>\n",
       "      <td>True</td>\n",
       "      <td>False</td>\n",
       "      <td>False</td>\n",
       "      <td>...</td>\n",
       "      <td>False</td>\n",
       "      <td>False</td>\n",
       "      <td>False</td>\n",
       "      <td>False</td>\n",
       "      <td>False</td>\n",
       "      <td>False</td>\n",
       "      <td>False</td>\n",
       "      <td>False</td>\n",
       "      <td>False</td>\n",
       "      <td>False</td>\n",
       "    </tr>\n",
       "    <tr>\n",
       "      <th>4</th>\n",
       "      <td>-2.367333</td>\n",
       "      <td>-1.103787</td>\n",
       "      <td>-0.360892</td>\n",
       "      <td>2000</td>\n",
       "      <td>False</td>\n",
       "      <td>False</td>\n",
       "      <td>False</td>\n",
       "      <td>False</td>\n",
       "      <td>True</td>\n",
       "      <td>False</td>\n",
       "      <td>...</td>\n",
       "      <td>False</td>\n",
       "      <td>False</td>\n",
       "      <td>False</td>\n",
       "      <td>False</td>\n",
       "      <td>False</td>\n",
       "      <td>False</td>\n",
       "      <td>False</td>\n",
       "      <td>False</td>\n",
       "      <td>False</td>\n",
       "      <td>False</td>\n",
       "    </tr>\n",
       "    <tr>\n",
       "      <th>...</th>\n",
       "      <td>...</td>\n",
       "      <td>...</td>\n",
       "      <td>...</td>\n",
       "      <td>...</td>\n",
       "      <td>...</td>\n",
       "      <td>...</td>\n",
       "      <td>...</td>\n",
       "      <td>...</td>\n",
       "      <td>...</td>\n",
       "      <td>...</td>\n",
       "      <td>...</td>\n",
       "      <td>...</td>\n",
       "      <td>...</td>\n",
       "      <td>...</td>\n",
       "      <td>...</td>\n",
       "      <td>...</td>\n",
       "      <td>...</td>\n",
       "      <td>...</td>\n",
       "      <td>...</td>\n",
       "      <td>...</td>\n",
       "      <td>...</td>\n",
       "    </tr>\n",
       "    <tr>\n",
       "      <th>507</th>\n",
       "      <td>1.532559</td>\n",
       "      <td>0.530844</td>\n",
       "      <td>0.822919</td>\n",
       "      <td>2010</td>\n",
       "      <td>False</td>\n",
       "      <td>False</td>\n",
       "      <td>False</td>\n",
       "      <td>False</td>\n",
       "      <td>False</td>\n",
       "      <td>False</td>\n",
       "      <td>...</td>\n",
       "      <td>False</td>\n",
       "      <td>False</td>\n",
       "      <td>False</td>\n",
       "      <td>False</td>\n",
       "      <td>False</td>\n",
       "      <td>False</td>\n",
       "      <td>False</td>\n",
       "      <td>False</td>\n",
       "      <td>False</td>\n",
       "      <td>False</td>\n",
       "    </tr>\n",
       "    <tr>\n",
       "      <th>508</th>\n",
       "      <td>-1.084516</td>\n",
       "      <td>-0.450412</td>\n",
       "      <td>-0.171723</td>\n",
       "      <td>2010</td>\n",
       "      <td>False</td>\n",
       "      <td>False</td>\n",
       "      <td>False</td>\n",
       "      <td>False</td>\n",
       "      <td>False</td>\n",
       "      <td>False</td>\n",
       "      <td>...</td>\n",
       "      <td>False</td>\n",
       "      <td>False</td>\n",
       "      <td>False</td>\n",
       "      <td>False</td>\n",
       "      <td>False</td>\n",
       "      <td>False</td>\n",
       "      <td>False</td>\n",
       "      <td>False</td>\n",
       "      <td>False</td>\n",
       "      <td>False</td>\n",
       "    </tr>\n",
       "    <tr>\n",
       "      <th>509</th>\n",
       "      <td>-0.160522</td>\n",
       "      <td>-0.462526</td>\n",
       "      <td>-0.314423</td>\n",
       "      <td>2010</td>\n",
       "      <td>False</td>\n",
       "      <td>False</td>\n",
       "      <td>False</td>\n",
       "      <td>False</td>\n",
       "      <td>False</td>\n",
       "      <td>False</td>\n",
       "      <td>...</td>\n",
       "      <td>False</td>\n",
       "      <td>False</td>\n",
       "      <td>False</td>\n",
       "      <td>False</td>\n",
       "      <td>False</td>\n",
       "      <td>False</td>\n",
       "      <td>False</td>\n",
       "      <td>False</td>\n",
       "      <td>False</td>\n",
       "      <td>False</td>\n",
       "    </tr>\n",
       "    <tr>\n",
       "      <th>510</th>\n",
       "      <td>-0.637699</td>\n",
       "      <td>-0.740661</td>\n",
       "      <td>-0.694691</td>\n",
       "      <td>2010</td>\n",
       "      <td>False</td>\n",
       "      <td>False</td>\n",
       "      <td>False</td>\n",
       "      <td>False</td>\n",
       "      <td>False</td>\n",
       "      <td>False</td>\n",
       "      <td>...</td>\n",
       "      <td>False</td>\n",
       "      <td>False</td>\n",
       "      <td>False</td>\n",
       "      <td>False</td>\n",
       "      <td>False</td>\n",
       "      <td>False</td>\n",
       "      <td>False</td>\n",
       "      <td>False</td>\n",
       "      <td>False</td>\n",
       "      <td>False</td>\n",
       "    </tr>\n",
       "    <tr>\n",
       "      <th>511</th>\n",
       "      <td>0.254899</td>\n",
       "      <td>0.397445</td>\n",
       "      <td>-0.274704</td>\n",
       "      <td>2010</td>\n",
       "      <td>False</td>\n",
       "      <td>False</td>\n",
       "      <td>False</td>\n",
       "      <td>False</td>\n",
       "      <td>False</td>\n",
       "      <td>False</td>\n",
       "      <td>...</td>\n",
       "      <td>False</td>\n",
       "      <td>False</td>\n",
       "      <td>False</td>\n",
       "      <td>False</td>\n",
       "      <td>False</td>\n",
       "      <td>False</td>\n",
       "      <td>False</td>\n",
       "      <td>False</td>\n",
       "      <td>False</td>\n",
       "      <td>False</td>\n",
       "    </tr>\n",
       "  </tbody>\n",
       "</table>\n",
       "<p>512 rows × 52 columns</p>\n",
       "</div>"
      ],
      "text/plain": [
       "          PC1       PC2       PC3  Year  State_Alabama  State_Arizona  \\\n",
       "0   -1.632166 -1.066256  0.563029  2000           True          False   \n",
       "1   -1.312162 -0.615732  0.366308  2000          False          False   \n",
       "2   -2.654609 -0.740455 -0.742421  2000          False           True   \n",
       "3   -2.148175  0.685029 -1.218686  2000          False          False   \n",
       "4   -2.367333 -1.103787 -0.360892  2000          False          False   \n",
       "..        ...       ...       ...   ...            ...            ...   \n",
       "507  1.532559  0.530844  0.822919  2010          False          False   \n",
       "508 -1.084516 -0.450412 -0.171723  2010          False          False   \n",
       "509 -0.160522 -0.462526 -0.314423  2010          False          False   \n",
       "510 -0.637699 -0.740661 -0.694691  2010          False          False   \n",
       "511  0.254899  0.397445 -0.274704  2010          False          False   \n",
       "\n",
       "     State_Arkansas  State_California  State_Colorado  State_Connecticut  ...  \\\n",
       "0             False             False           False              False  ...   \n",
       "1              True             False           False              False  ...   \n",
       "2             False             False           False              False  ...   \n",
       "3             False              True           False              False  ...   \n",
       "4             False             False            True              False  ...   \n",
       "..              ...               ...             ...                ...  ...   \n",
       "507           False             False           False              False  ...   \n",
       "508           False             False           False              False  ...   \n",
       "509           False             False           False              False  ...   \n",
       "510           False             False           False              False  ...   \n",
       "511           False             False           False              False  ...   \n",
       "\n",
       "     State_South Dakota  State_Tennessee  State_Texas  State_Utah  \\\n",
       "0                 False            False        False       False   \n",
       "1                 False            False        False       False   \n",
       "2                 False            False        False       False   \n",
       "3                 False            False        False       False   \n",
       "4                 False            False        False       False   \n",
       "..                  ...              ...          ...         ...   \n",
       "507               False            False        False       False   \n",
       "508               False            False        False       False   \n",
       "509               False            False        False       False   \n",
       "510               False            False        False       False   \n",
       "511               False            False        False       False   \n",
       "\n",
       "     State_Vermont  State_Virginia  State_Washington  State_West Virginia  \\\n",
       "0            False           False             False                False   \n",
       "1            False           False             False                False   \n",
       "2            False           False             False                False   \n",
       "3            False           False             False                False   \n",
       "4            False           False             False                False   \n",
       "..             ...             ...               ...                  ...   \n",
       "507          False           False             False                False   \n",
       "508          False           False             False                False   \n",
       "509          False           False             False                False   \n",
       "510          False           False             False                False   \n",
       "511          False           False             False                False   \n",
       "\n",
       "     State_Wisconsin  State_Wyoming  \n",
       "0              False          False  \n",
       "1              False          False  \n",
       "2              False          False  \n",
       "3              False          False  \n",
       "4              False          False  \n",
       "..               ...            ...  \n",
       "507            False          False  \n",
       "508            False          False  \n",
       "509            False          False  \n",
       "510            False          False  \n",
       "511            False          False  \n",
       "\n",
       "[512 rows x 52 columns]"
      ]
     },
     "execution_count": 26,
     "metadata": {},
     "output_type": "execute_result"
    }
   ],
   "source": [
    "X_train"
   ]
  },
  {
   "cell_type": "code",
   "execution_count": 27,
   "id": "81638687",
   "metadata": {},
   "outputs": [
    {
     "data": {
      "text/html": [
       "<div>\n",
       "<style scoped>\n",
       "    .dataframe tbody tr th:only-of-type {\n",
       "        vertical-align: middle;\n",
       "    }\n",
       "\n",
       "    .dataframe tbody tr th {\n",
       "        vertical-align: top;\n",
       "    }\n",
       "\n",
       "    .dataframe thead th {\n",
       "        text-align: right;\n",
       "    }\n",
       "</style>\n",
       "<table border=\"1\" class=\"dataframe\">\n",
       "  <thead>\n",
       "    <tr style=\"text-align: right;\">\n",
       "      <th></th>\n",
       "      <th>PC1</th>\n",
       "      <th>PC2</th>\n",
       "      <th>PC3</th>\n",
       "      <th>Year</th>\n",
       "      <th>State_Alabama</th>\n",
       "      <th>State_Arizona</th>\n",
       "      <th>State_Arkansas</th>\n",
       "      <th>State_California</th>\n",
       "      <th>State_Colorado</th>\n",
       "      <th>State_Connecticut</th>\n",
       "      <th>...</th>\n",
       "      <th>State_South Dakota</th>\n",
       "      <th>State_Tennessee</th>\n",
       "      <th>State_Texas</th>\n",
       "      <th>State_Utah</th>\n",
       "      <th>State_Vermont</th>\n",
       "      <th>State_Virginia</th>\n",
       "      <th>State_Washington</th>\n",
       "      <th>State_West Virginia</th>\n",
       "      <th>State_Wisconsin</th>\n",
       "      <th>State_Wyoming</th>\n",
       "    </tr>\n",
       "  </thead>\n",
       "  <tbody>\n",
       "    <tr>\n",
       "      <th>512</th>\n",
       "      <td>-0.480961</td>\n",
       "      <td>-0.418519</td>\n",
       "      <td>0.735844</td>\n",
       "      <td>2010</td>\n",
       "      <td>False</td>\n",
       "      <td>False</td>\n",
       "      <td>False</td>\n",
       "      <td>False</td>\n",
       "      <td>False</td>\n",
       "      <td>False</td>\n",
       "      <td>...</td>\n",
       "      <td>False</td>\n",
       "      <td>False</td>\n",
       "      <td>False</td>\n",
       "      <td>False</td>\n",
       "      <td>False</td>\n",
       "      <td>False</td>\n",
       "      <td>False</td>\n",
       "      <td>False</td>\n",
       "      <td>False</td>\n",
       "      <td>False</td>\n",
       "    </tr>\n",
       "    <tr>\n",
       "      <th>513</th>\n",
       "      <td>0.649612</td>\n",
       "      <td>-0.066788</td>\n",
       "      <td>-0.199795</td>\n",
       "      <td>2010</td>\n",
       "      <td>False</td>\n",
       "      <td>False</td>\n",
       "      <td>False</td>\n",
       "      <td>False</td>\n",
       "      <td>False</td>\n",
       "      <td>False</td>\n",
       "      <td>...</td>\n",
       "      <td>False</td>\n",
       "      <td>False</td>\n",
       "      <td>False</td>\n",
       "      <td>False</td>\n",
       "      <td>False</td>\n",
       "      <td>False</td>\n",
       "      <td>False</td>\n",
       "      <td>False</td>\n",
       "      <td>False</td>\n",
       "      <td>False</td>\n",
       "    </tr>\n",
       "    <tr>\n",
       "      <th>514</th>\n",
       "      <td>1.596549</td>\n",
       "      <td>1.221177</td>\n",
       "      <td>-0.421867</td>\n",
       "      <td>2010</td>\n",
       "      <td>False</td>\n",
       "      <td>False</td>\n",
       "      <td>False</td>\n",
       "      <td>False</td>\n",
       "      <td>False</td>\n",
       "      <td>False</td>\n",
       "      <td>...</td>\n",
       "      <td>False</td>\n",
       "      <td>False</td>\n",
       "      <td>False</td>\n",
       "      <td>False</td>\n",
       "      <td>False</td>\n",
       "      <td>False</td>\n",
       "      <td>False</td>\n",
       "      <td>False</td>\n",
       "      <td>False</td>\n",
       "      <td>False</td>\n",
       "    </tr>\n",
       "    <tr>\n",
       "      <th>515</th>\n",
       "      <td>-0.700529</td>\n",
       "      <td>-0.013706</td>\n",
       "      <td>0.361152</td>\n",
       "      <td>2010</td>\n",
       "      <td>False</td>\n",
       "      <td>False</td>\n",
       "      <td>False</td>\n",
       "      <td>False</td>\n",
       "      <td>False</td>\n",
       "      <td>False</td>\n",
       "      <td>...</td>\n",
       "      <td>False</td>\n",
       "      <td>False</td>\n",
       "      <td>False</td>\n",
       "      <td>False</td>\n",
       "      <td>False</td>\n",
       "      <td>False</td>\n",
       "      <td>False</td>\n",
       "      <td>False</td>\n",
       "      <td>False</td>\n",
       "      <td>False</td>\n",
       "    </tr>\n",
       "    <tr>\n",
       "      <th>516</th>\n",
       "      <td>-0.359253</td>\n",
       "      <td>0.346131</td>\n",
       "      <td>0.040925</td>\n",
       "      <td>2010</td>\n",
       "      <td>False</td>\n",
       "      <td>False</td>\n",
       "      <td>False</td>\n",
       "      <td>False</td>\n",
       "      <td>False</td>\n",
       "      <td>False</td>\n",
       "      <td>...</td>\n",
       "      <td>False</td>\n",
       "      <td>False</td>\n",
       "      <td>False</td>\n",
       "      <td>False</td>\n",
       "      <td>False</td>\n",
       "      <td>False</td>\n",
       "      <td>False</td>\n",
       "      <td>False</td>\n",
       "      <td>False</td>\n",
       "      <td>False</td>\n",
       "    </tr>\n",
       "    <tr>\n",
       "      <th>...</th>\n",
       "      <td>...</td>\n",
       "      <td>...</td>\n",
       "      <td>...</td>\n",
       "      <td>...</td>\n",
       "      <td>...</td>\n",
       "      <td>...</td>\n",
       "      <td>...</td>\n",
       "      <td>...</td>\n",
       "      <td>...</td>\n",
       "      <td>...</td>\n",
       "      <td>...</td>\n",
       "      <td>...</td>\n",
       "      <td>...</td>\n",
       "      <td>...</td>\n",
       "      <td>...</td>\n",
       "      <td>...</td>\n",
       "      <td>...</td>\n",
       "      <td>...</td>\n",
       "      <td>...</td>\n",
       "      <td>...</td>\n",
       "      <td>...</td>\n",
       "    </tr>\n",
       "    <tr>\n",
       "      <th>763</th>\n",
       "      <td>3.360324</td>\n",
       "      <td>0.415647</td>\n",
       "      <td>-0.248117</td>\n",
       "      <td>2015</td>\n",
       "      <td>False</td>\n",
       "      <td>False</td>\n",
       "      <td>False</td>\n",
       "      <td>False</td>\n",
       "      <td>False</td>\n",
       "      <td>False</td>\n",
       "      <td>...</td>\n",
       "      <td>False</td>\n",
       "      <td>False</td>\n",
       "      <td>False</td>\n",
       "      <td>False</td>\n",
       "      <td>True</td>\n",
       "      <td>False</td>\n",
       "      <td>False</td>\n",
       "      <td>False</td>\n",
       "      <td>False</td>\n",
       "      <td>False</td>\n",
       "    </tr>\n",
       "    <tr>\n",
       "      <th>764</th>\n",
       "      <td>2.411874</td>\n",
       "      <td>0.244212</td>\n",
       "      <td>-0.509862</td>\n",
       "      <td>2015</td>\n",
       "      <td>False</td>\n",
       "      <td>False</td>\n",
       "      <td>False</td>\n",
       "      <td>False</td>\n",
       "      <td>False</td>\n",
       "      <td>False</td>\n",
       "      <td>...</td>\n",
       "      <td>False</td>\n",
       "      <td>False</td>\n",
       "      <td>False</td>\n",
       "      <td>False</td>\n",
       "      <td>False</td>\n",
       "      <td>False</td>\n",
       "      <td>True</td>\n",
       "      <td>False</td>\n",
       "      <td>False</td>\n",
       "      <td>False</td>\n",
       "    </tr>\n",
       "    <tr>\n",
       "      <th>765</th>\n",
       "      <td>2.357924</td>\n",
       "      <td>-0.052142</td>\n",
       "      <td>0.270435</td>\n",
       "      <td>2015</td>\n",
       "      <td>False</td>\n",
       "      <td>False</td>\n",
       "      <td>False</td>\n",
       "      <td>False</td>\n",
       "      <td>False</td>\n",
       "      <td>False</td>\n",
       "      <td>...</td>\n",
       "      <td>False</td>\n",
       "      <td>False</td>\n",
       "      <td>False</td>\n",
       "      <td>False</td>\n",
       "      <td>False</td>\n",
       "      <td>False</td>\n",
       "      <td>False</td>\n",
       "      <td>False</td>\n",
       "      <td>True</td>\n",
       "      <td>False</td>\n",
       "    </tr>\n",
       "    <tr>\n",
       "      <th>766</th>\n",
       "      <td>1.491674</td>\n",
       "      <td>-0.064847</td>\n",
       "      <td>0.283808</td>\n",
       "      <td>2015</td>\n",
       "      <td>False</td>\n",
       "      <td>False</td>\n",
       "      <td>False</td>\n",
       "      <td>False</td>\n",
       "      <td>False</td>\n",
       "      <td>False</td>\n",
       "      <td>...</td>\n",
       "      <td>False</td>\n",
       "      <td>False</td>\n",
       "      <td>False</td>\n",
       "      <td>False</td>\n",
       "      <td>False</td>\n",
       "      <td>False</td>\n",
       "      <td>False</td>\n",
       "      <td>True</td>\n",
       "      <td>False</td>\n",
       "      <td>False</td>\n",
       "    </tr>\n",
       "    <tr>\n",
       "      <th>767</th>\n",
       "      <td>1.326719</td>\n",
       "      <td>-0.901935</td>\n",
       "      <td>-0.030393</td>\n",
       "      <td>2015</td>\n",
       "      <td>False</td>\n",
       "      <td>False</td>\n",
       "      <td>False</td>\n",
       "      <td>False</td>\n",
       "      <td>False</td>\n",
       "      <td>False</td>\n",
       "      <td>...</td>\n",
       "      <td>False</td>\n",
       "      <td>False</td>\n",
       "      <td>False</td>\n",
       "      <td>False</td>\n",
       "      <td>False</td>\n",
       "      <td>False</td>\n",
       "      <td>False</td>\n",
       "      <td>False</td>\n",
       "      <td>False</td>\n",
       "      <td>True</td>\n",
       "    </tr>\n",
       "  </tbody>\n",
       "</table>\n",
       "<p>256 rows × 52 columns</p>\n",
       "</div>"
      ],
      "text/plain": [
       "          PC1       PC2       PC3  Year  State_Alabama  State_Arizona  \\\n",
       "512 -0.480961 -0.418519  0.735844  2010          False          False   \n",
       "513  0.649612 -0.066788 -0.199795  2010          False          False   \n",
       "514  1.596549  1.221177 -0.421867  2010          False          False   \n",
       "515 -0.700529 -0.013706  0.361152  2010          False          False   \n",
       "516 -0.359253  0.346131  0.040925  2010          False          False   \n",
       "..        ...       ...       ...   ...            ...            ...   \n",
       "763  3.360324  0.415647 -0.248117  2015          False          False   \n",
       "764  2.411874  0.244212 -0.509862  2015          False          False   \n",
       "765  2.357924 -0.052142  0.270435  2015          False          False   \n",
       "766  1.491674 -0.064847  0.283808  2015          False          False   \n",
       "767  1.326719 -0.901935 -0.030393  2015          False          False   \n",
       "\n",
       "     State_Arkansas  State_California  State_Colorado  State_Connecticut  ...  \\\n",
       "512           False             False           False              False  ...   \n",
       "513           False             False           False              False  ...   \n",
       "514           False             False           False              False  ...   \n",
       "515           False             False           False              False  ...   \n",
       "516           False             False           False              False  ...   \n",
       "..              ...               ...             ...                ...  ...   \n",
       "763           False             False           False              False  ...   \n",
       "764           False             False           False              False  ...   \n",
       "765           False             False           False              False  ...   \n",
       "766           False             False           False              False  ...   \n",
       "767           False             False           False              False  ...   \n",
       "\n",
       "     State_South Dakota  State_Tennessee  State_Texas  State_Utah  \\\n",
       "512               False            False        False       False   \n",
       "513               False            False        False       False   \n",
       "514               False            False        False       False   \n",
       "515               False            False        False       False   \n",
       "516               False            False        False       False   \n",
       "..                  ...              ...          ...         ...   \n",
       "763               False            False        False       False   \n",
       "764               False            False        False       False   \n",
       "765               False            False        False       False   \n",
       "766               False            False        False       False   \n",
       "767               False            False        False       False   \n",
       "\n",
       "     State_Vermont  State_Virginia  State_Washington  State_West Virginia  \\\n",
       "512          False           False             False                False   \n",
       "513          False           False             False                False   \n",
       "514          False           False             False                False   \n",
       "515          False           False             False                False   \n",
       "516          False           False             False                False   \n",
       "..             ...             ...               ...                  ...   \n",
       "763           True           False             False                False   \n",
       "764          False           False              True                False   \n",
       "765          False           False             False                False   \n",
       "766          False           False             False                 True   \n",
       "767          False           False             False                False   \n",
       "\n",
       "     State_Wisconsin  State_Wyoming  \n",
       "512            False          False  \n",
       "513            False          False  \n",
       "514            False          False  \n",
       "515            False          False  \n",
       "516            False          False  \n",
       "..               ...            ...  \n",
       "763            False          False  \n",
       "764            False          False  \n",
       "765             True          False  \n",
       "766            False          False  \n",
       "767            False           True  \n",
       "\n",
       "[256 rows x 52 columns]"
      ]
     },
     "execution_count": 27,
     "metadata": {},
     "output_type": "execute_result"
    }
   ],
   "source": [
    "X_test"
   ]
  },
  {
   "cell_type": "markdown",
   "id": "24c89973",
   "metadata": {},
   "source": [
    "## Model Building\n"
   ]
  },
  {
   "cell_type": "code",
   "execution_count": 28,
   "id": "119f8ef5",
   "metadata": {},
   "outputs": [
    {
     "name": "stdout",
     "output_type": "stream",
     "text": [
      "r2score= 0.850550401059748\n",
      "Mean absolute error =  0.06577882873064844\n",
      "Mean Squared error =  0.006736894997339721\n",
      "Root Mean Sqaured Error=  0.08207859037130036\n"
     ]
    }
   ],
   "source": [
    "from sklearn.linear_model import LinearRegression\n",
    "from sklearn.metrics import mean_absolute_error, mean_squared_error, r2_score\n",
    "\n",
    "lr = LinearRegression()\n",
    "lr.fit(X_train, y_train)\n",
    "pred = lr.predict(X_test)\n",
    "r2 = r2_score(y_test, pred)\n",
    "mae = mean_absolute_error(pred, y_test)\n",
    "mse = mean_squared_error(pred, y_test)\n",
    "rmse = np.sqrt(mean_squared_error(pred, y_test))\n",
    "print(\"r2score=\", r2)\n",
    "print(\"Mean absolute error = \", mae)\n",
    "print(\"Mean Squared error = \", mse)\n",
    "print(\"Root Mean Sqaured Error= \", rmse)"
   ]
  },
  {
   "cell_type": "code",
   "execution_count": 29,
   "id": "92093837",
   "metadata": {},
   "outputs": [],
   "source": [
    "from sklearn.model_selection import cross_val_score"
   ]
  },
  {
   "cell_type": "code",
   "execution_count": 30,
   "id": "df009fda",
   "metadata": {},
   "outputs": [
    {
     "ename": "NameError",
     "evalue": "name 'x' is not defined",
     "output_type": "error",
     "traceback": [
      "\u001b[1;31m---------------------------------------------------------------------------\u001b[0m",
      "\u001b[1;31mNameError\u001b[0m                                 Traceback (most recent call last)",
      "\u001b[1;32md:\\ProjectAQI\\Analysis_and_Model\\PM2.5_ML (1).ipynb Cell 34\u001b[0m line \u001b[0;36m1\n\u001b[1;32m----> <a href='vscode-notebook-cell:/d%3A/ProjectAQI/Analysis_and_Model/PM2.5_ML%20%281%29.ipynb#X45sZmlsZQ%3D%3D?line=0'>1</a>\u001b[0m cv_score \u001b[39m=\u001b[39m cross_val_score(lr, x, y, cv\u001b[39m=\u001b[39m\u001b[39m5\u001b[39m)\n\u001b[0;32m      <a href='vscode-notebook-cell:/d%3A/ProjectAQI/Analysis_and_Model/PM2.5_ML%20%281%29.ipynb#X45sZmlsZQ%3D%3D?line=1'>2</a>\u001b[0m cv_mean \u001b[39m=\u001b[39m cv_score\u001b[39m.\u001b[39mmean()\n\u001b[0;32m      <a href='vscode-notebook-cell:/d%3A/ProjectAQI/Analysis_and_Model/PM2.5_ML%20%281%29.ipynb#X45sZmlsZQ%3D%3D?line=2'>3</a>\u001b[0m cv_mean\n",
      "\u001b[1;31mNameError\u001b[0m: name 'x' is not defined"
     ]
    }
   ],
   "source": [
    "cv_score = cross_val_score(lr, x, y, cv=5)\n",
    "cv_mean = cv_score.mean()\n",
    "cv_mean"
   ]
  },
  {
   "cell_type": "code",
   "execution_count": null,
   "id": "1bdc4f27",
   "metadata": {},
   "outputs": [
    {
     "name": "stdout",
     "output_type": "stream",
     "text": [
      "r2score= -0.20727591916996757\n",
      "Mean absolute error =  0.1777875725655494\n",
      "Mean Squared error =  0.0544216321618665\n",
      "Root Mean Sqaured Error=  0.233284444749037\n"
     ]
    }
   ],
   "source": [
    "from sklearn.tree import DecisionTreeRegressor\n",
    "\n",
    "dtr = DecisionTreeRegressor()\n",
    "dtr.fit(X_train, y_train)\n",
    "pred = dtr.predict(X_test)\n",
    "r2 = r2_score(y_test, pred)\n",
    "mae = mean_absolute_error(pred, y_test)\n",
    "mse = mean_squared_error(pred, y_test)\n",
    "rmse = np.sqrt(mean_squared_error(pred, y_test))\n",
    "print(\"r2score=\", r2)\n",
    "print(\"Mean absolute error = \", mae)\n",
    "print(\"Mean Squared error = \", mse)\n",
    "print(\"Root Mean Sqaured Error= \", rmse)"
   ]
  },
  {
   "cell_type": "code",
   "execution_count": null,
   "id": "5dc374a7",
   "metadata": {},
   "outputs": [
    {
     "data": {
      "text/plain": [
       "0.27251689650707733"
      ]
     },
     "execution_count": 310,
     "metadata": {},
     "output_type": "execute_result"
    }
   ],
   "source": [
    "cv_score = cross_val_score(dtr, x, y, cv=5)\n",
    "cv_mean = cv_score.mean()\n",
    "cv_mean"
   ]
  },
  {
   "cell_type": "code",
   "execution_count": null,
   "id": "3d6d5c6a",
   "metadata": {},
   "outputs": [
    {
     "name": "stdout",
     "output_type": "stream",
     "text": [
      "r2score= 0.1486855823831741\n",
      "Mean absolute error =  0.1502769227208865\n",
      "Mean Squared error =  0.038375585360378495\n",
      "Root Mean Sqaured Error=  0.19589687429966435\n"
     ]
    }
   ],
   "source": [
    "from sklearn.ensemble import RandomForestRegressor\n",
    "\n",
    "rfr = RandomForestRegressor(n_estimators=100, random_state=12)\n",
    "rfr.fit(X_train, y_train)\n",
    "pred = rfr.predict(X_test)\n",
    "r2 = r2_score(y_test, pred)\n",
    "mae = mean_absolute_error(pred, y_test)\n",
    "mse = mean_squared_error(pred, y_test)\n",
    "rmse = np.sqrt(mean_squared_error(pred, y_test))\n",
    "print(\"r2score=\", r2)\n",
    "print(\"Mean absolute error = \", mae)\n",
    "print(\"Mean Squared error = \", mse)\n",
    "print(\"Root Mean Sqaured Error= \", rmse)"
   ]
  },
  {
   "cell_type": "code",
   "execution_count": null,
   "id": "2c393dde",
   "metadata": {},
   "outputs": [
    {
     "data": {
      "text/plain": [
       "0.6194251187844066"
      ]
     },
     "execution_count": 312,
     "metadata": {},
     "output_type": "execute_result"
    }
   ],
   "source": [
    "cv_score = cross_val_score(rfr, x, y, cv=5)\n",
    "cv_mean = cv_score.mean()\n",
    "cv_mean"
   ]
  },
  {
   "cell_type": "code",
   "execution_count": null,
   "id": "ba21de9c",
   "metadata": {},
   "outputs": [
    {
     "name": "stdout",
     "output_type": "stream",
     "text": [
      "r2score= -0.42247876616765523\n",
      "Mean absolute error =  0.18750693280562702\n",
      "Mean Squared error =  0.0641225547045332\n",
      "Root Mean Sqaured Error=  0.25322431696923026\n"
     ]
    }
   ],
   "source": [
    "from sklearn.linear_model import Lasso\n",
    "\n",
    "lasso = Lasso(alpha=0.1, random_state=0)\n",
    "lasso.fit(X_train, y_train)\n",
    "pred = lasso.predict(X_test)\n",
    "r2 = r2_score(y_test, pred)\n",
    "mae = mean_absolute_error(pred, y_test)\n",
    "mse = mean_squared_error(pred, y_test)\n",
    "rmse = np.sqrt(mean_squared_error(pred, y_test))\n",
    "print(\"r2score=\", r2)\n",
    "print(\"Mean absolute error = \", mae)\n",
    "print(\"Mean Squared error = \", mse)\n",
    "print(\"Root Mean Sqaured Error= \", rmse)"
   ]
  },
  {
   "cell_type": "code",
   "execution_count": null,
   "id": "6a4693a2",
   "metadata": {},
   "outputs": [
    {
     "data": {
      "text/plain": [
       "-0.055658709362409645"
      ]
     },
     "execution_count": 277,
     "metadata": {},
     "output_type": "execute_result"
    }
   ],
   "source": [
    "cv_score = cross_val_score(lasso, x, y, cv=5)\n",
    "cv_mean = cv_score.mean()\n",
    "cv_mean"
   ]
  },
  {
   "cell_type": "code",
   "execution_count": null,
   "id": "3b1c668f",
   "metadata": {},
   "outputs": [
    {
     "name": "stdout",
     "output_type": "stream",
     "text": [
      "r2score= -0.10864056357450647\n",
      "Mean absolute error =  0.167251497028766\n",
      "Mean Squared error =  0.045416480465856085\n",
      "Root Mean Sqaured Error=  0.21311142734695407\n"
     ]
    }
   ],
   "source": [
    " from sklearn.neighbors import KNeighborsRegressor\n",
    "knr = KNeighborsRegressor(n_neighbors=3)\n",
    "knr.fit(X_train, y_train)\n",
    "pred = rfr.predict(X_test)\n",
    "r2 = r2_score(y_test, pred)\n",
    "mae = mean_absolute_error(pred, y_test)\n",
    "mse = mean_squared_error(pred, y_test)\n",
    "rmse = np.sqrt(mean_squared_error(pred, y_test))\n",
    "print(\"r2score=\", r2)\n",
    "print(\"Mean absolute error = \", mae)\n",
    "print(\"Mean Squared error = \", mse)\n",
    "print(\"Root Mean Sqaured Error= \", rmse)"
   ]
  },
  {
   "cell_type": "code",
   "execution_count": null,
   "id": "537b1680",
   "metadata": {},
   "outputs": [
    {
     "data": {
      "text/plain": [
       "0.32228921929688986"
      ]
     },
     "execution_count": 279,
     "metadata": {},
     "output_type": "execute_result"
    }
   ],
   "source": [
    "cv_score = cross_val_score(knr, x, y, cv=5)\n",
    "cv_mean = cv_score.mean()\n",
    "cv_mean"
   ]
  },
  {
   "cell_type": "code",
   "execution_count": null,
   "id": "396a70d5",
   "metadata": {},
   "outputs": [
    {
     "name": "stdout",
     "output_type": "stream",
     "text": [
      "r2score= 0.832067101171921\n",
      "Mean absolute error =  0.0656245393173197\n",
      "Mean Squared error =  0.006879525672963952\n",
      "Root Mean Sqaured Error=  0.08294290610392158\n"
     ]
    }
   ],
   "source": [
    "from sklearn.linear_model import Ridge\n",
    "\n",
    "ridge = Ridge(alpha=0.001, random_state=0)\n",
    "ridge.fit(X_train, y_train)\n",
    "pred = ridge.predict(X_test)\n",
    "r2 = r2_score(y_test, pred)\n",
    "mae = mean_absolute_error(pred, y_test)\n",
    "mse = mean_squared_error(pred, y_test)\n",
    "rmse = np.sqrt(mean_squared_error(pred, y_test))\n",
    "print(\"r2score=\", r2)\n",
    "print(\"Mean absolute error = \", mae)\n",
    "print(\"Mean Squared error = \", mse)\n",
    "print(\"Root Mean Sqaured Error= \", rmse)"
   ]
  },
  {
   "cell_type": "code",
   "execution_count": null,
   "id": "0eca4e1f",
   "metadata": {},
   "outputs": [
    {
     "data": {
      "text/plain": [
       "0.8921247506961453"
      ]
     },
     "execution_count": 281,
     "metadata": {},
     "output_type": "execute_result"
    }
   ],
   "source": [
    "cv_score = cross_val_score(ridge, x, y, cv=3)\n",
    "cv_mean = cv_score.mean()\n",
    "cv_mean"
   ]
  },
  {
   "cell_type": "markdown",
   "id": "2bc7a61e",
   "metadata": {},
   "source": [
    "Cosidering the difference between R2 score and cv mean score we get minimum difference with the Linear Regression model.\n",
    "So we will consider that as the best model.\n"
   ]
  },
  {
   "cell_type": "markdown",
   "id": "f332cd9e",
   "metadata": {},
   "source": [
    "<b>Hyper parameter Tuning<b>\n"
   ]
  },
  {
   "cell_type": "code",
   "execution_count": 31,
   "id": "dde61825",
   "metadata": {},
   "outputs": [],
   "source": [
    "from sklearn.model_selection import GridSearchCV"
   ]
  },
  {
   "cell_type": "code",
   "execution_count": 32,
   "id": "df031dc7",
   "metadata": {},
   "outputs": [],
   "source": [
    "parameter = {\n",
    "    \"fit_intercept\": [True, False],\n",
    "    \"n_jobs\": [42, -1, -10, 1, 10, 100, 200, 500, 35, 25],\n",
    "}"
   ]
  },
  {
   "cell_type": "code",
   "execution_count": 33,
   "id": "4f2eeb84",
   "metadata": {},
   "outputs": [],
   "source": [
    "GCV = GridSearchCV(LinearRegression(), parameter, cv=5)"
   ]
  },
  {
   "cell_type": "code",
   "execution_count": 34,
   "id": "01ef380d",
   "metadata": {},
   "outputs": [
    {
     "data": {
      "text/html": [
       "<style>#sk-container-id-1 {color: black;}#sk-container-id-1 pre{padding: 0;}#sk-container-id-1 div.sk-toggleable {background-color: white;}#sk-container-id-1 label.sk-toggleable__label {cursor: pointer;display: block;width: 100%;margin-bottom: 0;padding: 0.3em;box-sizing: border-box;text-align: center;}#sk-container-id-1 label.sk-toggleable__label-arrow:before {content: \"▸\";float: left;margin-right: 0.25em;color: #696969;}#sk-container-id-1 label.sk-toggleable__label-arrow:hover:before {color: black;}#sk-container-id-1 div.sk-estimator:hover label.sk-toggleable__label-arrow:before {color: black;}#sk-container-id-1 div.sk-toggleable__content {max-height: 0;max-width: 0;overflow: hidden;text-align: left;background-color: #f0f8ff;}#sk-container-id-1 div.sk-toggleable__content pre {margin: 0.2em;color: black;border-radius: 0.25em;background-color: #f0f8ff;}#sk-container-id-1 input.sk-toggleable__control:checked~div.sk-toggleable__content {max-height: 200px;max-width: 100%;overflow: auto;}#sk-container-id-1 input.sk-toggleable__control:checked~label.sk-toggleable__label-arrow:before {content: \"▾\";}#sk-container-id-1 div.sk-estimator input.sk-toggleable__control:checked~label.sk-toggleable__label {background-color: #d4ebff;}#sk-container-id-1 div.sk-label input.sk-toggleable__control:checked~label.sk-toggleable__label {background-color: #d4ebff;}#sk-container-id-1 input.sk-hidden--visually {border: 0;clip: rect(1px 1px 1px 1px);clip: rect(1px, 1px, 1px, 1px);height: 1px;margin: -1px;overflow: hidden;padding: 0;position: absolute;width: 1px;}#sk-container-id-1 div.sk-estimator {font-family: monospace;background-color: #f0f8ff;border: 1px dotted black;border-radius: 0.25em;box-sizing: border-box;margin-bottom: 0.5em;}#sk-container-id-1 div.sk-estimator:hover {background-color: #d4ebff;}#sk-container-id-1 div.sk-parallel-item::after {content: \"\";width: 100%;border-bottom: 1px solid gray;flex-grow: 1;}#sk-container-id-1 div.sk-label:hover label.sk-toggleable__label {background-color: #d4ebff;}#sk-container-id-1 div.sk-serial::before {content: \"\";position: absolute;border-left: 1px solid gray;box-sizing: border-box;top: 0;bottom: 0;left: 50%;z-index: 0;}#sk-container-id-1 div.sk-serial {display: flex;flex-direction: column;align-items: center;background-color: white;padding-right: 0.2em;padding-left: 0.2em;position: relative;}#sk-container-id-1 div.sk-item {position: relative;z-index: 1;}#sk-container-id-1 div.sk-parallel {display: flex;align-items: stretch;justify-content: center;background-color: white;position: relative;}#sk-container-id-1 div.sk-item::before, #sk-container-id-1 div.sk-parallel-item::before {content: \"\";position: absolute;border-left: 1px solid gray;box-sizing: border-box;top: 0;bottom: 0;left: 50%;z-index: -1;}#sk-container-id-1 div.sk-parallel-item {display: flex;flex-direction: column;z-index: 1;position: relative;background-color: white;}#sk-container-id-1 div.sk-parallel-item:first-child::after {align-self: flex-end;width: 50%;}#sk-container-id-1 div.sk-parallel-item:last-child::after {align-self: flex-start;width: 50%;}#sk-container-id-1 div.sk-parallel-item:only-child::after {width: 0;}#sk-container-id-1 div.sk-dashed-wrapped {border: 1px dashed gray;margin: 0 0.4em 0.5em 0.4em;box-sizing: border-box;padding-bottom: 0.4em;background-color: white;}#sk-container-id-1 div.sk-label label {font-family: monospace;font-weight: bold;display: inline-block;line-height: 1.2em;}#sk-container-id-1 div.sk-label-container {text-align: center;}#sk-container-id-1 div.sk-container {/* jupyter's `normalize.less` sets `[hidden] { display: none; }` but bootstrap.min.css set `[hidden] { display: none !important; }` so we also need the `!important` here to be able to override the default hidden behavior on the sphinx rendered scikit-learn.org. See: https://github.com/scikit-learn/scikit-learn/issues/21755 */display: inline-block !important;position: relative;}#sk-container-id-1 div.sk-text-repr-fallback {display: none;}</style><div id=\"sk-container-id-1\" class=\"sk-top-container\"><div class=\"sk-text-repr-fallback\"><pre>GridSearchCV(cv=5, estimator=LinearRegression(),\n",
       "             param_grid={&#x27;fit_intercept&#x27;: [True, False],\n",
       "                         &#x27;n_jobs&#x27;: [42, -1, -10, 1, 10, 100, 200, 500, 35, 25]})</pre><b>In a Jupyter environment, please rerun this cell to show the HTML representation or trust the notebook. <br />On GitHub, the HTML representation is unable to render, please try loading this page with nbviewer.org.</b></div><div class=\"sk-container\" hidden><div class=\"sk-item sk-dashed-wrapped\"><div class=\"sk-label-container\"><div class=\"sk-label sk-toggleable\"><input class=\"sk-toggleable__control sk-hidden--visually\" id=\"sk-estimator-id-1\" type=\"checkbox\" ><label for=\"sk-estimator-id-1\" class=\"sk-toggleable__label sk-toggleable__label-arrow\">GridSearchCV</label><div class=\"sk-toggleable__content\"><pre>GridSearchCV(cv=5, estimator=LinearRegression(),\n",
       "             param_grid={&#x27;fit_intercept&#x27;: [True, False],\n",
       "                         &#x27;n_jobs&#x27;: [42, -1, -10, 1, 10, 100, 200, 500, 35, 25]})</pre></div></div></div><div class=\"sk-parallel\"><div class=\"sk-parallel-item\"><div class=\"sk-item\"><div class=\"sk-label-container\"><div class=\"sk-label sk-toggleable\"><input class=\"sk-toggleable__control sk-hidden--visually\" id=\"sk-estimator-id-2\" type=\"checkbox\" ><label for=\"sk-estimator-id-2\" class=\"sk-toggleable__label sk-toggleable__label-arrow\">estimator: LinearRegression</label><div class=\"sk-toggleable__content\"><pre>LinearRegression()</pre></div></div></div><div class=\"sk-serial\"><div class=\"sk-item\"><div class=\"sk-estimator sk-toggleable\"><input class=\"sk-toggleable__control sk-hidden--visually\" id=\"sk-estimator-id-3\" type=\"checkbox\" ><label for=\"sk-estimator-id-3\" class=\"sk-toggleable__label sk-toggleable__label-arrow\">LinearRegression</label><div class=\"sk-toggleable__content\"><pre>LinearRegression()</pre></div></div></div></div></div></div></div></div></div></div>"
      ],
      "text/plain": [
       "GridSearchCV(cv=5, estimator=LinearRegression(),\n",
       "             param_grid={'fit_intercept': [True, False],\n",
       "                         'n_jobs': [42, -1, -10, 1, 10, 100, 200, 500, 35, 25]})"
      ]
     },
     "execution_count": 34,
     "metadata": {},
     "output_type": "execute_result"
    }
   ],
   "source": [
    "GCV.fit(X_train, y_train)"
   ]
  },
  {
   "cell_type": "code",
   "execution_count": 35,
   "id": "de9f8fcf",
   "metadata": {},
   "outputs": [
    {
     "data": {
      "text/plain": [
       "{'fit_intercept': False, 'n_jobs': 42}"
      ]
     },
     "execution_count": 35,
     "metadata": {},
     "output_type": "execute_result"
    }
   ],
   "source": [
    "GCV.best_params_"
   ]
  },
  {
   "cell_type": "code",
   "execution_count": 37,
   "id": "514694bb",
   "metadata": {},
   "outputs": [
    {
     "name": "stdout",
     "output_type": "stream",
     "text": [
      "0.8505504010594696 0.9104432489131888\n"
     ]
    }
   ],
   "source": [
    "Final_mod = LinearRegression(fit_intercept=False, n_jobs=42)\n",
    "Final_mod.fit(X_train, y_train)\n",
    "pred = Final_mod.predict(X_test)\n",
    "r2 = r2_score(y_test, pred)\n",
    "cv_score = cross_val_score(Final_mod, X_train, y_train, cv=5)\n",
    "cv_mean = cv_score.mean()\n",
    "print(r2, cv_mean)"
   ]
  },
  {
   "cell_type": "markdown",
   "id": "0d64c232",
   "metadata": {},
   "source": [
    "## Serialization\n"
   ]
  },
  {
   "cell_type": "code",
   "execution_count": 38,
   "id": "69b2185e",
   "metadata": {},
   "outputs": [
    {
     "data": {
      "text/plain": [
       "['PM2.5predictor.pkl']"
      ]
     },
     "execution_count": 38,
     "metadata": {},
     "output_type": "execute_result"
    }
   ],
   "source": [
    "# Saving the model\n",
    "import joblib\n",
    "\n",
    "joblib.dump(Final_mod, \"PM2.5predictor.pkl\")"
   ]
  },
  {
   "cell_type": "code",
   "execution_count": null,
   "id": "e867e7e2",
   "metadata": {},
   "outputs": [],
   "source": []
  }
 ],
 "metadata": {
  "kernelspec": {
   "display_name": "Python 3 (ipykernel)",
   "language": "python",
   "name": "python3"
  },
  "language_info": {
   "codemirror_mode": {
    "name": "ipython",
    "version": 3
   },
   "file_extension": ".py",
   "mimetype": "text/x-python",
   "name": "python",
   "nbconvert_exporter": "python",
   "pygments_lexer": "ipython3",
   "version": "3.11.4"
  }
 },
 "nbformat": 4,
 "nbformat_minor": 5
}
